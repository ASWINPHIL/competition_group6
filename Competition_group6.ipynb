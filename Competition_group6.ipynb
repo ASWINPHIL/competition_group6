{
 "cells": [
  {
   "cell_type": "markdown",
   "id": "79be5a1c",
   "metadata": {},
   "source": [
    "# IoT and Sensor Data\n",
    "Group 6 - Batch 5"
   ]
  },
  {
   "cell_type": "code",
   "execution_count": 1,
   "id": "2996097a",
   "metadata": {},
   "outputs": [],
   "source": [
    "#import libraries\n",
    "import pandas as pd\n",
    "import numpy as np\n",
    "import matplotlib.pyplot as plt\n",
    "import seaborn as sns\n",
    "import warnings\n",
    "warnings.filterwarnings(\"ignore\")"
   ]
  },
  {
   "cell_type": "markdown",
   "id": "8daf8de0",
   "metadata": {},
   "source": [
    "# Loading the Data"
   ]
  },
  {
   "cell_type": "code",
   "execution_count": 2,
   "id": "490c42af",
   "metadata": {},
   "outputs": [],
   "source": [
    "data=pd.read_csv('Downloads\\competition_group6.csv')"
   ]
  },
  {
   "cell_type": "code",
   "execution_count": 3,
   "id": "4cccc3ca",
   "metadata": {},
   "outputs": [
    {
     "data": {
      "text/html": [
       "<div>\n",
       "<style scoped>\n",
       "    .dataframe tbody tr th:only-of-type {\n",
       "        vertical-align: middle;\n",
       "    }\n",
       "\n",
       "    .dataframe tbody tr th {\n",
       "        vertical-align: top;\n",
       "    }\n",
       "\n",
       "    .dataframe thead th {\n",
       "        text-align: right;\n",
       "    }\n",
       "</style>\n",
       "<table border=\"1\" class=\"dataframe\">\n",
       "  <thead>\n",
       "    <tr style=\"text-align: right;\">\n",
       "      <th></th>\n",
       "      <th>ts</th>\n",
       "      <th>device</th>\n",
       "      <th>co</th>\n",
       "      <th>humidity</th>\n",
       "      <th>light</th>\n",
       "      <th>lpg</th>\n",
       "      <th>motion</th>\n",
       "      <th>smoke</th>\n",
       "      <th>temp</th>\n",
       "      <th>Data Stream ID</th>\n",
       "      <th>Resource ID</th>\n",
       "      <th>Measurement ID</th>\n",
       "      <th>Record ID</th>\n",
       "    </tr>\n",
       "  </thead>\n",
       "  <tbody>\n",
       "    <tr>\n",
       "      <th>0</th>\n",
       "      <td>1.594512e+09</td>\n",
       "      <td>b8:27:eb:bf:9d:51</td>\n",
       "      <td>0.004956</td>\n",
       "      <td>51.000000</td>\n",
       "      <td>False</td>\n",
       "      <td>0.007651</td>\n",
       "      <td>False</td>\n",
       "      <td>0.020411</td>\n",
       "      <td>22.700000</td>\n",
       "      <td>33313</td>\n",
       "      <td>65523</td>\n",
       "      <td>2.519093e+18</td>\n",
       "      <td>333132519093122000000000.00</td>\n",
       "    </tr>\n",
       "    <tr>\n",
       "      <th>1</th>\n",
       "      <td>1.594512e+09</td>\n",
       "      <td>00:0f:00:70:91:0a</td>\n",
       "      <td>0.002840</td>\n",
       "      <td>76.000000</td>\n",
       "      <td>False</td>\n",
       "      <td>0.005114</td>\n",
       "      <td>False</td>\n",
       "      <td>0.013275</td>\n",
       "      <td>19.700001</td>\n",
       "      <td>33313</td>\n",
       "      <td>65523</td>\n",
       "      <td>2.519093e+18</td>\n",
       "      <td>333132519093122000000000.00</td>\n",
       "    </tr>\n",
       "    <tr>\n",
       "      <th>2</th>\n",
       "      <td>1.594512e+09</td>\n",
       "      <td>b8:27:eb:bf:9d:51</td>\n",
       "      <td>0.004976</td>\n",
       "      <td>50.900000</td>\n",
       "      <td>False</td>\n",
       "      <td>0.007673</td>\n",
       "      <td>False</td>\n",
       "      <td>0.020475</td>\n",
       "      <td>22.600000</td>\n",
       "      <td>33313</td>\n",
       "      <td>65523</td>\n",
       "      <td>2.519093e+18</td>\n",
       "      <td>333132519093123000000000.00</td>\n",
       "    </tr>\n",
       "    <tr>\n",
       "      <th>3</th>\n",
       "      <td>1.594512e+09</td>\n",
       "      <td>1c:bf:ce:15:ec:4d</td>\n",
       "      <td>0.004403</td>\n",
       "      <td>76.800003</td>\n",
       "      <td>True</td>\n",
       "      <td>0.007023</td>\n",
       "      <td>False</td>\n",
       "      <td>0.018628</td>\n",
       "      <td>27.000000</td>\n",
       "      <td>33313</td>\n",
       "      <td>65523</td>\n",
       "      <td>2.519093e+18</td>\n",
       "      <td>333132519093123000000000.00</td>\n",
       "    </tr>\n",
       "    <tr>\n",
       "      <th>4</th>\n",
       "      <td>1.594512e+09</td>\n",
       "      <td>b8:27:eb:bf:9d:51</td>\n",
       "      <td>0.004967</td>\n",
       "      <td>50.900000</td>\n",
       "      <td>False</td>\n",
       "      <td>0.007664</td>\n",
       "      <td>False</td>\n",
       "      <td>0.020448</td>\n",
       "      <td>22.600000</td>\n",
       "      <td>33313</td>\n",
       "      <td>65523</td>\n",
       "      <td>2.519093e+18</td>\n",
       "      <td>333132519093124000000000.00</td>\n",
       "    </tr>\n",
       "  </tbody>\n",
       "</table>\n",
       "</div>"
      ],
      "text/plain": [
       "             ts             device        co   humidity  light       lpg  \\\n",
       "0  1.594512e+09  b8:27:eb:bf:9d:51  0.004956  51.000000  False  0.007651   \n",
       "1  1.594512e+09  00:0f:00:70:91:0a  0.002840  76.000000  False  0.005114   \n",
       "2  1.594512e+09  b8:27:eb:bf:9d:51  0.004976  50.900000  False  0.007673   \n",
       "3  1.594512e+09  1c:bf:ce:15:ec:4d  0.004403  76.800003   True  0.007023   \n",
       "4  1.594512e+09  b8:27:eb:bf:9d:51  0.004967  50.900000  False  0.007664   \n",
       "\n",
       "   motion     smoke       temp  Data Stream ID  Resource ID  Measurement ID  \\\n",
       "0   False  0.020411  22.700000           33313        65523    2.519093e+18   \n",
       "1   False  0.013275  19.700001           33313        65523    2.519093e+18   \n",
       "2   False  0.020475  22.600000           33313        65523    2.519093e+18   \n",
       "3   False  0.018628  27.000000           33313        65523    2.519093e+18   \n",
       "4   False  0.020448  22.600000           33313        65523    2.519093e+18   \n",
       "\n",
       "                     Record ID  \n",
       "0  333132519093122000000000.00  \n",
       "1  333132519093122000000000.00  \n",
       "2  333132519093123000000000.00  \n",
       "3  333132519093123000000000.00  \n",
       "4  333132519093124000000000.00  "
      ]
     },
     "execution_count": 3,
     "metadata": {},
     "output_type": "execute_result"
    }
   ],
   "source": [
    "data.head()"
   ]
  },
  {
   "cell_type": "code",
   "execution_count": 4,
   "id": "53e00a97",
   "metadata": {},
   "outputs": [
    {
     "data": {
      "text/plain": [
       "(405184, 13)"
      ]
     },
     "execution_count": 4,
     "metadata": {},
     "output_type": "execute_result"
    }
   ],
   "source": [
    "data.shape"
   ]
  },
  {
   "cell_type": "code",
   "execution_count": 5,
   "id": "63559dc1",
   "metadata": {},
   "outputs": [
    {
     "name": "stdout",
     "output_type": "stream",
     "text": [
      "<class 'pandas.core.frame.DataFrame'>\n",
      "RangeIndex: 405184 entries, 0 to 405183\n",
      "Data columns (total 13 columns):\n",
      " #   Column          Non-Null Count   Dtype  \n",
      "---  ------          --------------   -----  \n",
      " 0   ts              405184 non-null  float64\n",
      " 1   device          405184 non-null  object \n",
      " 2   co              405184 non-null  float64\n",
      " 3   humidity        405184 non-null  float64\n",
      " 4   light           405184 non-null  bool   \n",
      " 5   lpg             405184 non-null  float64\n",
      " 6   motion          405184 non-null  bool   \n",
      " 7   smoke           405184 non-null  float64\n",
      " 8   temp            405184 non-null  float64\n",
      " 9   Data Stream ID  405184 non-null  int64  \n",
      " 10  Resource ID     405184 non-null  int64  \n",
      " 11  Measurement ID  405184 non-null  float64\n",
      " 12  Record ID       405184 non-null  object \n",
      "dtypes: bool(2), float64(7), int64(2), object(2)\n",
      "memory usage: 34.8+ MB\n"
     ]
    }
   ],
   "source": [
    "data.info()"
   ]
  },
  {
   "cell_type": "code",
   "execution_count": 6,
   "id": "bc34b26a",
   "metadata": {},
   "outputs": [
    {
     "data": {
      "text/html": [
       "<div>\n",
       "<style scoped>\n",
       "    .dataframe tbody tr th:only-of-type {\n",
       "        vertical-align: middle;\n",
       "    }\n",
       "\n",
       "    .dataframe tbody tr th {\n",
       "        vertical-align: top;\n",
       "    }\n",
       "\n",
       "    .dataframe thead th {\n",
       "        text-align: right;\n",
       "    }\n",
       "</style>\n",
       "<table border=\"1\" class=\"dataframe\">\n",
       "  <thead>\n",
       "    <tr style=\"text-align: right;\">\n",
       "      <th></th>\n",
       "      <th>ts</th>\n",
       "      <th>co</th>\n",
       "      <th>humidity</th>\n",
       "      <th>lpg</th>\n",
       "      <th>smoke</th>\n",
       "      <th>temp</th>\n",
       "      <th>Data Stream ID</th>\n",
       "      <th>Resource ID</th>\n",
       "      <th>Measurement ID</th>\n",
       "    </tr>\n",
       "  </thead>\n",
       "  <tbody>\n",
       "    <tr>\n",
       "      <th>count</th>\n",
       "      <td>4.051840e+05</td>\n",
       "      <td>405184.000000</td>\n",
       "      <td>405184.000000</td>\n",
       "      <td>405184.000000</td>\n",
       "      <td>405184.000000</td>\n",
       "      <td>405184.000000</td>\n",
       "      <td>405184.000000</td>\n",
       "      <td>405184.000000</td>\n",
       "      <td>4.051840e+05</td>\n",
       "    </tr>\n",
       "    <tr>\n",
       "      <th>mean</th>\n",
       "      <td>1.594858e+09</td>\n",
       "      <td>0.004639</td>\n",
       "      <td>60.511694</td>\n",
       "      <td>0.007237</td>\n",
       "      <td>0.019264</td>\n",
       "      <td>22.453987</td>\n",
       "      <td>36802.691227</td>\n",
       "      <td>70294.977990</td>\n",
       "      <td>2.519070e+18</td>\n",
       "    </tr>\n",
       "    <tr>\n",
       "      <th>std</th>\n",
       "      <td>1.994984e+05</td>\n",
       "      <td>0.001250</td>\n",
       "      <td>11.366489</td>\n",
       "      <td>0.001444</td>\n",
       "      <td>0.004086</td>\n",
       "      <td>2.698347</td>\n",
       "      <td>2887.173172</td>\n",
       "      <td>3948.058162</td>\n",
       "      <td>4.235914e+13</td>\n",
       "    </tr>\n",
       "    <tr>\n",
       "      <th>min</th>\n",
       "      <td>1.594512e+09</td>\n",
       "      <td>0.001171</td>\n",
       "      <td>1.100000</td>\n",
       "      <td>0.002693</td>\n",
       "      <td>0.006692</td>\n",
       "      <td>0.000000</td>\n",
       "      <td>33313.000000</td>\n",
       "      <td>65523.000000</td>\n",
       "      <td>2.518832e+18</td>\n",
       "    </tr>\n",
       "    <tr>\n",
       "      <th>25%</th>\n",
       "      <td>1.594686e+09</td>\n",
       "      <td>0.003919</td>\n",
       "      <td>51.000000</td>\n",
       "      <td>0.006456</td>\n",
       "      <td>0.017024</td>\n",
       "      <td>19.900000</td>\n",
       "      <td>33313.000000</td>\n",
       "      <td>65523.000000</td>\n",
       "      <td>2.519051e+18</td>\n",
       "    </tr>\n",
       "    <tr>\n",
       "      <th>50%</th>\n",
       "      <td>1.594858e+09</td>\n",
       "      <td>0.004812</td>\n",
       "      <td>54.900000</td>\n",
       "      <td>0.007489</td>\n",
       "      <td>0.019950</td>\n",
       "      <td>22.200000</td>\n",
       "      <td>39184.000000</td>\n",
       "      <td>73554.000000</td>\n",
       "      <td>2.519079e+18</td>\n",
       "    </tr>\n",
       "    <tr>\n",
       "      <th>75%</th>\n",
       "      <td>1.595031e+09</td>\n",
       "      <td>0.005409</td>\n",
       "      <td>74.300003</td>\n",
       "      <td>0.008150</td>\n",
       "      <td>0.021838</td>\n",
       "      <td>23.600000</td>\n",
       "      <td>39184.000000</td>\n",
       "      <td>73554.000000</td>\n",
       "      <td>2.519100e+18</td>\n",
       "    </tr>\n",
       "    <tr>\n",
       "      <th>max</th>\n",
       "      <td>1.595203e+09</td>\n",
       "      <td>0.014420</td>\n",
       "      <td>99.900002</td>\n",
       "      <td>0.016567</td>\n",
       "      <td>0.046590</td>\n",
       "      <td>30.600000</td>\n",
       "      <td>39205.000000</td>\n",
       "      <td>73575.000000</td>\n",
       "      <td>2.519129e+18</td>\n",
       "    </tr>\n",
       "  </tbody>\n",
       "</table>\n",
       "</div>"
      ],
      "text/plain": [
       "                 ts             co       humidity            lpg  \\\n",
       "count  4.051840e+05  405184.000000  405184.000000  405184.000000   \n",
       "mean   1.594858e+09       0.004639      60.511694       0.007237   \n",
       "std    1.994984e+05       0.001250      11.366489       0.001444   \n",
       "min    1.594512e+09       0.001171       1.100000       0.002693   \n",
       "25%    1.594686e+09       0.003919      51.000000       0.006456   \n",
       "50%    1.594858e+09       0.004812      54.900000       0.007489   \n",
       "75%    1.595031e+09       0.005409      74.300003       0.008150   \n",
       "max    1.595203e+09       0.014420      99.900002       0.016567   \n",
       "\n",
       "               smoke           temp  Data Stream ID    Resource ID  \\\n",
       "count  405184.000000  405184.000000   405184.000000  405184.000000   \n",
       "mean        0.019264      22.453987    36802.691227   70294.977990   \n",
       "std         0.004086       2.698347     2887.173172    3948.058162   \n",
       "min         0.006692       0.000000    33313.000000   65523.000000   \n",
       "25%         0.017024      19.900000    33313.000000   65523.000000   \n",
       "50%         0.019950      22.200000    39184.000000   73554.000000   \n",
       "75%         0.021838      23.600000    39184.000000   73554.000000   \n",
       "max         0.046590      30.600000    39205.000000   73575.000000   \n",
       "\n",
       "       Measurement ID  \n",
       "count    4.051840e+05  \n",
       "mean     2.519070e+18  \n",
       "std      4.235914e+13  \n",
       "min      2.518832e+18  \n",
       "25%      2.519051e+18  \n",
       "50%      2.519079e+18  \n",
       "75%      2.519100e+18  \n",
       "max      2.519129e+18  "
      ]
     },
     "execution_count": 6,
     "metadata": {},
     "output_type": "execute_result"
    }
   ],
   "source": [
    "data.describe()"
   ]
  },
  {
   "cell_type": "code",
   "execution_count": 7,
   "id": "725ce9a1",
   "metadata": {},
   "outputs": [
    {
     "data": {
      "text/plain": [
       "ts                0\n",
       "device            0\n",
       "co                0\n",
       "humidity          0\n",
       "light             0\n",
       "lpg               0\n",
       "motion            0\n",
       "smoke             0\n",
       "temp              0\n",
       "Data Stream ID    0\n",
       "Resource ID       0\n",
       "Measurement ID    0\n",
       "Record ID         0\n",
       "dtype: int64"
      ]
     },
     "execution_count": 7,
     "metadata": {},
     "output_type": "execute_result"
    }
   ],
   "source": [
    "data.isnull().sum()"
   ]
  },
  {
   "cell_type": "markdown",
   "id": "596deb71",
   "metadata": {},
   "source": [
    "There are no null values"
   ]
  },
  {
   "cell_type": "markdown",
   "id": "a040959e",
   "metadata": {},
   "source": [
    "# Data Preprocessing\n"
   ]
  },
  {
   "cell_type": "markdown",
   "id": "499fc5df",
   "metadata": {},
   "source": [
    "# 1. Missing Values Handling"
   ]
  },
  {
   "cell_type": "markdown",
   "id": "3a19dfa8",
   "metadata": {},
   "source": [
    "There are no missing values present in the Data"
   ]
  },
  {
   "cell_type": "markdown",
   "id": "c086b0f8",
   "metadata": {},
   "source": [
    "# 2. Outlier Detection and Handling"
   ]
  },
  {
   "cell_type": "code",
   "execution_count": 8,
   "id": "4b106724",
   "metadata": {},
   "outputs": [
    {
     "data": {
      "text/plain": [
       "Text(0.5, 1.0, 'CO')"
      ]
     },
     "execution_count": 8,
     "metadata": {},
     "output_type": "execute_result"
    },
    {
     "data": {
      "image/png": "[encoded data removed]",
      "text/plain": [
       "<Figure size 432x288 with 1 Axes>"
      ]
     },
     "metadata": {
      "needs_background": "light"
     },
     "output_type": "display_data"
    }
   ],
   "source": [
    "#boxplot of co\n",
    "plt.boxplot(data['co'])\n",
    "plt.title('CO')"
   ]
  },
  {
   "cell_type": "code",
   "execution_count": 9,
   "id": "6119c18c",
   "metadata": {},
   "outputs": [
    {
     "name": "stdout",
     "output_type": "stream",
     "text": [
      "Q1 : 0.003918682\n",
      "Q2 : 0.004811521500000001\n",
      "Q3 : 0.005408832\n",
      "Inter Quartile Range :  0.00149015\n",
      "Lower Limit :  0.0016834569999999997\n",
      "Upper Limit :  0.007644056999999999\n"
     ]
    }
   ],
   "source": [
    "# calculating 1st, 2nd and 3rd quartiles\n",
    "Q1=np.percentile(data['co'], 25, interpolation='midpoint')\n",
    "Q2=np.percentile(data['co'], 50, interpolation='midpoint')\n",
    "Q3=np.percentile(data['co'], 75, interpolation='midpoint')\n",
    "print (\"Q1 :\", Q1)\n",
    "print (\"Q2 :\", Q2)\n",
    "print (\"Q3 :\", Q3)\n",
    "\n",
    "# calculating Lower and Upper limit\n",
    "IQR= Q3-Q1\n",
    "Low_lim= Q1-(1.5*IQR)\n",
    "Up_lim= Q3+(1.5*IQR)\n",
    "print(\"Inter Quartile Range : \",IQR)\n",
    "print(\"Lower Limit : \",Low_lim)\n",
    "print(\"Upper Limit : \",Up_lim)"
   ]
  },
  {
   "cell_type": "code",
   "execution_count": 10,
   "id": "441976d9",
   "metadata": {},
   "outputs": [
    {
     "name": "stdout",
     "output_type": "stream",
     "text": [
      "Outliers = \n",
      " [0.007847537, 0.007847537, 0.007681159, 0.007847537, 0.007847537, 0.007681159, 0.007681159, 0.007681159, 0.007681159, 0.007847537, 0.007847537, 0.007847537, 0.007847537, 0.007847537, 0.007847537, 0.007847537, 0.007847537, 0.007681159, 0.007847537, 0.007847537, 0.007847537, 0.007847537, 0.007961624, 0.007847537, 0.007847537, 0.007847537, 0.007847537, 0.008077618, 0.007847537, 0.008437411, 0.007961624, 0.007961624, 0.007847537, 0.007847537, 0.008195556, 0.008315474, 0.007961624, 0.007847537, 0.007847537, 0.007961624, 0.008195556, 0.008077618, 0.008077618, 0.008195556, 0.008077618, 0.008315474, 0.008315474, 0.008315474, 0.008315474, 0.008315474, 0.008195556, 0.008315474, 0.008437411, 0.008437411, 0.008315474, 0.008437411, 0.008437411, 0.008437411, 0.008437411, 0.008437411, 0.008437411, 0.008437411, 0.008437411, 0.008437411, 0.008437411, 0.008437411, 0.008437411, 0.008437411, 0.008437411, 0.008437411, 0.008437411, 0.008437411, 0.008437411, 0.008499384, 0.008468333, 0.008437411, 0.008437411, 0.008437411, 0.008499384, 0.008499384, 0.008593327, 0.008468333, 0.008437411, 0.008499384, 0.008437411, 0.008468333, 0.008468333, 0.008468333, 0.008437411, 0.008468333, 0.008499384, 0.008561881, 0.008561881, 0.008561881, 0.008499384, 0.008530567, 0.008530567, 0.008561881, 0.008561881, 0.008561881, 0.008593327, 0.008593327, 0.008593327, 0.008593327, 0.008561881, 0.008593327, 0.008593327, 0.008720933, 0.008593327, 0.008593327, 0.008593327, 0.008593327, 0.008593327, 0.008593327, 0.008850719, 0.008720933, 0.008593327, 0.008593327, 0.008593327, 0.008720933, 0.008593327, 0.008593327, 0.008720933, 0.008982727, 0.008850719, 0.008850719, 0.008850719, 0.008720933, 0.008850719, 0.008982727, 0.00925358, 0.00925358, 0.009116999, 0.00925358, 0.008850719, 0.008982727, 0.00925358, 0.009116999, 0.00925358, 0.00925358, 0.00925358, 0.00925358, 0.00925358, 0.00925358, 0.009116999, 0.00925358, 0.00925358, 0.00925358, 0.00925358, 0.00925358, 0.00925358, 0.00925358, 0.00925358, 0.00925358, 0.00925358, 0.00925358, 0.00925358, 0.00925358, 0.009464507, 0.009464507, 0.009537135, 0.00925358, 0.00925358, 0.009680972, 0.009464507, 0.009464507, 0.009903137, 0.010365256, 0.010131173, 0.009680972, 0.009903137, 0.009680972, 0.010365256, 0.010365256, 0.010131173, 0.010365256, 0.010365256, 0.010365256, 0.010131173, 0.010365256, 0.010365256, 0.010365256, 0.010365256, 0.010365256, 0.010365256, 0.010365256, 0.010365256, 0.010365256, 0.010365256, 0.010649105, 0.010365256, 0.010365256, 0.010365256, 0.010365256, 0.010526001, 0.010365256, 0.010365256, 0.010526001, 0.010689613, 0.010365256, 0.010365256, 0.010365256, 0.010649105, 0.010365256, 0.010365256, 0.010365256, 0.010365256, 0.010526001, 0.010526001, 0.010856151, 0.011025673, 0.011025673, 0.010856151, 0.010526001, 0.010526001, 0.010526001, 0.010689613, 0.011025673, 0.01119824, 0.011025673, 0.010856151, 0.01119824, 0.010689613, 0.01119824, 0.011025673, 0.011025673, 0.011025673, 0.01119824, 0.01119824, 0.01119824, 0.01119824, 0.01119824, 0.01119824, 0.01119824, 0.01119824, 0.01119824, 0.01119824, 0.01119824, 0.01119824, 0.01119824, 0.011025673, 0.01119824, 0.01119824, 0.01119824, 0.011025673, 0.01119824, 0.01119824, 0.01119824, 0.01119824, 0.01119824, 0.01119824, 0.01119824, 0.01119824, 0.01119824, 0.01119824, 0.01119824, 0.011464387, 0.01119824, 0.01119824, 0.011330417, 0.011330417, 0.01173782, 0.011330417, 0.011330417, 0.011330417, 0.011330417, 0.01119824, 0.011600179, 0.011600179, 0.011464387, 0.011785123, 0.011330417, 0.01119824, 0.011330417, 0.011464387, 0.011600179, 0.011330417, 0.011600179, 0.011330417, 0.011330417, 0.011877338, 0.011600179, 0.011877338, 0.01173782, 0.011464387, 0.01173782, 0.01173782, 0.011877338, 0.011877338, 0.011877338, 0.011877338, 0.01173782, 0.01173782, 0.01173782, 0.01173782, 0.01173782, 0.011877338, 0.011877338, 0.012067368, 0.011877338, 0.011877338, 0.01173782, 0.011877338, 0.011877338, 0.011877338, 0.011877338, 0.011877338, 0.011877338, 0.011877338, 0.011877338, 0.011877338, 0.011877338, 0.011877338, 0.011877338, 0.011877338, 0.011877338, 0.011877338, 0.01173782, 0.011877338, 0.011877338, 0.012067368, 0.012863202, 0.012260896, 0.012067368, 0.012260896, 0.011877338, 0.012260896, 0.011877338, 0.012067368, 0.011877338, 0.011877338, 0.012260896, 0.012457994, 0.012457994, 0.012457994, 0.012067368, 0.012260896, 0.012658737, 0.012457994, 0.012457994, 0.012658737, 0.011877338, 0.012260896, 0.012457994, 0.012260896, 0.012260896, 0.012863202, 0.012863202, 0.012457994, 0.012260896, 0.012260896, 0.012067368, 0.012260896, 0.012457994, 0.012863202, 0.012457994, 0.012260896, 0.012260896, 0.012260896, 0.012457994, 0.012863202, 0.012658737, 0.012863202, 0.012863202, 0.012457994, 0.012457994, 0.012457994, 0.011877338, 0.012658737, 0.012457994, 0.012658737, 0.012658737, 0.012658737, 0.012457994, 0.012658737, 0.012863202, 0.012863202, 0.012658737, 0.012067368, 0.012067368, 0.012658737, 0.012260896, 0.012658737, 0.012863202, 0.012863202, 0.012658737, 0.012457994, 0.012658737, 0.012863202, 0.012457994, 0.012863202, 0.012658737, 0.012658737, 0.012457994, 0.012863202, 0.012863202, 0.012863202, 0.012863202, 0.012457994, 0.012658737, 0.012457994, 0.012863202, 0.012658737, 0.012658737, 0.012457994, 0.012658737, 0.012863202, 0.012658737, 0.012863202, 0.012863202, 0.012658737, 0.012863202, 0.012863202, 0.012658737, 0.012658737, 0.012863202, 0.012863202, 0.012260896, 0.012863202, 0.012863202, 0.012457994, 0.012863202, 0.012863202, 0.012863202, 0.012658737, 0.013397069, 0.012658737, 0.012457994, 0.012658737, 0.012658737, 0.012457994, 0.012863202, 0.012863202, 0.012863202, 0.012863202, 0.012863202, 0.012863202, 0.012863202, 0.012863202, 0.012863202, 0.013179525, 0.012863202, 0.012658737, 0.012863202, 0.012863202, 0.012863202, 0.012863202, 0.012863202, 0.012863202, 0.012863202, 0.013179525, 0.012863202, 0.012863202, 0.012863202, 0.012863202, 0.012863202, 0.012863202, 0.013179525, 0.012863202, 0.012863202, 0.012863202, 0.012863202, 0.012863202, 0.012863202, 0.012863202, 0.012863202, 0.012863202, 0.012863202, 0.012863202, 0.012863202, 0.012863202, 0.012863202, 0.012863202, 0.012863202, 0.013397069, 0.012863202, 0.012863202, 0.012863202, 0.012863202, 0.012863202, 0.012863202, 0.012863202, 0.012863202, 0.013179525, 0.012863202, 0.012658737, 0.012863202, 0.012863202, 0.012863202, 0.012863202, 0.012863202, 0.012863202, 0.013179525, 0.012863202, 0.012863202, 0.012863202, 0.013179525, 0.012863202, 0.012863202, 0.012863202, 0.012863202, 0.013179525, 0.012863202, 0.012863202, 0.012863202, 0.012863202, 0.013179525, 0.012863202, 0.012658737, 0.012863202, 0.012863202, 0.012863202, 0.012863202, 0.012863202, 0.012658737, 0.012863202, 0.012863202, 0.012863202, 0.012863202, 0.012658737, 0.012658737, 0.012863202, 0.012863202, 0.012863202, 0.012863202, 0.012863202, 0.012863202, 0.013179525, 0.012863202, 0.012863202, 0.012863202, 0.012969287, 0.012863202, 0.012863202, 0.012863202, 0.012863202, 0.012863202, 0.012863202, 0.012863202, 0.012863202, 0.012863202, 0.012863202, 0.012863202, 0.013179525, 0.012863202, 0.012969287, 0.012863202, 0.012863202, 0.012863202, 0.012863202, 0.012863202, 0.012863202, 0.012863202, 0.012863202, 0.012863202, 0.012863202, 0.012863202, 0.012863202, 0.012863202, 0.012863202, 0.012863202, 0.012863202, 0.012863202, 0.012863202, 0.012863202, 0.012863202, 0.012863202, 0.012863202, 0.012863202, 0.013179525, 0.012863202, 0.013179525, 0.013179525, 0.012863202, 0.012863202, 0.012863202, 0.012863202, 0.012863202, 0.012863202, 0.012863202, 0.012863202, 0.012863202, 0.012863202, 0.012863202, 0.013179525, 0.012863202, 0.012863202, 0.013504808, 0.012863202, 0.012863202, 0.012863202, 0.012863202, 0.012863202, 0.012863202, 0.013179525, 0.012863202, 0.013504808, 0.012863202, 0.013179525, 0.012863202, 0.012863202, 0.013179525, 0.014420105, 0.013179525, 0.012863202, 0.012863202, 0.012863202, 0.012863202, 0.012863202, 0.012863202, 0.012863202, 0.012863202, 0.012863202, 0.012658737, 0.012863202, 0.012863202, 0.012863202, 0.012863202, 0.012863202, 0.012863202, 0.012863202, 0.012863202, 0.012863202, 0.012863202, 0.012863202, 0.012863202, 0.012863202, 0.012863202, 0.012863202, 0.012863202, 0.012863202, 0.012863202, 0.012863202, 0.012863202, 0.012658737, 0.012658737, 0.012863202, 0.012863202, 0.012863202, 0.012863202, 0.012863202, 0.012863202, 0.012863202, 0.012863202, 0.012863202, 0.012658737, 0.012863202, 0.012863202, 0.012863202, 0.012863202, 0.012863202, 0.012658737, 0.012863202, 0.012863202, 0.012863202, 0.012658737, 0.012863202, 0.012457994, 0.012863202, 0.012658737, 0.012969287, 0.012658737, 0.012658737, 0.012863202, 0.012863202, 0.012863202, 0.012863202, 0.012863202, 0.012863202, 0.012863202, 0.012863202, 0.012457994, 0.012863202, 0.012658737, 0.012863202, 0.012863202, 0.012863202, 0.012863202, 0.012863202, 0.012658737, 0.012863202, 0.012863202, 0.012863202, 0.012863202, 0.012863202, 0.012863202, 0.012863202, 0.012863202, 0.013179525, 0.012658737, 0.012863202, 0.012658737, 0.012863202, 0.012863202, 0.013179525, 0.012658737, 0.012863202, 0.012863202, 0.012863202, 0.012457994, 0.012863202, 0.012658737, 0.012457994, 0.012863202, 0.012658737, 0.012658737, 0.012863202, 0.012863202, 0.012863202, 0.012863202, 0.012863202, 0.012863202, 0.012863202, 0.012863202, 0.012658737, 0.012863202, 0.012863202, 0.012863202, 0.012658737, 0.012658737, 0.012863202, 0.012863202, 0.012863202, 0.012863202, 0.012863202, 0.012658737, 0.012863202, 0.012260896, 0.012658737, 0.012863202, 0.012658737, 0.012457994, 0.012658737, 0.012658737, 0.012457994, 0.012658737, 0.012658737, 0.012260896, 0.012260896, 0.012457994, 0.012863202, 0.012658737, 0.012863202, 0.012658737, 0.012863202, 0.012863202, 0.012863202, 0.012658737, 0.012658737, 0.012863202, 0.012658737, 0.012658737, 0.012457994, 0.012658737, 0.012863202, 0.012863202, 0.012658737, 0.012457994, 0.012658737, 0.012457994, 0.012658737, 0.012762888, 0.012457994, 0.012260896, 0.012260896, 0.012067368, 0.012260896, 0.011877338, 0.012658737, 0.012658737, 0.012260896, 0.011877338, 0.011877338, 0.011877338, 0.012457994, 0.012658737, 0.011877338, 0.01173782, 0.012260896, 0.012067368, 0.011877338, 0.012067368, 0.011877338, 0.011877338, 0.012067368, 0.011877338, 0.011877338, 0.012067368, 0.011877338, 0.012067368, 0.011877338, 0.011877338, 0.011877338, 0.011877338, 0.011877338, 0.012067368, 0.011877338, 0.012067368, 0.011877338, 0.011877338, 0.011877338, 0.011877338, 0.012067368, 0.011877338, 0.011877338, 0.011877338, 0.011877338, 0.011877338, 0.011877338, 0.011877338, 0.011877338, 0.011877338, 0.011877338, 0.011877338, 0.012260896, 0.011877338, 0.011877338, 0.011877338, 0.011877338, 0.011877338, 0.011877338, 0.011877338, 0.011877338, 0.012067368, 0.011877338, 0.011877338, 0.011877338, 0.012067368, 0.012067368, 0.011877338, 0.011877338, 0.012067368, 0.011877338, 0.01173782, 0.011877338, 0.011877338, 0.012067368, 0.011877338, 0.011877338, 0.011877338, 0.011877338, 0.011877338, 0.011877338, 0.011877338, 0.011877338, 0.011877338, 0.012361297, 0.012067368, 0.011877338, 0.011877338, 0.011877338, 0.011877338, 0.011877338, 0.011877338, 0.011877338, 0.012067368, 0.011877338, 0.011877338, 0.011877338, 0.011877338, 0.012067368, 0.011877338, 0.011877338, 0.011877338, 0.011877338, 0.011877338, 0.011877338, 0.011877338, 0.011877338, 0.011877338, 0.011877338, 0.011877338, 0.011877338, 0.01173782, 0.011877338, 0.011877338, 0.011877338, 0.011877338, 0.011877338, 0.012067368, 0.011877338, 0.011877338, 0.011877338, 0.011877338, 0.011925287, 0.011877338, 0.011877338, 0.012067368, 0.01173782, 0.011877338, 0.012067368, 0.01173782, 0.011877338, 0.011877338, 0.011877338, 0.011877338, 0.011877338, 0.011877338, 0.011877338, 0.011877338, 0.011925287, 0.011877338, 0.011877338, 0.01173782, 0.01173782, 0.011600179, 0.011877338, 0.011877338, 0.01173782, 0.011877338, 0.011877338, 0.01173782, 0.01173782, 0.01173782, 0.011877338, 0.011877338, 0.011877338, 0.011877338, 0.011877338, 0.011877338, 0.011877338, 0.011600179, 0.011600179, 0.011877338, 0.011877338, 0.011877338, 0.011877338, 0.011877338, 0.011877338, 0.011877338, 0.011877338, 0.01173782, 0.011877338, 0.011877338, 0.01173782, 0.011877338, 0.011877338, 0.011877338, 0.011600179, 0.011877338, 0.011877338, 0.01173782, 0.011877338, 0.01173782, 0.01173782, 0.011600179, 0.011600179, 0.01173782, 0.011877338, 0.011600179, 0.01173782, 0.011877338, 0.011877338, 0.01173782, 0.01173782, 0.011877338, 0.011877338, 0.011877338, 0.01173782, 0.011600179, 0.011330417, 0.01173782, 0.011464387, 0.011600179, 0.011464387, 0.011330417, 0.01173782, 0.011464387, 0.011600179, 0.01173782, 0.011330417, 0.011330417, 0.011464387, 0.01119824, 0.01173782, 0.011464387, 0.011785123, 0.01119824, 0.01173782, 0.01173782, 0.01173782, 0.011925287, 0.011464387, 0.01173782, 0.011600179, 0.011464387, 0.011330417, 0.01119824, 0.01119824, 0.011330417, 0.01119824, 0.011155513, 0.011464387, 0.011600179, 0.01119824, 0.011600179, 0.011330417, 0.01173782, 0.011330417, 0.01119824, 0.011330417, 0.011330417, 0.011025673, 0.01119824, 0.01119824, 0.01119824, 0.01119824, 0.01119824, 0.01119824, 0.01119824, 0.01119824, 0.01119824, 0.01119824, 0.011330417, 0.01119824, 0.01119824, 0.01119824, 0.01119824, 0.01119824, 0.01119824, 0.01119824, 0.01119824, 0.01119824, 0.011025673, 0.01119824, 0.010856151, 0.011025673, 0.011025673, 0.01119824, 0.01119824, 0.01119824, 0.01119824, 0.01119824, 0.01119824, 0.01119824, 0.01119824, 0.01119824, 0.01119824, 0.01119824, 0.01119824, 0.011025673, 0.01119824, 0.01119824, 0.01119824, 0.01119824, 0.01119824, 0.010856151, 0.01119824, 0.01119824, 0.01119824, 0.01119824, 0.0109837, 0.011025673, 0.01119824, 0.010689613, 0.011025673, 0.011025673, 0.01119824, 0.010856151, 0.011025673, 0.011025673, 0.010856151, 0.011025673, 0.010856151, 0.010856151, 0.01119824, 0.011025673, 0.010856151, 0.011025673, 0.011025673, 0.010689613, 0.011025673, 0.010689613, 0.010689613, 0.011025673, 0.011025673, 0.010856151, 0.011025673, 0.011025673, 0.010856151, 0.011025673, 0.011025673, 0.011025673, 0.010689613, 0.010856151, 0.01119824, 0.01119824, 0.010856151, 0.011330417, 0.011025673, 0.010689613, 0.011025673, 0.01119824, 0.010856151, 0.010526001, 0.01119824, 0.010526001, 0.010856151, 0.011025673, 0.011025673, 0.011025673, 0.010689613, 0.010689613, 0.010856151, 0.010856151, 0.010689613, 0.011025673, 0.011025673, 0.011025673, 0.010856151, 0.011025673, 0.010856151, 0.010689613, 0.010856151, 0.011025673, 0.011025673, 0.011155513, 0.010689613, 0.010856151, 0.010856151, 0.010365256, 0.01119824, 0.010856151, 0.011025673, 0.010689613, 0.011025673, 0.010526001, 0.010526001, 0.010365256, 0.010689613, 0.010526001, 0.010856151, 0.010526001, 0.010526001, 0.010689613, 0.010689613, 0.010365256, 0.010689613, 0.010689613, 0.010365256, 0.010365256, 0.010649105, 0.010365256, 0.010365256, 0.010365256, 0.010365256, 0.010526001, 0.010526001, 0.010526001, 0.010365256, 0.010365256, 0.010365256, 0.010689613, 0.010689613, 0.010365256, 0.010365256, 0.010365256, 0.010365256, 0.010365256, 0.010365256, 0.010365256, 0.010365256, 0.010365256, 0.010131173, 0.010365256, 0.010526001, 0.010365256, 0.010365256, 0.010365256, 0.010365256, 0.010365256, 0.010526001, 0.010526001, 0.010365256, 0.010365256, 0.010365256, 0.010365256, 0.010365256, 0.010365256, 0.010365256, 0.010365256, 0.010365256, 0.010526001, 0.010526001, 0.010365256, 0.010365256, 0.010365256, 0.010365256, 0.010365256, 0.010365256, 0.010365256, 0.010365256, 0.010365256, 0.010365256, 0.010365256, 0.010365256, 0.010365256, 0.010131173, 0.010365256, 0.010365256, 0.010365256, 0.010131173, 0.010131173, 0.010365256, 0.010365256, 0.010365256, 0.010365256, 0.010131173, 0.010365256, 0.010131173, 0.010365256, 0.010365256, 0.010365256, 0.010365256, 0.010365256, 0.010131173, 0.010131173, 0.009903137, 0.010131173, 0.009680972, 0.009903137, 0.010131173, 0.010131173, 0.009680972, 0.009903137, 0.010131173, 0.009903137, 0.009680972, 0.010131173, 0.009680972, 0.010131173, 0.009324352, 0.009903137, 0.010365256, 0.010131173, 0.010055675, 0.009903137, 0.009680972, 0.009903137, 0.009903137, 0.009464507, 0.009464507, 0.00925358, 0.00925358, 0.00925358, 0.00925358, 0.008949641, 0.009116999, 0.00925358, 0.00925358, 0.00925358, 0.009680972, 0.00925358, 0.00925358, 0.00925358, 0.00925358, 0.00925358, 0.00925358, 0.00925358, 0.00925358, 0.009324352, 0.00925358, 0.00925358, 0.00925358, 0.00925358, 0.009464507, 0.00925358, 0.00925358, 0.009464507, 0.00925358, 0.00925358, 0.009464507, 0.00925358, 0.00925358, 0.00925358, 0.00925358, 0.00925358, 0.00925358, 0.00925358, 0.00925358, 0.009680972, 0.00925358, 0.00925358, 0.009464507, 0.00925358, 0.009464507, 0.00925358, 0.009464507, 0.00925358, 0.00925358, 0.00925358, 0.00925358, 0.00925358, 0.00925358, 0.00925358, 0.00925358, 0.00925358, 0.009464507, 0.00925358, 0.00925358, 0.00925358, 0.009464507, 0.00925358, 0.00925358, 0.00925358, 0.00925358, 0.00925358, 0.00925358, 0.00925358, 0.00925358, 0.00925358, 0.00925358, 0.00925358, 0.009609309, 0.00925358, 0.00925358, 0.00925358, 0.00925358, 0.009464507, 0.00925358, 0.00925358, 0.00925358, 0.009464507, 0.009116999, 0.009116999, 0.009116999, 0.00925358, 0.00925358, 0.00925358, 0.00925358, 0.00925358, 0.00925358, 0.00925358, 0.009116999, 0.00925358, 0.00925358, 0.00925358, 0.00925358, 0.00925358, 0.00925358, 0.00925358, 0.00925358, 0.00925358, 0.00925358, 0.00925358, 0.00925358, 0.00925358, 0.00925358, 0.00925358, 0.00925358, 0.009116999, 0.00925358, 0.00925358, 0.00925358, 0.00925358, 0.00925358, 0.00925358, 0.009464507, 0.00925358, 0.00925358, 0.00925358, 0.00925358, 0.00925358, 0.00925358, 0.00925358, 0.00925358, 0.00925358, 0.00925358, 0.009116999, 0.009116999, 0.008982727, 0.008982727, 0.008982727, 0.009116999, 0.008982727, 0.008982727, 0.009116999, 0.009116999, 0.00925358, 0.008982727, 0.00925358, 0.008982727, 0.008982727, 0.00925358, 0.008850719, 0.00925358, 0.00925358, 0.009116999, 0.008850719, 0.008720933, 0.008982727, 0.008982727, 0.008850719, 0.008850719, 0.008982727, 0.008982727, 0.009116999, 0.008850719, 0.009116999, 0.008720933, 0.008593327, 0.008688951, 0.008593327, 0.008593327, 0.008593327, 0.008720933, 0.008720933, 0.008593327, 0.008593327, 0.008593327, 0.008850719, 0.008720933, 0.008720933, 0.008593327, 0.008593327, 0.008593327, 0.008850719, 0.008593327, 0.008593327, 0.008720933, 0.008720933, 0.008593327, 0.008720933, 0.008593327, 0.008593327, 0.008593327, 0.008593327, 0.008593327, 0.008593327, 0.008593327, 0.008720933, 0.008593327, 0.008593327, 0.008593327, 0.008593327, 0.008530567, 0.008593327, 0.008561881, 0.008593327, 0.008593327, 0.008688951, 0.008561881, 0.008593327, 0.008593327, 0.008593327, 0.008593327, 0.008593327, 0.008561881, 0.008561881, 0.008657103, 0.008917965, 0.008593327, 0.008720933, 0.008561881, 0.008593327, 0.008593327, 0.008593327, 0.008561881, 0.008561881, 0.008593327, 0.008561881, 0.008593327, 0.008593327, 0.008593327, 0.008561881, 0.008593327, 0.008593327, 0.008561881, 0.008593327, 0.008593327, 0.008561881, 0.008561881, 0.008561881, 0.008593327, 0.008593327, 0.008593327, 0.008593327, 0.008561881, 0.008561881, 0.008530567, 0.008437411, 0.008561881, 0.008593327, 0.008561881, 0.008561881, 0.008468333, 0.008468333, 0.008499384, 0.008593327, 0.008499384, 0.008561881, 0.008561881, 0.008593327, 0.008561881, 0.008530567, 0.008561881, 0.008561881, 0.008561881, 0.008468333, 0.008561881, 0.008437411, 0.008530567, 0.008499384, 0.008468333, 0.008499384, 0.008530567, 0.008561881, 0.008530567, 0.008561881, 0.008468333, 0.008499384, 0.008561881, 0.008530567, 0.008530567, 0.008499384, 0.008437411, 0.008561881, 0.008561881, 0.008561881, 0.008499384, 0.008530567, 0.008468333, 0.008499384, 0.008530567, 0.008593327, 0.008593327, 0.008561881, 0.008530567, 0.008468333, 0.008561881, 0.008530567, 0.008499384, 0.008437411, 0.008468333, 0.008468333, 0.008530567, 0.008499384, 0.008437411, 0.008468333, 0.008468333, 0.008468333, 0.008437411, 0.008468333, 0.008468333, 0.008499384, 0.008561881, 0.008530567, 0.008530567, 0.008530567, 0.008437411, 0.008499384, 0.008561881, 0.008561881, 0.008499384, 0.008499384, 0.008530567, 0.008530567, 0.008530567, 0.008561881, 0.008499384, 0.008530567, 0.008468333, 0.008437411, 0.008437411, 0.008688951, 0.008593327, 0.008530567, 0.008499384, 0.008593327, 0.008530567, 0.008530567, 0.008530567, 0.008468333, 0.008468333, 0.008437411, 0.008468333, 0.008499384, 0.008530567, 0.008499384, 0.008468333, 0.008499384, 0.008468333, 0.008593327, 0.008499384, 0.008530567, 0.008437411, 0.008499384, 0.008561881, 0.008468333, 0.008345884, 0.008468333, 0.008437411, 0.008315474, 0.008437411, 0.008437411, 0.008437411, 0.008499384, 0.008499384, 0.008437411, 0.008437411, 0.008437411, 0.008530567, 0.008468333, 0.008499384, 0.008437411, 0.008468333, 0.008437411, 0.008437411, 0.008437411, 0.008437411, 0.008437411, 0.008437411, 0.008437411, 0.008437411, 0.008437411, 0.008437411, 0.008437411, 0.008437411, 0.008437411, 0.008468333, 0.008437411, 0.008468333, 0.008437411, 0.008468333, 0.008437411, 0.008437411, 0.008437411, 0.008437411, 0.008468333, 0.008437411, 0.008593809, 0.008437411, 0.008437411, 0.008437411, 0.008437411, 0.008437411, 0.008437411, 0.008437411, 0.008437411, 0.008437411, 0.008315474, 0.008437411, 0.008437411, 0.008437411, 0.008195556, 0.008468333, 0.008437411, 0.008437411, 0.008437411, 0.008195556, 0.008437411, 0.008437411, 0.008437411, 0.008437411, 0.008437411, 0.008315474, 0.008437411, 0.008437411, 0.008437411, 0.008437411, 0.008437411, 0.008437411, 0.008315474, 0.008315474, 0.008437411, 0.008437411, 0.008437411, 0.008437411, 0.008437411, 0.008437411, 0.008437411, 0.008315474, 0.008437411, 0.008437411, 0.008437411, 0.008315474, 0.008195556, 0.008437411, 0.008315474, 0.008437411, 0.008315474, 0.008195556, 0.008195556, 0.008315474, 0.008315474, 0.008437411, 0.008315474, 0.008315474, 0.007847537, 0.008195556, 0.008020696, 0.008195556, 0.008225462, 0.008195556, 0.008077618, 0.007961624, 0.008315474, 0.008195556, 0.008077618, 0.008077618, 0.008077618, 0.008195556, 0.007847537, 0.007681159, 0.007961624, 0.008077618, 0.007847537, 0.008077618, 0.007847537, 0.008195556, 0.008315474, 0.008195556, 0.008195556, 0.008077618, 0.008195556, 0.008077618, 0.007961624, 0.008195556, 0.007961624, 0.008077618, 0.008195556, 0.007847537, 0.008195556, 0.007961624, 0.008077618, 0.008195556, 0.008077618, 0.008077618, 0.007961624, 0.008195556, 0.007847537, 0.007961624, 0.007961624, 0.008195556, 0.008225462, 0.008195556, 0.007847537, 0.007847537, 0.007847537, 0.007847537, 0.007961624, 0.007847537, 0.008077618, 0.007847537, 0.007847537, 0.008077618, 0.007961624, 0.007961624, 0.007792471, 0.007847537, 0.007961624, 0.008077618, 0.007961624, 0.007847537, 0.007847537, 0.007847537, 0.007847537, 0.007961624, 0.007847537, 0.007847537, 0.007847537, 0.007961624, 0.007681159, 0.007847537, 0.007847537, 0.008077618, 0.007961624, 0.007961624, 0.007847537, 0.007961624, 0.007847537, 0.007847537, 0.007961624, 0.007961624, 0.007847537, 0.007961624, 0.007961624, 0.007847537, 0.007847537, 0.008077618, 0.007961624, 0.007961624, 0.007961624, 0.007961624, 0.007847537, 0.007847537, 0.007847537, 0.007847537, 0.008077618, 0.007847537, 0.008195556, 0.007961624, 0.007961624, 0.007847537, 0.007847537, 0.007847537, 0.007847537, 0.007847537, 0.007961624, 0.007847537, 0.007847537, 0.007681159, 0.007847537, 0.007847537, 0.007961624, 0.007961624, 0.007961624, 0.007961624, 0.007847537, 0.007847537, 0.007847537, 0.007847537, 0.007847537, 0.007847537, 0.008077618, 0.007847537, 0.007847537, 0.007847537, 0.007847537, 0.007847537, 0.007847537, 0.007961624, 0.007847537, 0.007847537, 0.007847537, 0.007847537, 0.007847537, 0.007847537, 0.007847537, 0.007847537, 0.007847537, 0.007847537, 0.007847537, 0.007847537, 0.007681159, 0.007847537, 0.007847537, 0.007847537, 0.007847537, 0.007847537, 0.007847537, 0.007847537, 0.007847537, 0.007847537, 0.007847537, 0.007681159, 0.007847537, 0.007847537, 0.007847537, 0.007847537, 0.007681159, 0.007847537, 0.007847537, 0.007847537, 0.007681159, 0.007847537, 0.007847537, 0.007847537, 0.007681159, 0.007847537, 0.007847537, 0.007847537, 0.007847537, 0.007847537, 0.007847537, 0.007847537, 0.007681159, 0.007681159, 0.007681159, 0.007681159, 0.007847537, 0.007681159, 0.007847537, 0.007681159, 0.007681159, 0.007847537, 0.007847537, 0.007847537, 0.007681159, 0.007681159, 0.007847537, 0.007681159, 0.007681159, 0.007681159, 0.007847537, 0.007847537, 0.007681159, 0.007681159, 0.007681159, 0.007681159, 0.007681159, 0.007681159, 0.007792471, 0.007681159, 0.007681159, 0.007681159, 0.007681159, 0.007681159, 0.007681159, 0.007681159, 0.007681159, 0.007681159, 0.007681159, 0.007681159, 0.007681159, 0.007681159, 0.007681159, 0.007681159, 0.007847537, 0.007847537, 0.007681159, 0.007847537, 0.007681159, 0.007847537, 0.007847537, 0.007847537, 0.007847537, 0.007847537, 0.007847537, 0.007847537, 0.007847537, 0.007847537, 0.007847537, 0.007847537, 0.007847537, 0.007847537, 0.007681159, 0.007681159, 0.007847537, 0.007847537, 0.007847537, 0.007847537, 0.007847537, 0.007847537, 0.007847537, 0.007681159, 0.007681159, 0.007847537, 0.007847537, 0.007847537, 0.007847537, 0.007847537, 0.007847537, 0.007961624, 0.007847537, 0.007847537, 0.007681159, 0.007847537, 0.007847537, 0.007961624, 0.008077618, 0.008437411, 0.007847537, 0.007961624, 0.008315474, 0.007961624, 0.007961624, 0.007847537, 0.008195556, 0.008195556, 0.008077618, 0.007961624, 0.008195556, 0.007961624, 0.008315474, 0.007961624, 0.008315474, 0.008437411, 0.008315474, 0.008437411, 0.008195556, 0.008315474, 0.008195556, 0.008077618, 0.008195556, 0.008345884, 0.008315474, 0.008195556, 0.008107031, 0.007961624, 0.008195556, 0.008077618, 0.008315474, 0.008315474, 0.008315474, 0.008077618, 0.008195556, 0.007961624, 0.007847537, 0.008195556, 0.008077618, 0.008195556, 0.008195556, 0.008315474, 0.008315474, 0.008345884, 0.008315474, 0.008437411, 0.008315474, 0.008195556, 0.008437411, 0.008437411, 0.008437411, 0.008437411, 0.008437411, 0.008437411, 0.008225462, 0.008315474, 0.008315474, 0.008437411, 0.008437411, 0.008437411, 0.008437411, 0.008315474, 0.008437411, 0.008315474, 0.008437411, 0.008315474, 0.008437411, 0.008437411, 0.008437411, 0.008437411, 0.008437411, 0.008437411, 0.008437411, 0.008468333, 0.008437411, 0.008315474, 0.008437411, 0.008315474, 0.008437411, 0.008195556, 0.008437411, 0.008437411, 0.008437411, 0.008315474, 0.008437411, 0.008437411, 0.008437411, 0.008437411, 0.008437411, 0.008437411, 0.008437411, 0.008437411, 0.008437411, 0.008437411, 0.008437411, 0.008437411, 0.008437411, 0.008437411, 0.008437411, 0.008437411, 0.008437411, 0.008437411, 0.008437411, 0.008437411, 0.008437411, 0.008437411, 0.008437411, 0.008499384, 0.008437411, 0.008437411, 0.008499384, 0.008437411, 0.008437411, 0.008437411, 0.008468333, 0.008437411, 0.008437411, 0.008437411, 0.008468333, 0.008437411, 0.008468333, 0.008437411, 0.008437411, 0.008437411, 0.008468333, 0.008437411, 0.008437411, 0.008437411, 0.008468333, 0.008437411, 0.008437411, 0.008437411, 0.008437411, 0.008468333, 0.008437411, 0.008437411, 0.008437411, 0.008437411, 0.008437411, 0.008499384, 0.008437411, 0.008468333, 0.008499384, 0.008561881, 0.008437411, 0.008530567, 0.008561881, 0.008468333, 0.008437411, 0.008437411, 0.008468333, 0.008437411, 0.008468333, 0.008468333, 0.008468333, 0.008437411, 0.008437411, 0.008437411, 0.008468333, 0.008437411, 0.008437411, 0.008593809, 0.008437411, 0.008437411, 0.008468333, 0.008437411, 0.008437411, 0.008468333, 0.008437411, 0.008468333, 0.008437411, 0.008437411, 0.008530567, 0.008530567, 0.008499384, 0.008499384, 0.008437411, 0.008437411, 0.008437411, 0.008468333, 0.008593327, 0.008468333, 0.008437411, 0.008437411, 0.008437411, 0.008437411, 0.008437411, 0.008437411, 0.008437411, 0.008437411, 0.008437411, 0.008437411, 0.008468333, 0.008437411, 0.008468333, 0.008468333, 0.008437411, 0.008499384, 0.008437411, 0.008437411, 0.008437411, 0.008437411, 0.008437411, 0.008437411, 0.008437411, 0.008437411, 0.008437411, 0.008499384, 0.008437411, 0.008437411, 0.008468333, 0.008468333, 0.008530567, 0.008468333, 0.008345884, 0.008437411, 0.008437411, 0.008468333, 0.008468333, 0.008437411, 0.008437411, 0.008561881, 0.008468333, 0.008468333, 0.008468333, 0.008499384, 0.008468333, 0.008437411, 0.008437411, 0.008437411, 0.008437411, 0.008437411, 0.008315474, 0.008437411, 0.008437411, 0.008437411, 0.008468333, 0.008437411, 0.008437411, 0.008437411, 0.008499384, 0.008437411, 0.008437411, 0.008468333, 0.008437411, 0.008437411, 0.008437411, 0.008593809, 0.008468333, 0.008437411, 0.008530567, 0.008468333, 0.008499384, 0.008437411, 0.008437411, 0.008468333, 0.008437411, 0.008437411, 0.008437411, 0.008561881, 0.008468333, 0.008437411, 0.008437411, 0.008437411, 0.008468333, 0.008437411, 0.008437411, 0.008437411, 0.008530567, 0.008468333, 0.008437411, 0.008468333, 0.008530567, 0.008468333, 0.008499384, 0.008499384, 0.008561881, 0.008499384, 0.008499384, 0.008530567, 0.008437411, 0.008437411, 0.008468333, 0.008437411, 0.008468333, 0.008499384, 0.008468333, 0.008499384, 0.008468333, 0.008437411, 0.008561881, 0.008499384, 0.008437411, 0.008530567, 0.008499384, 0.008530567, 0.008499384, 0.008530567, 0.008499384, 0.008499384, 0.008499384, 0.008468333, 0.008499384, 0.008499384, 0.008688951, 0.008593327, 0.00843788, 0.008530567, 0.008593327, 0.008593327, 0.008530567, 0.008530567, 0.008468333, 0.008499384, 0.008561881, 0.008593327, 0.008499384, 0.008593327, 0.008530567, 0.008561881, 0.008499384, 0.008561881, 0.008530567, 0.008593327, 0.008530567, 0.008561881, 0.008593327, 0.008499384, 0.008561881, 0.008530567, 0.008561881, 0.008530567, 0.008561881, 0.008561881, 0.008593327, 0.008530567, 0.008530567, 0.008530567, 0.008561881, 0.008593327, 0.008593327, 0.008499384, 0.008530567, 0.008468333, 0.008468333, 0.008468333, 0.008561881, 0.008530567, 0.008499384, 0.008468333, 0.008437411, 0.008468333, 0.008561881, 0.008499384, 0.008468333, 0.008437411, 0.008437411, 0.008437411, 0.008468333, 0.008561881, 0.008499384, 0.008468333, 0.008468333, 0.008437411, 0.008437411, 0.008437411, 0.008437411, 0.008437411, 0.008437411, 0.008437411, 0.008468333, 0.008468333, 0.008468333, 0.008437411, 0.008437411, 0.008437411, 0.008468333, 0.008468333, 0.008437411, 0.008437411, 0.008437411, 0.008437411, 0.008437411, 0.008437411, 0.008468333, 0.008468333, 0.008468333, 0.008437411, 0.008437411, 0.008437411, 0.008437411, 0.008437411, 0.008468333, 0.008437411, 0.008437411, 0.008315474, 0.008437411, 0.008437411, 0.008437411, 0.008437411, 0.008437411, 0.008499384, 0.008437411, 0.008437411, 0.008468333, 0.008437411, 0.008437411, 0.008437411, 0.008437411, 0.008437411, 0.008437411, 0.008437411, 0.008437411, 0.008437411, 0.008437411, 0.008437411, 0.008437411, 0.008437411, 0.008437411, 0.008437411, 0.008437411, 0.008315474, 0.008437411, 0.008437411, 0.008437411, 0.008437411, 0.008437411, 0.008437411, 0.008437411, 0.008315474, 0.008315474, 0.008437411, 0.008437411, 0.008499384, 0.008593809, 0.008437411, 0.008437411, 0.008437411, 0.008437411, 0.008437411, 0.008468333, 0.008468333, 0.008437411, 0.008315474, 0.008437411, 0.008437411, 0.008437411, 0.008437411, 0.008468333, 0.008437411, 0.008468333, 0.008437411, 0.008437411, 0.008437411, 0.008437411, 0.008437411, 0.008499384, 0.008437411, 0.008437411, 0.008315474, 0.008437411, 0.008437411, 0.008499384, 0.008437411, 0.008437411, 0.008437411, 0.008437411, 0.008437411, 0.008437411, 0.008437411, 0.008437411, 0.008437411, 0.008437411, 0.008437411, 0.008437411, 0.008437411, 0.008437411, 0.008437411, 0.008437411, 0.008437411, 0.008437411, 0.008437411, 0.008437411, 0.008437411, 0.008437411, 0.008437411, 0.008437411, 0.008437411, 0.008437411, 0.008437411, 0.008437411, 0.008437411, 0.008437411, 0.008437411, 0.008437411, 0.008437411, 0.008437411, 0.008437411, 0.008437411, 0.008437411, 0.008437411, 0.008437411, 0.008437411, 0.008437411, 0.008437411, 0.008315474, 0.008437411, 0.008437411, 0.008437411, 0.008315474, 0.008315474, 0.008437411, 0.008437411, 0.008437411, 0.008315474, 0.008437411, 0.008437411, 0.008437411, 0.008437411, 0.008315474, 0.008437411, 0.008437411, 0.008437411, 0.008437411, 0.008315474, 0.008315474, 0.008437411, 0.008437411, 0.008315474, 0.008437411, 0.008077618, 0.008437411, 0.008437411, 0.008437411, 0.008315474, 0.008437411, 0.008315474, 0.008437411, 0.008195556, 0.008437411, 0.008315474, 0.007961624, 0.008437411, 0.008195556, 0.008437411, 0.008437411, 0.008437411, 0.008315474, 0.008315474, 0.008315474, 0.008437411, 0.008315474, 0.008437411, 0.008315474, 0.008345884, 0.008437411, 0.008315474, 0.008437411, 0.008315474, 0.008315474, 0.008437411, 0.008315474, 0.008437411, 0.008437411, 0.008195556, 0.008437411, 0.00813768, 0.008437411, 0.008437411, 0.008315474, 0.008437411, 0.008195556, 0.008437411, 0.008437411, 0.008437411, 0.008437411, 0.008437411, 0.008437411, 0.008315474, 0.008315474, 0.008437411, 0.008437411, 0.008437411, 0.008437411, 0.008195556, 0.008437411, 0.008437411, 0.008437411, 0.008315474, 0.008345884, 0.008437411, 0.008315474, 0.008437411, 0.008315474, 0.008315474, 0.008315474, 0.008437411, 0.008437411, 0.008437411, 0.008437411, 0.008437411, 0.008437411, 0.008437411, 0.008437411, 0.008315474, 0.008437411, 0.008315474, 0.008315474, 0.008315474, 0.008315474, 0.008195556, 0.008437411, 0.008437411, 0.008315474, 0.008315474, 0.008315474, 0.008437411, 0.008437411, 0.008437411, 0.008437411, 0.008437411, 0.008437411, 0.008437411, 0.008315474, 0.008437411, 0.008195556, 0.008195556, 0.008315474, 0.008437411, 0.008437411, 0.008437411, 0.008437411, 0.008195556, 0.008437411, 0.008437411, 0.008195556, 0.008437411, 0.008195556, 0.008315474, 0.008315474, 0.008315474, 0.008315474, 0.008437411, 0.008195556, 0.008195556, 0.008195556, 0.008195556, 0.008195556, 0.008315474, 0.008437411, 0.008315474, 0.008315474, 0.008195556, 0.008315474, 0.008195556, 0.008437411, 0.008315474, 0.008195556, 0.008315474, 0.008195556, 0.008195556, 0.008077618, 0.008195556, 0.008315474, 0.008225462, 0.008437411, 0.008077618, 0.007961624, 0.008195556, 0.007847537, 0.007961624, 0.008195556, 0.008195556, 0.008315474, 0.007961624, 0.008077618, 0.007961624, 0.008195556, 0.008195556, 0.00813768, 0.008437411, 0.008195556, 0.007961624, 0.008315474, 0.008315474, 0.008077618, 0.008437411, 0.008195556, 0.008437411, 0.008195556, 0.008077618, 0.008195556, 0.008437411, 0.008077618, 0.008315474, 0.008195556, 0.008195556, 0.008077618, 0.007961624, 0.008195556, 0.008315474, 0.008315474, 0.008315474, 0.008195556, 0.008315474, 0.008195556, 0.008315474, 0.008195556, 0.007961624, 0.008077618, 0.008195556, 0.008195556, 0.008195556, 0.008195556, 0.008315474, 0.008315474, 0.008437411, 0.008437411, 0.008315474, 0.008077618, 0.008077618, 0.008077618, 0.008315474, 0.008195556, 0.007847537, 0.007847537, 0.007792471, 0.008077618, 0.008225462, 0.008195556, 0.008195556, 0.008077618, 0.007961624, 0.008195556, 0.008077618, 0.008315474, 0.008077618, 0.007961624, 0.007847537, 0.007847537, 0.008077618, 0.007847537, 0.007847537, 0.007847537, 0.008195556, 0.007847537, 0.007961624, 0.008315474, 0.007847537, 0.008315474, 0.008077618, 0.008077618, 0.008077618, 0.007847537, 0.007961624, 0.007847537, 0.007847537, 0.007847537, 0.007961624, 0.007847537, 0.007847537, 0.007847537, 0.007847537, 0.007847537, 0.007961624, 0.007847537, 0.007847537, 0.007847537, 0.007847537, 0.007847537, 0.007847537, 0.007847537, 0.007847537, 0.007847537, 0.007847537, 0.007847537, 0.007847537, 0.007847537, 0.007847537, 0.007681159, 0.007847537, 0.007961624, 0.007681159, 0.007847537, 0.007847537, 0.007847537, 0.007847537, 0.007990552, 0.007847537, 0.007847537, 0.007847537, 0.007847537, 0.007847537, 0.007847537, 0.007847537, 0.007847537, 0.007961624, 0.007961624, 0.007847537, 0.007961624, 0.007847537, 0.007847537, 0.007847537, 0.007847537, 0.007847537, 0.007847537, 0.007961624, 0.007847537, 0.007847537, 0.007847537, 0.007961624, 0.007847537, 0.007961624, 0.007847537, 0.007847537, 0.007847537, 0.007847537, 0.007847537, 0.007847537, 0.007847537, 0.007847537, 0.007961624, 0.008315474, 0.007847537, 0.007847537, 0.007847537, 0.007847537, 0.007847537, 0.007847537, 0.007847537, 0.007847537, 0.007847537, 0.008077618, 0.007847537, 0.007847537, 0.007847537, 0.007847537, 0.007847537, 0.007961624, 0.007847537, 0.007847537, 0.007847537, 0.007847537, 0.007961624, 0.007847537, 0.007961624, 0.007847537, 0.007961624, 0.007847537, 0.007961624, 0.007961624, 0.007847537, 0.007961624, 0.007847537, 0.007847537, 0.007961624, 0.007961624, 0.007961624, 0.008315474, 0.008195556, 0.008077618, 0.007847537, 0.007681159, 0.007847537, 0.008077618, 0.007847537, 0.007847537, 0.007847537, 0.008195556, 0.007847537, 0.007847537, 0.007990552, 0.007961624, 0.007847537, 0.007847537, 0.007847537, 0.007847537, 0.007847537, 0.007847537, 0.007847537, 0.007847537, 0.007961624, 0.007792471, 0.007847537, 0.007847537, 0.007847537, 0.007961624, 0.007847537, 0.007847537, 0.007847537, 0.007847537, 0.007847537, 0.007847537, 0.007847537, 0.007847537, 0.007847537, 0.007961624, 0.007961624, 0.007990552, 0.007961624, 0.007847537, 0.007847537, 0.007847537, 0.007847537, 0.007961624, 0.007847537, 0.007847537, 0.007847537, 0.007847537, 0.007847537, 0.007847537, 0.007961624, 0.007681159, 0.007847537, 0.007847537, 0.007847537, 0.007681159, 0.007847537, 0.007961624, 0.007847537, 0.007681159, 0.007847537, 0.007847537, 0.007847537, 0.007847537, 0.007847537, 0.007847537, 0.007847537, 0.007847537, 0.007847537, 0.007847537, 0.007681159, 0.007847537, 0.007681159, 0.007847537, 0.007847537, 0.007847537, 0.007847537, 0.007847537, 0.007681159, 0.007681159, 0.007847537, 0.007847537, 0.007847537, 0.007847537, 0.007847537, 0.007847537, 0.007961624, 0.007847537, 0.007847537, 0.007847537, 0.007792471, 0.007847537, 0.007847537, 0.007847537, 0.007847537, 0.007681159, 0.007681159, 0.007847537, 0.007847537, 0.007847537, 0.007681159, 0.007681159, 0.007681159, 0.007847537, 0.007681159, 0.007681159, 0.007847537, 0.007681159, 0.007847537, 0.007847537, 0.007847537, 0.007792471, 0.007847537, 0.007681159, 0.007681159, 0.007847537, 0.007681159, 0.007681159, 0.007681159, 0.007847537, 0.007847537, 0.007681159, 0.007681159, 0.007681159, 0.007961624, 0.007681159, 0.007681159, 0.007847537, 0.007847537, 0.007847537, 0.007847537, 0.007681159, 0.007681159, 0.007681159, 0.007847537, 0.007847537, 0.007681159, 0.007681159, 0.007847537, 0.007681159, 0.007681159, 0.007681159, 0.007681159, 0.007847537, 0.007681159, 0.007847537, 0.007681159, 0.007681159, 0.007792471, 0.007847537, 0.007681159, 0.007847537, 0.007681159, 0.007847537, 0.007681159, 0.007681159, 0.007681159, 0.007644955, 0.007676382, 0.007670683, 0.007676382, 0.007702405, 0.007644955, 0.007702405, 0.007687933, 0.00772853, 0.007644955, 0.007653478, 0.007647753, 0.007659163, 0.007687933, 0.007688106, 0.007659335, 0.00769083, 0.007685118, 0.007702405, 0.007673573, 0.007644955, 0.007673573, 0.007702405, 0.007673573, 0.007688106, 0.007702405, 0.007644955, 0.007711094, 0.007653478, 0.007645042, 0.007659163, 0.007670764, 0.007699585, 0.007682224, 0.007645042, 0.007664989, 0.007722705, 0.007714001, 0.007682224, 0.007714001, 0.007693785, 0.007699504, 0.00772853, 0.007711175, 0.007650678, 0.007653478, 0.007685118, 0.00769083, 0.007737252, 0.00774017, 0.007734336, 0.007682224, 0.007725663, 0.00772853, 0.007716909, 0.007687933, 0.007734359, 0.007705366, 0.00770827, 0.007702405, 0.007737252, 0.007693785, 0.007699585, 0.00772853, 0.007737252, 0.007667922, 0.00770827, 0.007737299, 0.00774017, 0.007722705, 0.007714001, 0.007722833, 0.007685118, 0.00774309, 0.007711094, 0.007711175, 0.007711175, 0.007716909, 0.00772853, 0.007714001, 0.007714001, 0.007714001, 0.007673573, 0.007696684, 0.00774017, 0.007670683, 0.007722705, 0.007766536, 0.00774017, 0.007699585, 0.007737252, 0.00774601, 0.007716909, 0.00772853, 0.007699504, 0.007716909, 0.00774601, 0.007748932, 0.007748932, 0.007734359, 0.00772853, 0.00772853, 0.007760655, 0.007731444, 0.007760655, 0.00774309, 0.00774601, 0.00772853, 0.007734359, 0.007714001, 0.007734336, 0.007778348, 0.007760655, 0.00774601, 0.007731444, 0.00774601, 0.007757728, 0.007757728, 0.007731444, 0.007772398, 0.00772853, 0.007748932, 0.007757728, 0.007778348, 0.007746057, 0.007772398, 0.007731444, 0.007778348, 0.007757728, 0.007787183, 0.007772481, 0.007748932, 0.007790123, 0.00774309, 0.007772398, 0.007760655, 0.007772481, 0.007769466, 0.007760655, 0.00774601, 0.007766583, 0.007772398, 0.007734359, 0.007781225, 0.007769466, 0.007784162, 0.007790123, 0.007772398, 0.00774601, 0.007757728, 0.007772398, 0.00774601, 0.007819719, 0.007781272, 0.007790123, 0.007801917, 0.007778348, 0.007787183, 0.007757728, 0.007798973, 0.007790123, 0.007757728, 0.007861438, 0.007769466, 0.007781225, 0.007757728, 0.007772398, 0.007798973, 0.00774309, 0.007784162, 0.007784162, 0.007795946, 0.007757728, 0.007784162, 0.007784162, 0.007760655, 0.007784162, 0.007772398, 0.007772398, 0.007769466, 0.007801917, 0.007772398, 0.007784162, 0.007746057, 0.007769466, 0.007798973, 0.007781272, 0.007831565, 0.007784162, 0.007807893, 0.007819719, 0.007798973, 0.007784162, 0.007760655, 0.007813732, 0.007781403, 0.007784162, 0.007819719, 0.007825568, 0.007757728, 0.007813828, 0.007849444, 0.007781225, 0.007795946, 0.007798973, 0.007769466, 0.007795946, 0.007772398, 0.007810782, 0.007801917, 0.007801917, 0.007795946, 0.007861438, 0.007810782, 0.007849444, 0.007810782, 0.007801917, 0.007784162, 0.007831565, 0.007784162, 0.007801917, 0.007790123, 0.007784162, 0.007807751, 0.007831661, 0.007795946, 0.007831565, 0.007807893, 0.007837695, 0.007843432, 0.007813732, 0.007802012, 0.007849444, 0.007790123, 0.007861342, 0.007873453, 0.007831565, 0.007801917, 0.007825568, 0.00778723, 0.007837567, 0.007813732, 0.007843527, 0.007864442, 0.007790123, 0.007801917, 0.007790123, 0.007813732, 0.007903413, 0.007831661, 0.007843432, 0.007784162, 0.007831565, 0.007909382, 0.007891346, 0.007795946, 0.007760655, 0.007867371, 0.007807893, 0.007831565, 0.007831565, 0.007843432, 0.007778348, 0.007825568, 0.007825568, 0.007825568, 0.007819719, 0.007819719, 0.007819719, 0.007772398, 0.007801917, 0.007801917, 0.007843432, 0.007807893, 0.007813732, 0.007849444, 0.007784162, 0.007801917, 0.007849444, 0.007831565, 0.007819719, 0.007849444, 0.007849444, 0.007861342, 0.007807751, 0.007813828, 0.007837567, 0.007772398, 0.007861342, 0.0078793, 0.007825568, 0.007861438, 0.007831565, 0.007861342, 0.007807893, 0.007819719, 0.00783752, 0.007849444, 0.007813732, 0.007840565, 0.007819719, 0.007849444, 0.007819719, 0.007849444, 0.007819719, 0.007813828, 0.007861342, 0.007879396, 0.007873453, 0.007861342, 0.007825568, 0.0078793, 0.007861342, 0.007801917, 0.007843432, 0.007784162, 0.007873453, 0.007819719, 0.007861342, 0.007843527, 0.007825568, 0.007813732, 0.007825568, 0.007784162, 0.007790123, 0.007831661, 0.007861342, 0.007831661, 0.007861342, 0.007784162, 0.007825568, 0.007861342, 0.007843432, 0.007849444, 0.007801917, 0.007790123, 0.007831565, 0.007831565, 0.007813732, 0.007795946, 0.007849444, 0.007813732, 0.007849444, 0.007778348, 0.007891346, 0.007843527, 0.007801917, 0.007873357, 0.0078793, 0.007831565, 0.007790123, 0.007801917, 0.007813732, 0.007813732, 0.007781225, 0.007843432, 0.007843432, 0.007867419, 0.007831565, 0.007813732, 0.007781225, 0.007787183, 0.007825568, 0.007825568, 0.007954889, 0.007900517, 0.007801917, 0.007801917, 0.007849444, 0.007843527, 0.007807751, 0.007837567, 0.007843432, 0.007855415, 0.007802012, 0.007843432, 0.007849444, 0.007801917, 0.007795946, 0.007843527, 0.007831661, 0.007795946, 0.007813732, 0.0078793, 0.007879396, 0.007831565, 0.007855415, 0.007831565, 0.007813732, 0.007813732, 0.007784162, 0.007825568, 0.007772398, 0.007813732, 0.007813732, 0.007801917, 0.007801917, 0.007828607, 0.007795946, 0.007787183, 0.007831565, 0.007784162, 0.007810782, 0.007790123, 0.007784162, 0.007825568, 0.007775461, 0.007790123, 0.007795946, 0.007772398, 0.007772398, 0.007772398, 0.007831565, 0.007784162, 0.007813732, 0.007819719, 0.007807751, 0.007801917, 0.007801917, 0.007790123, 0.007813732, 0.007819719, 0.007798973, 0.007819719, 0.007831565, 0.007772398, 0.007772398, 0.007819719, 0.007843527, 0.007787183, 0.007784162, 0.007843432, 0.007843432, 0.007769466, 0.007813732, 0.007772398, 0.007781225, 0.007810782, 0.007798973, 0.007801917, 0.007757728, 0.007781225, 0.007757728, 0.007843432, 0.007790123, 0.007784162, 0.007825663, 0.007813732, 0.007734359, 0.007849444, 0.007819719, 0.007798973, 0.007784245, 0.007778348, 0.007793194, 0.007849444, 0.007801917, 0.007849444, 0.007801917, 0.007813732, 0.007766536, 0.007807893, 0.007813732, 0.007793004, 0.007819719, 0.007781225, 0.007781225, 0.007775414, 0.007831565, 0.00778723, 0.007772398, 0.007766536, 0.007772398, 0.007772398, 0.007757728, 0.007769466, 0.007757775, 0.007795946, 0.007769466, 0.007760655, 0.00778434, 0.007798973, 0.007813732, 0.007757728, 0.007807751, 0.007769466, 0.007772398, 0.007798973, 0.007793004, 0.007813732, 0.007772398, 0.007795946, 0.007795946, 0.007813815, 0.007760655, 0.007798973, 0.007766536, 0.007751878, 0.007784162, 0.007781225, 0.007801917, 0.007781225, 0.007740485, 0.007772481, 0.007772398, 0.007801917, 0.007763712, 0.007825568, 0.007781225, 0.007772398, 0.007787183, 0.007784162, 0.007743136, 0.007748932, 0.007769466, 0.007795946, 0.007769466, 0.007781225, 0.007772398, 0.007769466, 0.007795946, 0.007769466, 0.007772398, 0.007769466, 0.007781225, 0.007813732, 0.007778348, 0.007754802, 0.007769466, 0.007775414, 0.007746057, 0.00774309, 0.007793004, 0.007793004, 0.007772398, 0.007772398, 0.007828607, 0.007784162, 0.007787325, 0.007816767, 0.007795946, 0.007843432, 0.007831565, 0.007825568, 0.007795946, 0.007775461, 0.007795946, 0.007798973, 0.007801917, 0.007769513, 0.007769466, 0.007728658, 0.007781225, 0.00774601, 0.007772398, 0.007795946, 0.007757775, 0.007784162, 0.007754802, 0.007769466, 0.007790123, 0.007775414, 0.007760655, 0.007757728, 0.007754849, 0.007757728, 0.007781225, 0.007743136, 0.007769466, 0.007760655, 0.007769466, 0.007760655, 0.007757728, 0.007772398, 0.007775414, 0.007784245, 0.007766536, 0.00774309, 0.007760655, 0.007757728, 0.007748932, 0.007795946, 0.007743136, 0.007772398, 0.007772398, 0.007757728, 0.007781225, 0.007810782, 0.007795946, 0.007760655, 0.007816767, 0.007722833, 0.007760655, 0.007784162, 0.007781225, 0.007784162, 0.007769466, 0.007746057, 0.007772398, 0.007757728, 0.007757728, 0.007778348, 0.007772398, 0.007751878, 0.007757728, 0.007760655, 0.007801917, 0.007746057, 0.007760655, 0.007790123, 0.007769466, 0.007754802, 0.007714082, 0.007813732, 0.007749108, 0.00774309, 0.007760655, 0.007760655, 0.00774601, 0.007760655, 0.007757728, 0.00774309, 0.007754802, 0.007734359, 0.007760655, 0.007757728, 0.00774601, 0.007728576, 0.00774309, 0.007802012, 0.007772481, 0.007778348, 0.007754802, 0.007754849, 0.00774309, 0.007784162, 0.007763712, 0.00774601, 0.007757728, 0.007731444, 0.007757728, 0.007754849, 0.007757728, 0.007734359, 0.007775414, 0.007731444, 0.00774309, 0.007734359, 0.007716909, 0.00772853, 0.00774309, 0.007685118, 0.007714129, 0.007731444, 0.00774309, 0.007702486, 0.007714001, 0.007699585, 0.00774309, 0.007725617, 0.00774309, 0.007757728, 0.007757728, 0.007725617, 0.00772853, 0.00774309, 0.007725617, 0.00774309, 0.007719818, 0.007737252, 0.00772853, 0.007685118, 0.007740217, 0.007725617, 0.007682224, 0.00774017, 0.007716909, 0.007670764, 0.007754802, 0.007719818, 0.00774017, 0.007731444, 0.007711094, 0.007702405, 0.007725617, 0.00774601, 0.007682224, 0.007725617, 0.007728576, 0.007714001, 0.007725617, 0.007682224, 0.007740217, 0.00774017, 0.007731444, 0.007688014, 0.007693785, 0.007656452, 0.007676382, 0.007670683, 0.007670683, 0.007659163, 0.007653478, 0.007682224, 0.007670683, 0.007659163, 0.007653478, 0.007647753, 0.007659163, 0.007670683, 0.007687933, 0.007670683, 0.007667876, 0.00765636, 0.007676382, 0.007647753, 0.007653478, 0.007647753, 0.007670775, 0.007644955, 0.001670697, 0.001670697, 0.001670697, 0.001670697, 0.001670697, 0.001670697, 0.001670697, 0.001670697, 0.001670697, 0.001670697, 0.001670697, 0.001654375, 0.001670697, 0.001654375, 0.001670697, 0.001654375, 0.001638236, 0.001670697, 0.001670697, 0.001638236, 0.001638236, 0.001670697, 0.001670697, 0.001654375, 0.001638236, 0.001670697, 0.001670697, 0.001638236, 0.001654375, 0.001654375, 0.001670697, 0.001670697, 0.001670697, 0.001654375, 0.001654375, 0.001638236, 0.001654375, 0.001654375, 0.001638236, 0.001638236, 0.001638236, 0.001670697, 0.001670697, 0.001654375, 0.001638236, 0.001654375, 0.001654375, 0.001654375, 0.001638236, 0.001670697, 0.001670697, 0.001654375, 0.001638236, 0.001654375, 0.001638236, 0.001638236, 0.001654375, 0.001654375, 0.001626309, 0.001679102, 0.001670697, 0.001638236, 0.001638236, 0.001638236, 0.001670697, 0.001670697, 0.001654375, 0.001638236, 0.001638236, 0.001638236, 0.001654375, 0.001670697, 0.001670697, 0.001670697, 0.001638236, 0.001626309, 0.001638236, 0.001638236, 0.001638236, 0.001638236, 0.001670697, 0.001654375, 0.001638236, 0.001638236, 0.001654375, 0.001670697, 0.001654375, 0.001638236, 0.001654375, 0.001638236, 0.001654375, 0.001626309, 0.001638236, 0.001638236, 0.001654375, 0.001638236, 0.001626309, 0.001638236, 0.001626309, 0.001638236, 0.001626309, 0.001638236, 0.001638236, 0.001638236, 0.001638236, 0.001638236, 0.001638236, 0.001638236, 0.001638236, 0.001638236, 0.001638236, 0.001638236, 0.001638236, 0.001654375, 0.001654375, 0.001654375, 0.001654375, 0.001654375, 0.001638236, 0.001638236, 0.001638236, 0.001638236, 0.001638236, 0.001638236, 0.001638236, 0.001638236, 0.001638236, 0.001638236, 0.001626309, 0.001638236, 0.001638236, 0.001638236, 0.001638236, 0.001638236, 0.001638236, 0.001638236, 0.001638236, 0.001670697, 0.001654375, 0.001638236, 0.001638236, 0.001638236, 0.001626309, 0.001638236, 0.001638236, 0.001638236, 0.001638236, 0.001670697, 0.001654375, 0.001638236, 0.001638236, 0.001638236, 0.001654375, 0.001638236, 0.001638236, 0.001654375, 0.001654375, 0.001638236, 0.001638236, 0.001638236, 0.001626309, 0.001638236, 0.001654375, 0.001654375, 0.001638236, 0.001638236, 0.001654375, 0.001654375, 0.001638236, 0.001638236, 0.001638236, 0.001638236, 0.001654375, 0.001638236, 0.001638236, 0.001638236, 0.001638236, 0.001638236, 0.001638236, 0.001638236, 0.001670697, 0.001638236, 0.001654375, 0.001638236, 0.001638236, 0.001638236, 0.001638236, 0.001654375, 0.001638236, 0.001638236, 0.001638236, 0.001638236, 0.001638236, 0.001638236, 0.001638236, 0.001654375, 0.001638236, 0.001638236, 0.001638236, 0.001638236, 0.001638236, 0.001638236, 0.001638236, 0.001638236, 0.001638236, 0.001638236, 0.001638236, 0.001670697, 0.001638236, 0.001638236, 0.001654375, 0.001654375, 0.001654375, 0.001638236, 0.001654375, 0.001654375, 0.001670697, 0.001638236, 0.001638236, 0.001670697, 0.001638236, 0.001638236, 0.001670697, 0.001638236, 0.001670697, 0.001654375, 0.001654375, 0.001654375, 0.001654375, 0.001654375, 0.001654375, 0.001670697, 0.001670697, 0.001654375, 0.001654375, 0.001638236, 0.001638236, 0.001654375, 0.001654375, 0.001654375, 0.001654375, 0.001670697, 0.001638236, 0.001638236, 0.001670697, 0.001670697, 0.001670697, 0.001642313, 0.001638236, 0.001670697, 0.001654375, 0.001654375, 0.001679102, 0.001654375, 0.001670697, 0.001670697, 0.001654375, 0.001642313, 0.001654375, 0.001654375, 0.001638236, 0.001638236, 0.001638236, 0.001654375, 0.001638236, 0.001626309, 0.001638236, 0.001638236, 0.001654375, 0.001638236, 0.001638236, 0.001638236, 0.001638236, 0.001638236, 0.001638236, 0.001654375, 0.001654375, 0.001638236, 0.001638236, 0.001638236, 0.001638236, 0.001638236, 0.001638236, 0.001638236, 0.001654375, 0.001654375, 0.001638236, 0.001638236, 0.001638236, 0.001638236, 0.001638236, 0.001638236, 0.001638236, 0.001638236, 0.001654375, 0.001638236, 0.001654375, 0.001638236, 0.001654375, 0.001638236, 0.001638236, 0.001638236, 0.001638236, 0.001638236, 0.001638236, 0.001638236, 0.001638236, 0.001638236, 0.001654375, 0.001638236, 0.001670697, 0.001638236, 0.001638236, 0.001638236, 0.001654375, 0.001638236, 0.001638236, 0.001638236, 0.001638236, 0.001638236, 0.001626309, 0.001638236, 0.001638236, 0.001638236, 0.001638236, 0.001638236, 0.001654375, 0.001638236, 0.001638236, 0.001638236, 0.001638236, 0.001638236, 0.001638236, 0.001638236, 0.001638236, 0.001654375, 0.001654375, 0.001626309, 0.001626309, 0.001638236, 0.001638236, 0.001638236, 0.001638236, 0.001638236, 0.001638236, 0.001638236, 0.001638236, 0.001638236, 0.001638236, 0.001654375, 0.001638236, 0.001638236, 0.001638236, 0.001638236, 0.001638236, 0.001638236, 0.001638236, 0.001638236, 0.001638236, 0.001638236, 0.001638236, 0.001638236, 0.001654375, 0.001638236, 0.001638236, 0.001638236, 0.001638236, 0.001638236, 0.001638236, 0.001638236, 0.001638236, 0.001638236, 0.001638236, 0.001638236, 0.001626309, 0.001638236, 0.001654375, 0.001626309, 0.001638236, 0.001638236, 0.001638236, 0.001626309, 0.001654375, 0.001638236, 0.001638236, 0.001638236, 0.001638236, 0.001626309, 0.001638236, 0.001638236, 0.001638236, 0.001638236, 0.001638236, 0.001638236, 0.001638236, 0.001638236, 0.001638236, 0.001638236, 0.001626309, 0.001626309, 0.001638236, 0.001638236, 0.001626309, 0.001614482, 0.001626309, 0.001626309, 0.001626309, 0.001638236, 0.001614482, 0.001626309, 0.001638236, 0.001638236, 0.001638236, 0.001638236, 0.001638236, 0.001626309, 0.001638236, 0.001626309, 0.001638236, 0.001638236, 0.001638236, 0.001638236, 0.001626309, 0.001638236, 0.001626309, 0.001638236, 0.001638236, 0.001626309, 0.001638236, 0.001638236, 0.001638236, 0.001638236, 0.001626309, 0.001638236, 0.001638236, 0.001638236, 0.001626309, 0.001638236, 0.001638236, 0.001638236, 0.001626309, 0.001638236, 0.001638236, 0.001638236, 0.001642313, 0.001638236, 0.001638236, 0.001638236, 0.001626309, 0.001638236, 0.001614482, 0.001638236, 0.001626309, 0.001638236, 0.001626309, 0.001638236, 0.001638236, 0.001638236, 0.001638236, 0.001638236, 0.001638236, 0.001638236, 0.001638236, 0.001638236, 0.001638236, 0.001638236, 0.001638236, 0.001638236, 0.001638236, 0.001638236, 0.001638236, 0.001626309, 0.001638236, 0.001638236, 0.001626309, 0.001626309, 0.001638236, 0.001638236, 0.001626309, 0.001638236, 0.001638236, 0.001638236, 0.001638236, 0.001638236, 0.001638236, 0.001638236, 0.001626309, 0.001638236, 0.001638236, 0.001626309, 0.001638236, 0.001638236, 0.001614482, 0.001638236, 0.001638236, 0.001638236, 0.001626309, 0.001638236, 0.001638236, 0.001626309, 0.001638236, 0.001626309, 0.001654375, 0.001638236, 0.001638236, 0.001638236, 0.001638236, 0.001626309, 0.001626309, 0.001626309, 0.001654375, 0.001626309, 0.001638236, 0.001638236, 0.001638236, 0.001626309, 0.001638236, 0.001638236, 0.001638236, 0.001626309, 0.001638236, 0.001638236, 0.001638236, 0.001638236, 0.001654375, 0.001638236, 0.001638236, 0.001626309, 0.001626309, 0.001638236, 0.001638236, 0.001638236, 0.001626309, 0.001638236, 0.001638236, 0.001638236, 0.001626309, 0.001638236, 0.001638236, 0.001638236, 0.001679102, 0.001638236, 0.001602753, 0.001638236, 0.001626309, 0.001638236, 0.001638236, 0.001614482, 0.001638236, 0.001626309, 0.001626309, 0.001602753, 0.001638236, 0.001626309, 0.001638236, 0.001626309, 0.001638236, 0.001626309, 0.001626309, 0.001626309, 0.001638236, 0.001638236, 0.001638236, 0.001626309, 0.001638236, 0.001638236, 0.001626309, 0.001626309, 0.001626309, 0.001638236, 0.001626309, 0.001638236, 0.001626309, 0.001638236, 0.001638236, 0.001626309, 0.001638236, 0.001638236, 0.001638236, 0.001638236, 0.001638236, 0.001638236, 0.001626309, 0.001638236, 0.001626309, 0.001638236, 0.001638236, 0.001614482, 0.001602753, 0.001626309, 0.001638236, 0.001626309, 0.001638236, 0.001638236, 0.001626309, 0.001626309, 0.001638236, 0.001626309, 0.001638236, 0.001654667, 0.001638236, 0.001638236, 0.001614482, 0.001614482, 0.001614482, 0.001614482, 0.001614482, 0.001638236, 0.001614482, 0.001638236, 0.001626309, 0.001626309, 0.001614482, 0.001638236, 0.001626309, 0.001626309, 0.001638236, 0.001602753, 0.001575839, 0.001638236, 0.001614482, 0.001638236, 0.001626309, 0.001638236, 0.001626309, 0.001638236, 0.001638236, 0.001642313, 0.001626309, 0.001626309, 0.001638236, 0.001638236, 0.001638236, 0.001638236, 0.001638236, 0.001638236, 0.001638236, 0.001626309, 0.001626309, 0.001626309, 0.001614482, 0.001626309, 0.001626309, 0.001626309, 0.001626309, 0.001614482, 0.001587342, 0.001638236, 0.001638236, 0.001638236, 0.001638236, 0.001626309, 0.001602753, 0.001626309, 0.001614482, 0.001638236, 0.001626309, 0.001638236, 0.001638236, 0.001626309, 0.001614482, 0.001626309, 0.001638236, 0.001614482, 0.001614482, 0.001626309, 0.001614482, 0.001638236, 0.001602753, 0.001591122, 0.001638236, 0.001602753, 0.001642313, 0.001626309, 0.001626309, 0.001587342, 0.001602753, 0.001626309, 0.001626309, 0.001614482, 0.001591122, 0.001626309, 0.001614482, 0.001626309, 0.001610638, 0.001626309, 0.001626309, 0.001602753, 0.001626309, 0.001614482, 0.001614482, 0.001602753, 0.001626309, 0.001638236, 0.001626309, 0.001614482, 0.001638236, 0.001614482, 0.001626309, 0.001626309, 0.001626309, 0.001614482, 0.001602753, 0.001626309, 0.001591122, 0.001614482, 0.001614482, 0.001626309, 0.001626309, 0.001638236, 0.001591122, 0.001614482, 0.001602753, 0.001591122, 0.001630352, 0.001602753, 0.001638236, 0.001618491, 0.001614482, 0.001602753, 0.001626309, 0.001638236, 0.001614482, 0.001602753, 0.001614482, 0.001638236, 0.001591122, 0.001614482, 0.001602753, 0.001626309, 0.001614482, 0.001602753, 0.001626309, 0.001614482, 0.001638236, 0.001614482, 0.001626309, 0.001626309, 0.001614482, 0.001626309, 0.001602753, 0.001626309, 0.001602753, 0.001591122, 0.001638236, 0.001638236, 0.001626309, 0.001614482, 0.001591122, 0.001591122, 0.001579587, 0.001579587, 0.001602753, 0.001602753, 0.001579587, 0.001591122, 0.001614482, 0.001602753, 0.001602753, 0.001591122, 0.001591122, 0.001614482, 0.001591122, 0.001626309, 0.001614482, 0.001614482, 0.001614482, 0.001602753, 0.001614482, 0.001579587, 0.001626309, 0.001614482, 0.001638236, 0.001614482, 0.001626309, 0.001614482, 0.001626309, 0.001626309, 0.001626309, 0.001638236, 0.001579587, 0.001638236, 0.001602753, 0.001614482, 0.001602753, 0.001638236, 0.001614482, 0.001602753, 0.001614482, 0.001638236, 0.001638236, 0.001626309, 0.001634407, 0.001614482, 0.001591122, 0.001591122, 0.001591122, 0.001638236, 0.001614482, 0.001614482, 0.001602753, 0.001614482, 0.001626309, 0.001614482, 0.001602753, 0.001626309, 0.001614482, 0.001602753, 0.001602753, 0.001614482, 0.001602753, 0.001614482, 0.001626309, 0.001630352, 0.001614482, 0.001638236, 0.001626309, 0.001626309, 0.001602753, 0.001614482, 0.001626309, 0.001638236, 0.001638236, 0.001614482, 0.001602753, 0.001630352, 0.001626309, 0.001626309, 0.001591122, 0.001591122, 0.001626309, 0.001618491, 0.001598941, 0.001602753, 0.001602753, 0.001579587, 0.001591122, 0.001591122, 0.001638236, 0.001626309, 0.001587342, 0.001602753, 0.001614482, 0.001638236, 0.001591122, 0.001602753, 0.001579587, 0.001579587, 0.001591122, 0.001579587, 0.001614482, 0.001579587, 0.001591122, 0.001591122, 0.001614482, 0.001579587, 0.001591122, 0.001614482, 0.001591122, 0.001626309, 0.001626309, 0.001614482, 0.001638236, 0.001591122, 0.001602753, 0.001591122, 0.001614482, 0.001602753, 0.001638236, 0.001602753, 0.001602753, 0.001591122, 0.001630352, 0.001591122, 0.001626309, 0.001638236, 0.001638236, 0.001591122, 0.001591122, 0.001602753, 0.001579587, 0.001591122, 0.001626309, 0.001626309, 0.001602753, 0.001614482, 0.001614482, 0.001591122, 0.001626309, 0.001626309, 0.001591122, 0.001626309, 0.001579587, 0.001614482, 0.001579587, 0.001602753, 0.001614482, 0.001602753, 0.001638236, 0.001591122, 0.001602753, 0.001626309, 0.001626309, 0.001591122, 0.001591122, 0.001626309, 0.001579587, 0.001591122, 0.001591122, 0.001602753, 0.001591122, 0.001614482, 0.001591122, 0.001579587, 0.001602753, 0.001591122, 0.001602753, 0.001602753, 0.001602753, 0.001579587, 0.001579587, 0.001602753, 0.001564431, 0.001626309, 0.001614482, 0.001614482, 0.001602753, 0.001614482, 0.001602753, 0.001602753, 0.001591122, 0.001626309, 0.001602753, 0.001638236, 0.001614482, 0.001614482, 0.001579587, 0.001591122, 0.001614482, 0.001614482, 0.001614482, 0.001591122, 0.001602753, 0.001642313, 0.001614482, 0.001591122, 0.001602753, 0.001579587, 0.001579587, 0.001591122, 0.001602753, 0.001591122, 0.001579587, 0.001579587, 0.001614482, 0.001614482, 0.001579587, 0.001602753, 0.001602753, 0.001579587, 0.001602753, 0.001626309, 0.001591122, 0.001626309, 0.001642313, 0.001579587, 0.001591122, 0.001591122, 0.001638236, 0.001602753, 0.001642313, 0.001614482, 0.001579587, 0.001591122, 0.001614482, 0.001614482, 0.001626309, 0.001602753, 0.001614482, 0.001591122, 0.001591122, 0.001602753, 0.001602753, 0.001614482, 0.001614482, 0.001579587, 0.001614482, 0.001602753, 0.001591122, 0.001591122, 0.001591122, 0.001579587, 0.001591122, 0.001591122, 0.001618491, 0.001626309, 0.001575839, 0.001579587, 0.001579587, 0.001591122, 0.001591122, 0.001579587, 0.001591122, 0.001614482, 0.001602753, 0.001602753, 0.001602753, 0.001579587, 0.001579587, 0.001602753, 0.001602753, 0.001579587, 0.001602753, 0.001602753, 0.001602753, 0.001602753, 0.001579587, 0.001591122, 0.001591122, 0.001591122, 0.001591122, 0.001614482, 0.001602753, 0.001591122, 0.001591122, 0.001579587, 0.001579587, 0.001579587, 0.001591122, 0.001591122, 0.001602753, 0.001591122, 0.001579587, 0.001638236, 0.001579587, 0.001602753, 0.001575839, 0.001579587, 0.001579587, 0.001579587, 0.001591122, 0.001579587, 0.001579587, 0.001579587, 0.001602753, 0.001579587, 0.001579587, 0.001579587, 0.001579587, 0.001591122, 0.001602753, 0.001579587, 0.001602753, 0.001626309, 0.001591122, 0.001587342, 0.001591122, 0.001579587, 0.001579587, 0.001579587, 0.001579587, 0.001579587, 0.001579587, 0.001579587, 0.001579587, 0.001579587, 0.001579587, 0.001579587, 0.001579587, 0.001579587, 0.001579587, 0.001579587, 0.001579587, 0.001579587, 0.001579587, 0.001579587, 0.001579587, 0.001579587, 0.001575839, 0.001579587, 0.001579587, 0.001579587, 0.001564431, 0.001579587, 0.001579587, 0.001579587, 0.001579587, 0.001579587, 0.001579587, 0.001579587, 0.001579587, 0.001579587, 0.001579587, 0.001579587, 0.001579587, 0.001591122, 0.001579587, 0.001579587, 0.001579587, 0.001579587, 0.001579587, 0.001564431, 0.001579587, 0.001579587, 0.001579587, 0.001564431, 0.001606729, 0.001564431, 0.001579587, 0.001591122, 0.001579587, 0.001564431, 0.001579587, 0.001579587, 0.001579587, 0.001579587, 0.001579587, 0.001579587, 0.001579587, 0.001579587, 0.001579587, 0.001579587, 0.001579587, 0.001564431, 0.001579587, 0.001579587, 0.001579587, 0.001579587, 0.001579587, 0.001564431, 0.001579587, 0.001579587, 0.001579587, 0.001575839, 0.001579587, 0.001579587, 0.001564431, 0.001579587, 0.001579587, 0.001591122, 0.001579587, 0.001579587, 0.001579587, 0.001579587, 0.001564431, 0.001579587, 0.001579587, 0.001579587, 0.001579587, 0.001579587, 0.001579587, 0.001579587, 0.001579587, 0.001579587, 0.001579587, 0.001579587, 0.001579587, 0.001579587, 0.001564431, 0.001549442, 0.001579587, 0.001579587, 0.001579587, 0.001564431, 0.001564431, 0.001579587, 0.001579587, 0.001579587, 0.001579587, 0.001579587, 0.001579587, 0.001579587, 0.001579587, 0.001579587, 0.001564431, 0.001579587, 0.001579587, 0.001564431, 0.001579587, 0.001579587, 0.001579587, 0.001579587, 0.001579587, 0.001553385, 0.001549442, 0.001549442, 0.001549442, 0.001564431, 0.001549442, 0.001579587, 0.001564431, 0.001579587, 0.001579587, 0.001579587, 0.001579587, 0.001579587, 0.001579587, 0.001579587, 0.001564431, 0.001579587, 0.001564431, 0.001564431, 0.001591122, 0.001579587, 0.001579587, 0.001564431, 0.001579587, 0.001579587, 0.001579587, 0.001579587, 0.001579587, 0.001579587, 0.001591122, 0.001579587, 0.001579587, 0.001564431, 0.001564431, 0.001579587, 0.001564431, 0.001579587, 0.001579587, 0.001579587, 0.001564431, 0.001564431, 0.001579587, 0.001579587, 0.001564431, 0.001579587, 0.001564431, 0.001534617, 0.001564431, 0.001549442, 0.001564431, 0.001579587, 0.001579587, 0.001564431, 0.001579587, 0.001579587, 0.001579587, 0.001564431, 0.001579587, 0.001534617, 0.001579587, 0.001564431, 0.001579587, 0.001579587, 0.001564431, 0.001579587, 0.001579587, 0.001579587, 0.001534617, 0.001564431, 0.001579587, 0.001579587, 0.001564431, 0.001579587, 0.001564431, 0.001564431, 0.001579587, 0.001534617, 0.001579587, 0.001549442, 0.001579587, 0.001579587, 0.001579587, 0.001579587, 0.001579587, 0.001542164, 0.001564431, 0.001564431, 0.001579587, 0.001564431, 0.001549442, 0.001549442, 0.001564431, 0.001579587, 0.001564431, 0.001527419, 0.001564431, 0.001579587, 0.001564431, 0.001579587, 0.001579587, 0.001549442, 0.001564431, 0.001549442, 0.001579587, 0.001549442, 0.001564431, 0.001579587, 0.001564431, 0.001534617, 0.001549442, 0.001564431, 0.001579587, 0.001564431, 0.001549442, 0.001591122, 0.001564431, 0.001579587, 0.001579587, 0.001564431, 0.001579587, 0.001579587, 0.001579587, 0.001564431, 0.001579587, 0.001549442, 0.001564431, 0.001579587, 0.001579587, 0.001564431, 0.001579587, 0.001564431, 0.001564431, 0.001549442, 0.001564431, 0.001549442, 0.001579587, 0.001564431, 0.001579587, 0.001579587, 0.001564431, 0.001579587, 0.001579587, 0.001534617, 0.001579587, 0.001564431, 0.001579587, 0.001549442, 0.001579587, 0.001564431, 0.001579587, 0.001564431, 0.001579587, 0.001579587, 0.001564431, 0.001579587, 0.001579587, 0.001564431, 0.001549442, 0.001564431, 0.001579587, 0.001579587, 0.001579587, 0.001579587, 0.001564431, 0.001564431, 0.001579587, 0.001579587, 0.001579587, 0.001579587, 0.001564431, 0.001579587, 0.001549442, 0.001564431, 0.001579587, 0.001549442, 0.001564431, 0.001534617, 0.001549442, 0.001579587, 0.001579587, 0.001579587, 0.001579587, 0.001564431, 0.001591122, 0.001579587, 0.001564431, 0.001564431, 0.001549442, 0.001564431, 0.001564431, 0.001579587, 0.001579587, 0.001579587, 0.001564431, 0.001564431, 0.001579587, 0.001564431, 0.001579587, 0.001534617, 0.001519955, 0.001519955, 0.001579587, 0.001549442, 0.001564431, 0.001549442, 0.001564431, 0.001527419, 0.001564431, 0.001579587, 0.001564431, 0.001579587, 0.001579587, 0.001564431, 0.001549442, 0.001591122, 0.001549442, 0.001549442, 0.001549442, 0.001579587, 0.001564431, 0.001579587, 0.001534617, 0.001534617, 0.001549442, 0.001549442, 0.001519955, 0.001534617, 0.001549442, 0.001549442, 0.001549442, 0.001564431, 0.001564431, 0.001564431, 0.001519955, 0.001534617, 0.001549442, 0.001549442, 0.001534617, 0.001564431, 0.001564431, 0.001549442, 0.001498412, 0.001534617, 0.001549442, 0.001534617, 0.001549442, 0.001549442, 0.001534617, 0.001519955, 0.001534617, 0.001534617, 0.001534617, 0.001534617, 0.001564431, 0.001564431, 0.001534617, 0.001519955, 0.001519955, 0.001505453, 0.001519955, 0.001549442, 0.001534617, 0.001505453, 0.001534617, 0.001549442, 0.001534617, 0.001534617, 0.001505453, 0.001519955, 0.001505453, 0.001505453, 0.001505453, 0.001505453, 0.001530991, 0.001505453, 0.001505453, 0.001505453, 0.001564431, 0.001505453, 0.001505453, 0.001505453, 0.001505453, 0.001519955, 0.001519955, 0.001505453, 0.001505453, 0.001505453, 0.001505453, 0.001505453, 0.001505453, 0.001505453, 0.001519955, 0.001505453, 0.001505453, 0.001505453, 0.001505453, 0.001505453, 0.001505453, 0.001505453, 0.001530991, 0.001505453, 0.001505453, 0.001505453, 0.001505453, 0.001505453, 0.001505453, 0.001505453, 0.001505453, 0.001505453, 0.001545775, 0.001505453, 0.001505453, 0.001505453, 0.001505453, 0.001545775, 0.001505453, 0.001505453, 0.001505453, 0.001519955, 0.001505453, 0.001505453, 0.001530991, 0.001505453, 0.001505453, 0.001505453, 0.001505453, 0.001519955, 0.001505453, 0.001505453, 0.001505453, 0.001505453, 0.001505453, 0.001505453, 0.001505453, 0.001519955, 0.001505453, 0.001505453, 0.001505453, 0.001505453, 0.001484146, 0.001505453, 0.001484146, 0.001505453, 0.001505453, 0.001505453, 0.001505453, 0.001505453, 0.001505453, 0.001505453, 0.001505453, 0.001519955, 0.001505453, 0.001505453, 0.001505453, 0.001505453, 0.001505453, 0.001505453, 0.001505453, 0.001505453, 0.001505453, 0.001505453, 0.001484146, 0.001505453, 0.001505453, 0.001505453, 0.001505453, 0.001484146, 0.001505453, 0.001505453, 0.001505453, 0.001505453, 0.001505453, 0.001505453, 0.001505453, 0.001505453, 0.001530991, 0.001505453, 0.001519955, 0.001505453, 0.001505453, 0.001505453, 0.001505453, 0.001484146, 0.001505453, 0.001505453, 0.001505453, 0.001505453, 0.001505453, 0.001505453, 0.001505453, 0.001505453, 0.001505453, 0.001505453, 0.001505453, 0.00147023, 0.001505453, 0.001505453, 0.001505453, 0.001505453, 0.001505453, 0.001505453, 0.001505453, 0.001505453, 0.001505453, 0.001505453, 0.001505453, 0.001505453, 0.001519955, 0.001505453, 0.001505453, 0.001505453, 0.001505453, 0.001505453, 0.001505453, 0.001484146, 0.001519955, 0.001505453, 0.001505453, 0.001519955, 0.001505453, 0.001530991, 0.001505453, 0.001505453, 0.001505453, 0.001505453, 0.001505453, 0.001484146, 0.001505453, 0.001505453, 0.001505453, 0.001505453, 0.001505453, 0.001505453, 0.001505453, 0.001484146, 0.001484146, 0.001505453, 0.001505453, 0.001505453, 0.001505453, 0.001505453, 0.001505453, 0.001484146, 0.001505453, 0.001505453, 0.001505453, 0.001505453, 0.001505453, 0.001505453, 0.001505453, 0.001505453, 0.001505453, 0.001505453, 0.001505453, 0.001505453, 0.001505453, 0.001505453, 0.001505453, 0.001505453, 0.001519955, 0.001505453, 0.001505453, 0.001505453, 0.001505453, 0.001505453, 0.001484146, 0.001505453, 0.00147023, 0.001505453, 0.001505453, 0.001519955, 0.001505453, 0.001505453, 0.001505453, 0.001505453, 0.001484146, 0.001505453, 0.001505453, 0.001505453, 0.001505453, 0.001505453, 0.001530991, 0.001505453, 0.001505453, 0.001505453, 0.001505453, 0.001505453, 0.001484146, 0.001484146, 0.001505453, 0.001505453, 0.001505453, 0.001505453, 0.001505453, 0.001505453, 0.001484146, 0.001484146, 0.001505453, 0.001505453, 0.001484146, 0.001505453, 0.001505453, 0.001505453, 0.001505453, 0.001484146, 0.001505453, 0.001505453, 0.001484146, 0.001505453, 0.001505453, 0.001505453, 0.001505453, 0.001519955, 0.001484146, 0.001505453, 0.001505453, 0.001505453, 0.001505453, 0.001484146, 0.001505453, 0.001505453, 0.001505453, 0.001505453, 0.001484146, 0.001484146, 0.001505453, 0.001505453, 0.001505453, 0.001505453, 0.001505453, 0.001505453, 0.001505453, 0.001484146, 0.001484146, 0.001505453, 0.001505453, 0.001505453, 0.001505453, 0.001505453, 0.001505453, 0.001505453, 0.001505453, 0.001505453, 0.001505453, 0.001505453, 0.001463183, 0.001484146, 0.001484146, 0.001505453, 0.001505453, 0.001484146, 0.001505453, 0.001505453, 0.001505453, 0.001484146, 0.001519955, 0.001505453, 0.001484146, 0.001484146, 0.001505453, 0.001505453, 0.001505453, 0.001484146, 0.001505453, 0.001463183, 0.001505453, 0.001505453, 0.001505453, 0.001519955, 0.001505453, 0.001505453, 0.001505453, 0.001505453, 0.001484146, 0.001505453, 0.001505453, 0.001505453, 0.001505453, 0.001505453, 0.001505453, 0.001484146, 0.001505453, 0.001505453, 0.001505453, 0.001505453, 0.001505453, 0.001505453, 0.001505453, 0.001505453, 0.001505453, 0.001505453, 0.001505453, 0.001505453, 0.001505453, 0.001505453, 0.001505453, 0.001484146, 0.001505453, 0.001505453, 0.001505453, 0.001505453, 0.001505453, 0.001519955, 0.001498412, 0.001505453, 0.001484146, 0.001505453, 0.001505453, 0.001505453, 0.001505453, 0.001505453, 0.001484146, 0.001505453, 0.001505453, 0.001505453, 0.001505453, 0.001505453, 0.001505453, 0.001505453, 0.001505453, 0.001505453, 0.001505453, 0.001505453, 0.001505453, 0.001505453, 0.001530991, 0.001505453, 0.001498412, 0.001505453, 0.001498412, 0.001505453, 0.001505453, 0.001505453, 0.001484146, 0.001505453, 0.001505453, 0.001505453, 0.001505453, 0.001505453, 0.001505453, 0.001484146, 0.001505453, 0.001505453, 0.001505453, 0.001505453, 0.001505453, 0.001505453, 0.001505453, 0.001505453, 0.001505453, 0.001505453, 0.001519955, 0.001484146, 0.001505453, 0.001505453, 0.001505453, 0.001505453, 0.001505453, 0.001505453, 0.001505453, 0.001484146, 0.001505453, 0.001505453, 0.001505453, 0.001505453, 0.001484146, 0.001484146, 0.001505453, 0.001505453, 0.001505453, 0.001505453, 0.001505453, 0.001505453, 0.001505453, 0.001505453, 0.001505453, 0.001484146, 0.001505453, 0.001505453, 0.001484146, 0.001463183, 0.001484146, 0.001505453, 0.001505453, 0.001463183, 0.001484146, 0.001505453, 0.001505453, 0.001505453, 0.001505453, 0.001505453, 0.001505453, 0.001505453, 0.001519955, 0.001505453, 0.001505453, 0.001484146, 0.001484146, 0.001505453, 0.001505453, 0.001463183, 0.001505453, 0.001505453, 0.001505453, 0.001484146, 0.001505453, 0.001505453, 0.001505453, 0.001505453, 0.001505453, 0.001463183, 0.001505453, 0.001505453, 0.001505453, 0.001484146, 0.001505453, 0.001519955, 0.001505453, 0.001484146, 0.001505453, 0.001484146, 0.001484146, 0.001505453, 0.001484146, 0.001484146, 0.001505453, 0.001505453, 0.001463183, 0.001484146, 0.001484146, 0.001505453, 0.001505453, 0.001505453, 0.001505453, 0.001505453, 0.001484146, 0.001505453, 0.001505453, 0.001463183, 0.001484146, 0.001484146, 0.001505453, 0.001519955, 0.001484146, 0.001505453, 0.001505453, 0.001505453, 0.001484146, 0.001484146, 0.001505453, 0.001463183, 0.001505453, 0.001505453, 0.001505453, 0.001505453, 0.001505453, 0.001505453, 0.001484146, 0.001505453, 0.001484146, 0.00144256, 0.001505453, 0.001505453, 0.001505453, 0.001505453, 0.001484146, 0.001505453, 0.001484146, 0.001463183, 0.001505453, 0.001505453, 0.001505453, 0.001484146, 0.001484146, 0.001505453, 0.001484146, 0.001484146, 0.001505453, 0.001505453, 0.001484146, 0.001484146, 0.001463183, 0.001463183, 0.001505453, 0.001463183, 0.001463183, 0.00142227, 0.00144256, 0.00142227, 0.001402307, 0.001484146, 0.00144256, 0.001484146, 0.00144256, 0.001484146, 0.001484146, 0.001484146, 0.001505453, 0.001463183, 0.001463183, 0.001484146, 0.001505453, 0.001505453, 0.001505453, 0.001505453, 0.001484146, 0.001505453, 0.001505453, 0.001519955, 0.001484146, 0.001463183, 0.001484146, 0.001505453, 0.001505453, 0.001505453, 0.001505453, 0.001484146, 0.001505453, 0.001505453, 0.001463183, 0.001484146, 0.001505453, 0.00142227, 0.001505453, 0.001505453, 0.001505453, 0.001505453, 0.001505453, 0.001505453, 0.001484146, 0.001505453, 0.001505453, 0.001505453, 0.001505453, 0.001505453, 0.001505453, 0.001484146, 0.001484146, 0.001505453, 0.001505453, 0.001519955, 0.001505453, 0.001505453, 0.001505453, 0.001505453, 0.001505453, 0.001505453, 0.001505453, 0.001484146, 0.001505453, 0.001505453, 0.001505453, 0.001505453, 0.001463183, 0.001505453, 0.001505453, 0.001505453, 0.001505453, 0.001505453, 0.001505453, 0.001505453, 0.001463183, 0.001484146, 0.001505453, 0.001505453, 0.001505453, 0.001484146, 0.001484146, 0.001505453, 0.001484146, 0.001484146, 0.001449493, 0.001505453, 0.001484146, 0.001505453, 0.001505453, 0.001484146, 0.001509268, 0.001505453, 0.00142227, 0.001505453, 0.001505453, 0.001505453, 0.001519955, 0.001484146, 0.001484146, 0.001484146, 0.001449493, 0.001505453, 0.001505453, 0.001463183, 0.001484146, 0.001505453, 0.001463183, 0.001505453, 0.001505453, 0.001484146, 0.001484146, 0.001505453, 0.001505453, 0.001463183, 0.001505453, 0.001505453, 0.001505453, 0.001484146, 0.001505453, 0.001484146, 0.001484146, 0.00144256, 0.001505453, 0.001505453, 0.001484146, 0.001505453, 0.001505453, 0.001505453, 0.001463183, 0.001463183, 0.00144256, 0.001505453, 0.001484146, 0.001484146, 0.001505453, 0.001484146, 0.001505453, 0.001505453, 0.001463183, 0.001505453, 0.001484146, 0.001505453, 0.001463183, 0.001505453, 0.001505453, 0.001505453, 0.001505453, 0.001484146, 0.001484146, 0.001463183, 0.001484146, 0.001505453, 0.001463183, 0.001463183, 0.001484146, 0.001505453, 0.00144256, 0.001484146, 0.001463183, 0.001463183, 0.001463183, 0.001505453, 0.001484146, 0.001484146, 0.001484146, 0.001484146, 0.001477218, 0.001484146, 0.001484146, 0.001484146, 0.00144256, 0.001484146, 0.00144256, 0.001484146, 0.001463183, 0.00144256, 0.00142227, 0.001505453, 0.001484146, 0.00144256, 0.001484146, 0.001484146, 0.001505453, 0.00144256, 0.001463183, 0.001463183, 0.00144256, 0.001463183, 0.001484146, 0.001463183, 0.001484146, 0.001463183, 0.00144256, 0.00142227, 0.00142227, 0.00144256, 0.001505453, 0.001484146, 0.001505453, 0.001463183, 0.001484146, 0.00144256, 0.001463183, 0.00144256, 0.001463183, 0.00144256, 0.001484146, 0.001463183, 0.00142227, 0.001484146, 0.001484146, 0.001456368, 0.00142227, 0.001484146, 0.00144256, 0.001463183, 0.001484146, 0.001484146, 0.001463183, 0.00144256, 0.00142227, 0.001463183, 0.00144256, 0.001463183, 0.001463183, 0.001409017, 0.001484146, 0.001484146, 0.001463183, 0.00144256, 0.00142227, 0.00142227, 0.00144256, 0.001463183, 0.001505453, 0.001484146, 0.001463183, 0.001463183, 0.001484146, 0.00144256, 0.001505453, 0.001463183, 0.001402307, 0.001429091, 0.00142227, 0.001484146, 0.00144256, 0.00142227, 0.00142227, 0.00144256, 0.001402307, 0.00142227, 0.00142227, 0.001505453, 0.00144256, 0.00142227, 0.00142227, 0.00142227, 0.00142227, 0.00142227, 0.00142227, 0.001402307, 0.001402307, 0.00144256, 0.001449493, 0.00142227, 0.001402307, 0.001402307, 0.001505453, 0.001484146, 0.001484146, 0.00144256, 0.001402307, 0.00142227, 0.001484146, 0.001463183, 0.001505453, 0.00142227, 0.00142227, 0.001484146, 0.00144256, 0.00142227, 0.001463183, 0.00144256, 0.001463183, 0.001402307, 0.001484146, 0.001463183, 0.00142227, 0.001402307, 0.001402307, 0.00142227, 0.001505453, 0.00144256, 0.001463183, 0.001463183, 0.001505453, 0.001505453, 0.001484146, 0.001463183, 0.00142227, 0.00144256, 0.001402307, 0.00144256, 0.00142227, 0.00144256, 0.001463183, 0.001463183, 0.00142227, 0.00144256, 0.001402307, 0.001402307, 0.001402307, 0.00144256, 0.00144256, 0.001402307, 0.001402307, 0.001484146, 0.00144256, 0.001463183, 0.001463183, 0.00142227, 0.00142227, 0.001402307, 0.001402307, 0.00142227, 0.00144256, 0.001463183, 0.001463183, 0.001463183, 0.00144256, 0.00144256, 0.00144256, 0.001463183, 0.00142227, 0.00142227, 0.00142227, 0.00142227, 0.00144256, 0.001402307, 0.00142227, 0.00142227, 0.001463183, 0.00142227, 0.001463183, 0.00144256, 0.001402307, 0.00142227, 0.001402307, 0.001463183, 0.001463183, 0.001402307, 0.00144256, 0.001463183, 0.001484146, 0.001505453, 0.001505453, 0.001484146, 0.001463183, 0.001505453, 0.001463183, 0.001463183, 0.001463183, 0.00144256, 0.001484146, 0.001505453, 0.001463183, 0.00142227, 0.001484146, 0.001463183, 0.00142227, 0.00142227, 0.001463183, 0.001484146, 0.00142227, 0.00142227, 0.001484146, 0.001484146, 0.001484146, 0.001463183, 0.001484146, 0.001484146, 0.001463183, 0.001484146, 0.00144256, 0.00144256, 0.00142227, 0.00144256, 0.001402307, 0.001402307, 0.001463183, 0.001463183, 0.00142227, 0.001463183, 0.00144256, 0.00142227, 0.001402307, 0.001402307, 0.001402307, 0.00144256, 0.001402307, 0.00142227, 0.00144256, 0.00142227, 0.00144256, 0.00144256, 0.00144256, 0.001402307, 0.001402307, 0.00142227, 0.00142227, 0.001402307, 0.001402307, 0.001505453, 0.001463183, 0.00142227, 0.001402307, 0.001402307, 0.001402307, 0.00142227, 0.001402307, 0.001435855, 0.00142227, 0.001402307, 0.001389267, 0.001402307, 0.001402307, 0.001402307, 0.001402307, 0.001402307, 0.001402307, 0.001402307, 0.001402307, 0.001402307, 0.001402307, 0.001402307, 0.00142227, 0.001402307, 0.001402307, 0.001402307, 0.001402307, 0.001402307, 0.001402307, 0.001456368, 0.001402307, 0.001402307, 0.001402307, 0.001402307, 0.001402307, 0.001402307, 0.001402307, 0.001402307, 0.001402307, 0.001402307, 0.00142227, 0.001402307, 0.001389267, 0.001402307, 0.001402307, 0.001402307, 0.001402307, 0.001402307, 0.001402307, 0.001402307, 0.001402307, 0.001402307, 0.001402307, 0.001402307, 0.001389267, 0.001402307, 0.001402307, 0.001402307, 0.001402307, 0.001402307, 0.001402307, 0.001376367, 0.001402307, 0.001402307, 0.001402307, 0.001402307, 0.001402307, 0.001402307, 0.001402307, 0.001402307, 0.001402307, 0.001402307, 0.001402307, 0.001402307, 0.001402307, 0.001402307, 0.001402307, 0.001402307, 0.001402307, 0.001402307, 0.001402307, 0.001389267, 0.001402307, 0.001402307, 0.001402307, 0.001402307, 0.001402307, 0.001402307, 0.001402307, 0.001389267, 0.001402307, 0.001402307, 0.001402307, 0.001402307, 0.001402307, 0.00142227, 0.001402307, 0.001402307, 0.00142227, 0.001402307, 0.001402307, 0.001389267, 0.001402307, 0.00142227, 0.001402307, 0.001402307, 0.001402307, 0.001402307, 0.001402307, 0.001402307, 0.001402307, 0.001402307, 0.00142227, 0.001402307, 0.001402307, 0.001402307, 0.001389267, 0.001389267, 0.001402307, 0.001402307, 0.001402307, 0.001402307, 0.001402307, 0.001402307, 0.001402307, 0.001402307, 0.001389267, 0.001402307, 0.001402307, 0.001402307, 0.001389267, 0.001402307, 0.001402307, 0.001402307, 0.001402307, 0.001402307, 0.001402307, 0.001402307, 0.001402307, 0.001389267, 0.001402307, 0.001402307, 0.001402307, 0.001402307, 0.001402307, 0.001402307, 0.001402307, 0.001402307, 0.001402307, 0.001402307, 0.001402307, 0.001402307, 0.001402307, 0.001402307, 0.001402307, 0.001402307, 0.001376367, 0.001402307, 0.001402307, 0.001402307, 0.001402307, 0.001402307, 0.001402307, 0.001402307, 0.001402307, 0.001402307, 0.001435855, 0.001402307, 0.001402307, 0.001389267, 0.001402307, 0.001402307, 0.001402307, 0.001389267, 0.001402307, 0.001402307, 0.001402307, 0.001389267, 0.001402307, 0.001402307, 0.001402307, 0.001402307, 0.001402307, 0.001402307, 0.001402307, 0.001402307, 0.001402307, 0.001402307, 0.001389267, 0.001402307, 0.001402307, 0.001402307, 0.001402307, 0.001402307, 0.001402307, 0.001402307, 0.001402307, 0.001402307, 0.001402307, 0.001402307, 0.001402307, 0.001402307, 0.001376367, 0.001402307, 0.001389267, 0.001389267, 0.001389267, 0.001402307, 0.001402307, 0.001402307, 0.001402307, 0.00142227, 0.001389267, 0.001402307, 0.001389267, 0.001402307, 0.001389267, 0.001402307, 0.001389267, 0.001402307, 0.001402307, 0.001402307, 0.001389267, 0.001402307, 0.001402307, 0.001389267, 0.001402307, 0.001402307, 0.001402307, 0.001389267, 0.001402307, 0.001402307, 0.001402307, 0.001402307, 0.001389267, 0.00142227, 0.001402307, 0.001402307, 0.001402307, 0.001402307, 0.001402307, 0.001402307, 0.001402307, 0.001402307, 0.001402307, 0.001402307, 0.001402307, 0.001402307, 0.001402307, 0.001402307, 0.001402307, 0.001402307, 0.001402307, 0.001376367, 0.001402307, 0.001402307, 0.001402307, 0.001402307, 0.001363603, 0.001389267, 0.001402307, 0.001389267, 0.001389267, 0.001389267, 0.001402307, 0.001402307, 0.001402307, 0.001402307, 0.001402307, 0.001402307, 0.001402307, 0.001402307, 0.001389267, 0.001402307, 0.001389267, 0.001402307, 0.001402307, 0.001402307, 0.001402307, 0.001389267, 0.001389267, 0.001402307, 0.001389267, 0.001389267, 0.001402307, 0.001389267, 0.001389267, 0.001402307, 0.001402307, 0.001389267, 0.001402307, 0.001402307, 0.001389267, 0.001402307, 0.001402307, 0.001402307, 0.001402307, 0.001376367, 0.001402307, 0.001389267, 0.001373174, 0.00142227, 0.001389267, 0.001389267, 0.001389267, 0.001389267, 0.001389267, 0.001389267, 0.001389267, 0.001402307, 0.001389267, 0.001389267, 0.001402307, 0.001402307, 0.001376367, 0.001402307, 0.001402307, 0.001435855, 0.001402307, 0.001389267, 0.001389267, 0.001389267, 0.001402307, 0.001402307, 0.001389267, 0.001402307, 0.001389267, 0.001402307, 0.001402307, 0.001389267, 0.001402307, 0.001402307, 0.001402307, 0.001402307, 0.001402307, 0.001402307, 0.001402307, 0.001402307, 0.001402307, 0.001402307, 0.001402307, 0.001402307, 0.001402307, 0.001402307, 0.001363603, 0.001402307, 0.001376367, 0.00142227, 0.001402307, 0.00142227, 0.001389267, 0.001389267, 0.001402307, 0.001402307, 0.001389267, 0.001402307, 0.001376367, 0.001402307, 0.001402307, 0.001389267, 0.001389267, 0.001389267, 0.001389267, 0.001402307, 0.001402307, 0.001402307, 0.001389267, 0.001389267, 0.001389267, 0.001402307, 0.001402307, 0.001389267, 0.001389267, 0.001402307, 0.001402307, 0.001402307, 0.001402307, 0.001389267, 0.001402307, 0.001402307, 0.001402307, 0.001402307, 0.001376367, 0.001389267, 0.001402307, 0.001402307, 0.001363603, 0.001389267, 0.001389267, 0.001376367, 0.001389267, 0.001389267, 0.001389267, 0.001389267, 0.001402307, 0.001389267, 0.001389267, 0.001402307, 0.001363603, 0.001402307, 0.001376367, 0.001389267, 0.001402307, 0.001402307, 0.001389267, 0.001402307, 0.001402307, 0.001389267, 0.001389267, 0.001389267, 0.00142227, 0.001376367, 0.001402307, 0.001402307, 0.001402307, 0.001402307, 0.001376367, 0.001402307, 0.001402307, 0.001402307, 0.001376367, 0.001389267, 0.001389267, 0.001402307, 0.001389267, 0.001389267, 0.001376367, 0.001389267, 0.001389267, 0.001402307, 0.001402307, 0.001402307, 0.001402307, 0.001376367, 0.001402307, 0.001389267, 0.001402307, 0.001402307, 0.001402307, 0.001376367, 0.001402307, 0.001389267, 0.001389267, 0.001376367, 0.001402307, 0.001376367, 0.001389267, 0.001402307, 0.001389267, 0.001389267, 0.001402307, 0.001402307, 0.001389267, 0.001389267, 0.001402307, 0.001389267, 0.001389267, 0.001389267, 0.001363603, 0.00142227, 0.001402307, 0.001389267, 0.001389267, 0.001389267, 0.001402307, 0.001402307, 0.001402307, 0.001389267, 0.001402307, 0.001402307, 0.001389267, 0.001389267, 0.001402307, 0.001402307, 0.001389267, 0.001389267, 0.001402307, 0.00142227, 0.001363603, 0.001402307, 0.001402307, 0.001402307, 0.001389267, 0.001402307, 0.001389267, 0.001389267, 0.001402307, 0.001402307, 0.001389267, 0.001402307, 0.001402307, 0.001376367, 0.001402307, 0.001389267, 0.001402307, 0.001402307, 0.001389267, 0.001389267, 0.001389267, 0.001376367, 0.001402307, 0.001376367, 0.001376367, 0.001389267, 0.001389267, 0.001389267, 0.001363603, 0.001389267, 0.001389267, 0.001402307, 0.001376367, 0.001389267, 0.001376367, 0.001363603, 0.001376367, 0.001389267, 0.001389267, 0.001389267, 0.001376367, 0.001389267, 0.001402307, 0.001389267, 0.001402307, 0.001402307, 0.001389267, 0.001376367, 0.001389267, 0.001389267, 0.001350976, 0.001389267, 0.001376367, 0.001402307, 0.001389267, 0.001402307, 0.001402307, 0.001389267, 0.001402307, 0.001402307, 0.001389267, 0.001376367, 0.001402307, 0.001389267, 0.001402307, 0.001389267, 0.001402307, 0.001389267, 0.001389267, 0.001402307, 0.001389267, 0.001376367, 0.001402307, 0.001402307, 0.001402307, 0.001402307, 0.001402307, 0.001402307, 0.001402307, 0.001402307, 0.001402307, 0.001402307, 0.001389267, 0.001402307, 0.001389267, 0.001402307, 0.001402307, 0.001402307, 0.001402307, 0.001376367, 0.001389267, 0.001402307, 0.001402307, 0.001402307, 0.001389267, 0.001402307, 0.001402307, 0.001402307, 0.001402307, 0.00142227, 0.001402307, 0.001402307, 0.001409017, 0.001389267, 0.001376367, 0.001376367, 0.001389267, 0.001402307, 0.001402307, 0.001402307, 0.001402307, 0.001402307, 0.001402307, 0.001402307, 0.001376367, 0.001402307, 0.001402307, 0.001402307, 0.001376367, 0.001402307, 0.001402307, 0.001402307, 0.001376367, 0.001402307, 0.001402307, 0.001402307, 0.001402307, 0.001402307, 0.001402307, 0.001402307, 0.001402307, 0.001402307, 0.001376367, 0.001402307, 0.001402307, 0.001402307, 0.001402307, 0.001376367, 0.001389267, 0.001389267, 0.001402307, 0.001389267, 0.00142227, 0.001402307, 0.001389267, 0.001402307, 0.001389267, 0.001402307, 0.001402307, 0.001389267, 0.001376367, 0.001402307, 0.001402307, 0.001389267, 0.001402307, 0.001376367, 0.001402307, 0.001376367, 0.001376367, 0.001376367, 0.001402307, 0.001350976, 0.001389267, 0.001402307, 0.001402307, 0.001402307, 0.001389267, 0.001402307, 0.001389267, 0.001402307, 0.001402307, 0.001402307, 0.001389267, 0.001402307, 0.001389267, 0.001389267, 0.001402307, 0.001389267, 0.001402307, 0.001402307, 0.001389267, 0.001389267, 0.001389267, 0.001376367, 0.001402307, 0.001376367, 0.001402307, 0.00142227, 0.001389267, 0.001402307, 0.001402307, 0.001389267, 0.001402307, 0.001402307, 0.001389267, 0.001389267, 0.001402307, 0.00142227, 0.001402307, 0.001402307, 0.001402307, 0.00138604, 0.001389267, 0.001402307, 0.001389267, 0.00142227, 0.001402307, 0.001363603, 0.001402307, 0.001402307, 0.001402307, 0.001402307, 0.00142227, 0.001402307, 0.001363603, 0.001402307, 0.001389267, 0.001402307, 0.001376367, 0.001402307, 0.001402307, 0.001409017, 0.001350976, 0.001376367, 0.001389267, 0.001389267, 0.001389267, 0.001402307, 0.001376367, 0.001389267, 0.001402307, 0.001402307, 0.001376367, 0.001376367, 0.001389267, 0.001389267, 0.001389267, 0.001389267, 0.001402307, 0.001376367, 0.001376367, 0.001376367, 0.001402307, 0.001389267, 0.001350976, 0.001389267, 0.001402307, 0.001376367, 0.001389267, 0.001389267, 0.001402307, 0.001402307, 0.001402307, 0.001402307, 0.001389267, 0.001376367, 0.001402307, 0.001402307, 0.001402307, 0.001363603, 0.001389267, 0.001389267, 0.001389267, 0.001389267, 0.001363603, 0.001376367, 0.001389267, 0.001376367, 0.001389267, 0.001389267, 0.001376367, 0.001402307, 0.001402307, 0.001402307, 0.001389267, 0.001389267, 0.001376367, 0.001389267, 0.001350976, 0.001363603, 0.001389267, 0.001402307, 0.001402307, 0.001389267, 0.001376367, 0.001376367, 0.001376367, 0.001389267, 0.001376367, 0.001376367, 0.001363603, 0.001363603, 0.001363603, 0.001389267, 0.001350976, 0.001389267, 0.001363603, 0.001389267, 0.001376367, 0.001363603, 0.001376367, 0.001389267, 0.001376367, 0.001376367, 0.001395906, 0.001402307, 0.001402307, 0.001402307, 0.001376367, 0.001389267, 0.001389267, 0.001389267, 0.001376367, 0.001350976, 0.001389267, 0.001376367, 0.001402307, 0.001363603, 0.001389267, 0.001376367, 0.001376367, 0.001389267, 0.001389267, 0.001350976, 0.001389267, 0.001389267, 0.001402307, 0.001376367, 0.001376367, 0.001376367, 0.001389267, 0.001338482, 0.001350976, 0.001402307, 0.001402307, 0.001376367, 0.001350976, 0.001376367, 0.001389267, 0.001376367, 0.001402307, 0.001389267, 0.001363603, 0.001402307, 0.001389267, 0.001402307, 0.001376367, 0.001376367, 0.001363603, 0.001376367, 0.001376367, 0.001402307, 0.001409017, 0.001402307, 0.001389267, 0.001389267, 0.001402307, 0.001376367, 0.001363603, 0.001389267, 0.001389267, 0.001376367, 0.001350976, 0.001376367, 0.001389267, 0.001363603, 0.001389267, 0.001363603, 0.001376367, 0.001376367, 0.001402307, 0.001389267, 0.001363603, 0.001363603, 0.001376367, 0.001363603, 0.001376367, 0.001389267, 0.001402307, 0.001376367, 0.001389267, 0.001402307, 0.001376367, 0.001402307, 0.001376367, 0.001363603, 0.001376367, 0.001376367, 0.001350976, 0.001350976, 0.001402307, 0.001389267, 0.001389267, 0.001376367, 0.001402307, 0.001376367, 0.001389267, 0.001376367, 0.001389267, 0.001402307, 0.001402307, 0.001376367, 0.001402307, 0.001350976, 0.001376367, 0.001363603, 0.001338482, 0.001350976, 0.001363603, 0.001389267, 0.001350976, 0.001350976, 0.001402307, 0.001350976, 0.001376367, 0.001389267, 0.001338482, 0.001363603, 0.001389267, 0.001389267, 0.001376367, 0.001389267, 0.001402307, 0.001402307, 0.001363603, 0.001363603, 0.001376367, 0.001363603, 0.001376367, 0.001376367, 0.001376367, 0.001376367, 0.001389267, 0.001363603, 0.001376367, 0.001402307, 0.001376367, 0.001389267, 0.001350976, 0.001376367, 0.001376367, 0.001389267, 0.001376367, 0.001360445, 0.001402307, 0.001363603, 0.001389267, 0.001363603, 0.001402307, 0.001360445, 0.001402307, 0.001402307, 0.001389267, 0.001389267, 0.001389267, 0.001376367, 0.001363603, 0.001389267, 0.001402307, 0.001376367, 0.001376367, 0.001402307, 0.001402307, 0.001363603, 0.001395906, 0.001376367, 0.001363603, 0.001389267, 0.001350976, 0.001389267, 0.001389267, 0.001389267, 0.001360445, 0.001389267, 0.001363603, 0.001376367, 0.001363603, 0.001376367, 0.001376367, 0.001389267, 0.001376367, 0.001350976, 0.001363603, 0.001402307, 0.001389267, 0.001402307, 0.001363603, 0.001363603, 0.001376367, 0.001402307, 0.001363603, 0.001376367, 0.001350976, 0.001376367, 0.001363603, 0.001363603, 0.001338482, 0.001376367, 0.001389267, 0.001389267, 0.001389267, 0.001338482, 0.001350976, 0.001376367, 0.001350976, 0.001363603, 0.001363603, 0.001338482, 0.001350976, 0.001363603, 0.00133539, 0.001363603, 0.001363603, 0.001363603, 0.001376367, 0.001363603, 0.001338482, 0.001376367, 0.001409017, 0.001363603, 0.001376367, 0.001376367, 0.001338482, 0.001389267, 0.001363603, 0.001376367, 0.001363603, 0.001363603, 0.001363603, 0.001363603, 0.001395906, 0.001376367, 0.001402307, 0.001376367, 0.001389267, 0.001376367, 0.001363603, 0.001363603, 0.001338482, 0.001338482, 0.001363603, 0.001350976, 0.001350976, 0.001402307, 0.001376367, 0.001350976, 0.001338482, 0.001376367, 0.001338482, 0.001363603, 0.001376367, 0.001376367, 0.001376367, 0.001402307, 0.001402307, 0.001350976, 0.001389267, 0.001389267, 0.001376367, 0.001376367, 0.001350976, 0.001350976, 0.001389267, 0.001389267, 0.001409017, 0.001402307, 0.001402307, 0.001376367, 0.001389267, 0.001376367, 0.001363603, 0.001389267, 0.001350976, 0.001376367, 0.001347851, 0.001363603, 0.001389267, 0.001389267, 0.001389267, 0.001363603, 0.001389267, 0.001350976, 0.001350976, 0.001376367, 0.001389267, 0.001389267, 0.001373174, 0.001350976, 0.001363603, 0.001363603, 0.001402307, 0.001402307, 0.001389267, 0.001389267, 0.001389267, 0.001402307, 0.001382935, 0.001402307, 0.001389267, 0.001376367, 0.001376367, 0.001376367, 0.001402307, 0.001389267, 0.001389267, 0.001389267, 0.001389267, 0.001402307, 0.001389267, 0.001402307, 0.001402307, 0.001376367, 0.001402307, 0.001376367, 0.001402307, 0.001402307, 0.001402307, 0.001376367, 0.001402307, 0.001389267, 0.001389267, 0.001389267, 0.001376367, 0.001389267, 0.001389267, 0.001376367, 0.001389267, 0.001376367, 0.001389267, 0.001376367, 0.001389267, 0.001402307, 0.001389267, 0.001376367, 0.001389267, 0.001376367, 0.001402307, 0.001389267, 0.001363603, 0.001376367, 0.001389267, 0.001402307, 0.001376367, 0.001376367, 0.001376367, 0.001389267, 0.001402307, 0.00142227, 0.001402307, 0.001376367, 0.001402307, 0.001389267, 0.001376367, 0.001402307, 0.001363603, 0.001363603, 0.001389267, 0.001376367, 0.001363603, 0.001376367, 0.001389267, 0.001389267, 0.001389267, 0.001402307, 0.001389267, 0.001389267, 0.001389267, 0.001402307, 0.001376367, 0.001402307, 0.001402307, 0.001402307, 0.001389267, 0.001389267, 0.001402307, 0.001376367, 0.001389267, 0.001402307, 0.001376367, 0.001389267, 0.001389267, 0.001376367, 0.001402307, 0.001376367, 0.001363603, 0.00142227, 0.001376367, 0.001376367, 0.001376367, 0.001363603, 0.001402307, 0.001350976, 0.001350976, 0.001363603, 0.001389267, 0.001363603, 0.001376367, 0.001389267, 0.001376367, 0.001338482, 0.001363603, 0.001350976, 0.001350976, 0.001350976, 0.001389267, 0.001338482, 0.001376367, 0.001402307, 0.001363603, 0.001389267, 0.001376367, 0.001350976, 0.001389267, 0.001376367, 0.001376367, 0.001350976, 0.001363603, 0.001338482, 0.001350976, 0.001338482, 0.001363603, 0.001376367, 0.001338482, 0.001389267, 0.001376367, 0.001363603, 0.001338482, 0.001350976, 0.001363603, 0.001363603, 0.001376367, 0.001389267, 0.001376367, 0.001363603, 0.001350976, 0.001363603, 0.001338482, 0.001376367, 0.001363603, 0.001338482, 0.001350976, 0.001363603, 0.001376367, 0.001363603, 0.001338482, 0.001402307, 0.001376367, 0.001389267, 0.001376367, 0.001350976, 0.001376367, 0.001350976, 0.001363603, 0.001350976, 0.001363603, 0.001389267, 0.001350976, 0.001363603, 0.001376367, 0.001376367, 0.001350976, 0.001350976, 0.001363603, 0.001376367, 0.001389267, 0.001338482, 0.001382935, 0.001338482, 0.001350976, 0.001338482, 0.001350976, 0.001389267, 0.001363603, 0.001363603, 0.001376367, 0.001376367, 0.001350976, 0.001363603, 0.001350976, 0.001338482, 0.001389267, 0.001338482, 0.001350976, 0.001363603, 0.001350976, 0.001350976, 0.001376367, 0.001347851, 0.001363603, 0.001338482, 0.00133539, 0.001338482, 0.001376367, 0.001350976, 0.001338482, 0.001363603, 0.001363603, 0.001350976, 0.001363603, 0.001376367, 0.001350976, 0.001363603, 0.001363603, 0.001338482, 0.001376367, 0.001338482, 0.001376367, 0.001350976, 0.001376367, 0.001350976, 0.001338482, 0.001338482, 0.001373174, 0.001363603, 0.001363603, 0.001389267, 0.001338482, 0.001376367, 0.001338482, 0.001363603, 0.001363603, 0.001350976, 0.001350976, 0.001350976, 0.001338482, 0.001338482, 0.001363603, 0.001350976, 0.001389267, 0.001389267, 0.001350976, 0.001338482, 0.001338482, 0.001338482, 0.001350976, 0.001363603, 0.001350976, 0.001338482, 0.001338482, 0.001338482, 0.001338482, 0.001376367, 0.001350976, 0.001338482, 0.001338482, 0.001363603, 0.001363603, 0.001338482, 0.001350976, 0.001363603, 0.001350976, 0.001338482, 0.001338482, 0.001338482, 0.001338482, 0.001338482, 0.001338482, 0.001338482, 0.001376367, 0.001350976, 0.001350976, 0.001363603, 0.001338482, 0.001338482, 0.001338482, 0.001338482, 0.001338482, 0.001363603, 0.001350976, 0.001338482, 0.001338482, 0.001338482, 0.001350976, 0.00133539, 0.001350976, 0.001389267, 0.001338482, 0.001338482, 0.001350976, 0.001338482, 0.001347851, 0.001360445, 0.001389267, 0.001350976, 0.001338482, 0.001350976, 0.001376367, 0.001338482, 0.001376367, 0.001363603, 0.001363603, 0.001350976, 0.001376367, 0.001338482, 0.001338482, 0.001338482, 0.001350976, 0.001350976, 0.001338482, 0.001350976, 0.001338482, 0.001350976, 0.001350976, 0.001389267, 0.001338482, 0.001338482, 0.001363603, 0.001363603, 0.001376367, 0.001389267, 0.001350976, 0.001350976, 0.001350976, 0.001350976, 0.001363603, 0.001338482, 0.001363603, 0.001363603, 0.001389267, 0.001363603, 0.001350976, 0.001338482, 0.001409017, 0.001350976, 0.001363603, 0.001338482, 0.001363603, 0.001338482, 0.001376367, 0.001338482, 0.001338482, 0.001350976, 0.001338482, 0.001402307, 0.001350976, 0.001350976, 0.001338482, 0.001350976, 0.001338482, 0.001350976, 0.001376367, 0.001350976, 0.001363603, 0.001376367, 0.001376367, 0.001350976, 0.001363603, 0.001338482, 0.001338482, 0.001338482, 0.001363603, 0.001376367, 0.001389267, 0.001376367, 0.001409017, 0.001338482, 0.001376367, 0.001376367, 0.001363603, 0.001350976, 0.001363603, 0.001350976, 0.001376367, 0.001350976, 0.001376367, 0.001350976, 0.001376367, 0.001350976, 0.001338482, 0.001376367, 0.001350976, 0.001338482, 0.001338482, 0.001350976, 0.001363603, 0.001350976, 0.001350976, 0.001376367, 0.001338482, 0.001338482, 0.001350976, 0.001350976, 0.001350976, 0.001350976, 0.001338482, 0.001376367, 0.001376367, 0.001363603, 0.001402307, 0.001376367, 0.001350976, 0.001350976, 0.001350976, 0.001363603, 0.001376367, 0.001389267, 0.001350976, 0.001350976, 0.001350976, 0.001338482, 0.001376367, 0.001363603, 0.001389267, 0.001350976, 0.001350976, 0.001338482, 0.001350976, 0.001363603, 0.001363603, 0.001376367, 0.001389267, 0.001350976, 0.001376367, 0.001350976, 0.001363603, 0.00142227, 0.001376367, 0.001350976, 0.001350976, 0.001389267, 0.001350976, 0.001376367, 0.001376367, 0.001338482, 0.001402307, 0.001350976, 0.001350976, 0.001389267, 0.001376367, 0.001363603, 0.001402307, 0.001363603, 0.001350976, 0.001350976, 0.001376367, 0.001338482, 0.00133539, 0.001402307, 0.001363603, 0.001363603, 0.001363603, 0.001338482, 0.001350976, 0.001350976, 0.001402307, 0.001389267, 0.001376367, 0.001350976, 0.001376367, 0.001389267, 0.001363603, 0.001363603, 0.001389267, 0.001402307, 0.001402307, 0.001376367, 0.001376367, 0.001376367, 0.001338482, 0.001376367, 0.001376367, 0.001363603, 0.001363603, 0.001338482, 0.001350976, 0.001350976, 0.001350976, 0.001350976, 0.001350976, 0.001338482, 0.001350976, 0.001338482, 0.001338482, 0.001402307, 0.001376367, 0.001350976, 0.001350976, 0.001402307, 0.001376367, 0.001338482, 0.001389267, 0.001389267, 0.001376367, 0.001363603, 0.001363603, 0.001389267, 0.001376367, 0.001350976, 0.001350976, 0.001338482, 0.001350976, 0.001376367, 0.001376367, 0.001389267, 0.001363603, 0.001376367, 0.001389267, 0.001376367, 0.001363603, 0.001363603, 0.001350976, 0.001363603, 0.001350976, 0.001363603, 0.001389267, 0.001402307, 0.001389267, 0.001350976, 0.001376367, 0.001389267, 0.001363603, 0.001350976, 0.001350976, 0.001360445, 0.001376367, 0.001389267, 0.001363603, 0.001376367, 0.001338482, 0.001376367, 0.001376367, 0.001347851, 0.001338482, 0.001389267, 0.001389267, 0.001350976, 0.001389267, 0.001376367, 0.001376367, 0.001389267, 0.001402307, 0.001376367, 0.001376367, 0.001350976, 0.001350976, 0.001402307, 0.001402307, 0.001376367, 0.001389267, 0.001389267, 0.001350976, 0.001350976, 0.001338482, 0.001376367, 0.001389267, 0.001376367, 0.001350976, 0.001347851, 0.001338482, 0.001376367, 0.001363603, 0.001363603, 0.001376367, 0.001376367, 0.001363603, 0.001363603, 0.001389267, 0.001363603, 0.001350976, 0.001363603, 0.001363603, 0.001389267, 0.001402307, 0.001376367, 0.001389267, 0.001376367, 0.001350976, 0.001363603, 0.001363603, 0.001350976, 0.001389267, 0.001363603, 0.001363603, 0.001389267, 0.001402307, 0.001389267, 0.001363603, 0.001389267, 0.001389267, 0.001363603, 0.001389267, 0.001363603, 0.001338482, 0.001350976, 0.001363603, 0.001363603, 0.001376367, 0.001389267, 0.001389267, 0.001389267, 0.001363603, 0.001389267, 0.001350976, 0.001402307, 0.001376367, 0.001402307, 0.001389267, 0.001376367, 0.001376367, 0.001376367, 0.001389267, 0.001376367, 0.001376367, 0.001389267, 0.001389267, 0.001389267, 0.001389267, 0.001389267, 0.001376367, 0.001402307, 0.001363603, 0.001402307, 0.001389267, 0.001376367, 0.001350976, 0.001376367, 0.001350976, 0.001389267, 0.001402307, 0.001389267, 0.001376367, 0.001402307, 0.001402307, 0.001402307, 0.001376367, 0.001376367, 0.001376367, 0.001363603, 0.001376367, 0.001389267, 0.001376367, 0.001363603, 0.001376367, 0.001402307, 0.001376367, 0.001389267, 0.001376367, 0.001389267, 0.001389267, 0.00142227, 0.001389267, 0.001402307, 0.001376367, 0.001402307, 0.001389267, 0.001389267, 0.001363603, 0.001376367, 0.001376367, 0.001376367, 0.001363603, 0.001338482, 0.001402307, 0.001376367, 0.001376367, 0.001373174, 0.001389267, 0.001402307, 0.001389267, 0.001402307, 0.001373174, 0.001402307, 0.001389267, 0.001376367, 0.001389267, 0.001363603, 0.001389267, 0.001376367, 0.001389267, 0.001363603, 0.001376367, 0.001389267, 0.001389267, 0.001389267, 0.001363603, 0.001402307, 0.001389267, 0.001376367, 0.001350976, 0.001363603, 0.001389267, 0.001376367, 0.001389267, 0.001363603, 0.001389267, 0.001376367, 0.001376367, 0.001389267, 0.001389267, 0.001376367, 0.001402307, 0.001376367, 0.001350976, 0.001376367, 0.001363603, 0.001363603, 0.001363603, 0.001363603, 0.001389267, 0.001376367, 0.001402307, 0.001376367, 0.001402307, 0.001376367, 0.001389267, 0.001389267, 0.001402307, 0.001376367, 0.001389267, 0.001389267, 0.001389267, 0.001376367, 0.001389267, 0.001389267, 0.001389267, 0.001350976, 0.001402307, 0.001389267, 0.001363603, 0.001363603, 0.001402307, 0.001389267, 0.001402307, 0.001389267, 0.001389267, 0.001389267, 0.001389267, 0.001363603, 0.001363603, 0.001363603, 0.001376367, 0.001389267, 0.001376367, 0.001389267, 0.001363603, 0.001350976, 0.001363603, 0.001350976, 0.001338482, 0.001389267, 0.001376367, 0.001389267, 0.001363603, 0.001376367, 0.001402307, 0.001402307, 0.001402307, 0.001402307, 0.001409017, 0.001402307, 0.001402307, 0.001376367, 0.001402307, 0.001376367, 0.001402307, 0.001389267, 0.001376367, 0.001389267, 0.001363603, 0.001376367, 0.001389267, 0.001389267, 0.001389267, 0.001389267, 0.001363603, 0.001376367, 0.001376367, 0.001376367, 0.001363603, 0.001389267, 0.001402307, 0.001389267, 0.001389267, 0.001376367, 0.001389267, 0.001376367, 0.001389267, 0.001402307, 0.001402307, 0.001389267, 0.001363603, 0.001363603, 0.001376367, 0.001350976, 0.001363603, 0.001363603, 0.001376367, 0.001363603, 0.001363603, 0.001363603, 0.001363603, 0.001363603, 0.001338482, 0.001395906, 0.001350976, 0.001350976, 0.001363603, 0.001389267, 0.001363603, 0.001363603, 0.001402307, 0.001389267, 0.001376367, 0.001389267, 0.001376367, 0.001402307, 0.001376367, 0.001376367, 0.001402307, 0.001376367, 0.001376367, 0.001376367, 0.001376367, 0.001389267, 0.001402307, 0.001402307, 0.001389267, 0.001402307, 0.001376367, 0.001376367, 0.001402307, 0.001363603, 0.001389267, 0.001402307, 0.001350976, 0.001389267, 0.00142227, 0.001402307, 0.001402307, 0.001402307, 0.001402307, 0.001402307, 0.001402307, 0.001363603, 0.001389267, 0.001402307, 0.001402307, 0.001363603, 0.001389267, 0.001376367, 0.001402307, 0.001389267, 0.001402307, 0.001389267, 0.001402307, 0.001402307, 0.00142227, 0.001402307, 0.001402307, 0.001402307, 0.001402307, 0.001389267, 0.001402307, 0.001363603, 0.001402307, 0.001363603, 0.001376367, 0.001376367, 0.001402307, 0.001402307, 0.001402307, 0.001376367, 0.001389267, 0.00138604, 0.001402307, 0.001389267, 0.001402307, 0.001376367, 0.001363603, 0.001363603, 0.001376367, 0.001389267, 0.001376367, 0.001363603, 0.001389267, 0.001389267, 0.001402307, 0.001402307, 0.001389267, 0.001338482, 0.001350976, 0.001402307, 0.001376367, 0.001402307, 0.00142227, 0.001376367, 0.001389267, 0.001389267, 0.001350976, 0.001363603, 0.001402307, 0.001376367, 0.001402307, 0.001389267, 0.001376367, 0.001389267, 0.001402307, 0.001376367, 0.001389267, 0.001402307, 0.001376367, 0.001363603, 0.001376367, 0.001373174, 0.001389267, 0.001389267, 0.001376367, 0.001376367, 0.001389267, 0.001389267, 0.001363603, 0.001363603, 0.001350976, 0.001376367, 0.001363603, 0.001363603, 0.001389267, 0.001389267, 0.001338482, 0.001402307, 0.00142227, 0.001363603, 0.001389267, 0.001338482, 0.001363603, 0.001402307, 0.001350976, 0.001338482, 0.001402307, 0.001350976, 0.001338482, 0.001376367, 0.001402307, 0.001389267, 0.001389267, 0.001363603, 0.001363603, 0.001376367, 0.001363603, 0.001350976, 0.001363603, 0.001376367, 0.001389267, 0.001363603, 0.001338482, 0.001376367, 0.001376367, 0.001363603, 0.001363603, 0.001363603, 0.001338482, 0.001376367, 0.001350976, 0.001350976, 0.001382935, 0.001350976, 0.001338482, 0.001338482, 0.001338482, 0.001350976, 0.001350976, 0.001338482, 0.001338482, 0.001338482, 0.001338482, 0.001350976, 0.001350976, 0.001350976, 0.001363603, 0.001363603, 0.001363603, 0.001402307, 0.001402307, 0.001363603, 0.001389267, 0.001338482, 0.001350976, 0.001350976, 0.001350976, 0.001338482, 0.001350976, 0.001389267, 0.001350976, 0.001363603, 0.001389267, 0.001338482, 0.001350976, 0.001350976, 0.001338482, 0.001350976, 0.001363603, 0.001338482, 0.001338482, 0.001350976, 0.001363603, 0.001338482, 0.001389267, 0.001350976, 0.001350976, 0.001350976, 0.001338482, 0.001338482, 0.001376367, 0.001350976, 0.001363603, 0.001338482, 0.001338482, 0.001338482, 0.001338482, 0.001350976, 0.001363603, 0.001350976, 0.001382935, 0.001389267, 0.001409017, 0.001350976, 0.001338482, 0.001350976, 0.001338482, 0.001350976, 0.001350976, 0.001376367, 0.001338482, 0.001338482, 0.001402307, 0.001350976, 0.001363603, 0.001338482, 0.001350976, 0.001338482, 0.001350976, 0.001338482, 0.001350976, 0.001338482, 0.001338482, 0.001338482, 0.001350976, 0.001338482, 0.001338482, 0.001350976, 0.001350976, 0.001350976, 0.001338482, 0.001338482, 0.001338482, 0.001350976, 0.001338482, 0.001338482, 0.001338482, 0.001338482, 0.001363603, 0.001338482, 0.001350976, 0.001350976, 0.001338482, 0.001338482, 0.001338482, 0.001350976, 0.001350976, 0.001370102, 0.001338482, 0.001338482, 0.001350976, 0.001338482, 0.001338482, 0.001338482, 0.001338482, 0.001350976, 0.001338482, 0.001350976, 0.001338482, 0.001338482, 0.001363603, 0.001363603, 0.001363603, 0.001338482, 0.001338482, 0.001338482, 0.001363603, 0.001350976, 0.00133539, 0.001338482, 0.001363603, 0.001338482, 0.001350976, 0.001350976, 0.001338482, 0.001363603, 0.001338482, 0.001350976, 0.001363603, 0.001350976, 0.001350976, 0.001350976, 0.001376367, 0.001338482, 0.001338482, 0.001350976, 0.001338482, 0.001350976, 0.001338482, 0.001338482, 0.001338482, 0.001350976, 0.001350976, 0.001338482, 0.001338482, 0.001338482, 0.001363603, 0.001363603, 0.001350976, 0.001350976, 0.001338482, 0.001338482, 0.001338482, 0.001350976, 0.001338482, 0.001338482, 0.001338482, 0.001338482, 0.001338482, 0.001338482, 0.001350976, 0.001338482, 0.001350976, 0.001350976, 0.001376367, 0.001350976, 0.001350976, 0.001350976, 0.001338482, 0.001338482, 0.001338482, 0.001338482, 0.001376367, 0.001338482, 0.001350976, 0.001363603, 0.001363603, 0.001363603, 0.001363603, 0.001338482, 0.001363603, 0.001382935, 0.001363603, 0.001363603, 0.001363603, 0.001338482, 0.001363603, 0.001338482, 0.001338482, 0.001338482, 0.001338482, 0.001338482, 0.001350976, 0.001363603, 0.001360445, 0.001338482, 0.001376367, 0.001389267, 0.001350976, 0.001338482, 0.001338482, 0.001338482, 0.001338482, 0.001350976, 0.001338482, 0.001338482, 0.001338482, 0.001338482, 0.001338482, 0.001338482, 0.001338482, 0.001363603, 0.001338482, 0.001363603, 0.001350976, 0.001363603, 0.001363603, 0.001350976, 0.001338482, 0.001338482, 0.001338482, 0.001350976, 0.001338482, 0.001363603, 0.001347851, 0.001338482, 0.001338482, 0.001389267, 0.001389267, 0.001376367, 0.001338482, 0.001350976, 0.001363603, 0.001350976, 0.001338482, 0.001350976, 0.001350976, 0.001350976, 0.001376367, 0.001338482, 0.001338482, 0.001338482, 0.001402307, 0.001363603, 0.001363603, 0.001376367, 0.001363603, 0.001376367, 0.001389267, 0.001363603, 0.001376367, 0.001376367, 0.001338482, 0.001363603, 0.001338482, 0.001363603, 0.001376367, 0.001402307, 0.001350976, 0.001363603, 0.001402307, 0.001389267, 0.001402307, 0.001389267, 0.001376367, 0.001389267, 0.001363603, 0.001363603, 0.001389267, 0.001389267, 0.001376367, 0.001402307, 0.001389267, 0.001402307, 0.001389267, 0.001376367, 0.001376367, 0.001402307, 0.001402307, 0.001363603, 0.001402307, 0.001402307, 0.001402307, 0.001402307, 0.001389267, 0.001376367, 0.001402307, 0.001389267, 0.001376367, 0.001389267, 0.001402307, 0.001389267, 0.001389267, 0.001402307, 0.001389267, 0.001376367, 0.001376367, 0.001389267, 0.001389267, 0.001363603, 0.001389267, 0.001402307, 0.001389267, 0.001402307, 0.001376367, 0.001402307, 0.001402307, 0.001402307, 0.001402307, 0.001402307, 0.001389267, 0.001376367, 0.001402307, 0.001402307, 0.001402307, 0.001402307, 0.001402307, 0.001402307, 0.001402307, 0.001402307, 0.00144256, 0.001435855, 0.001402307, 0.001402307, 0.001402307, 0.001435855, 0.001402307, 0.001402307, 0.001402307, 0.001402307, 0.001402307, 0.001402307, 0.001389267, 0.001402307, 0.001389267, 0.001402307, 0.001389267, 0.001402307, 0.001402307, 0.001402307, 0.001402307, 0.001402307, 0.001402307, 0.001402307, 0.001389267, 0.001389267, 0.001389267, 0.001402307, 0.001402307, 0.001402307, 0.001402307, 0.001402307, 0.001376367, 0.001402307, 0.001402307, 0.001402307, 0.001402307, 0.001376367, 0.001402307, 0.001376367, 0.001376367, 0.001376367, 0.001402307, 0.001402307, 0.001402307, 0.001402307, 0.001402307, 0.001389267, 0.001402307, 0.001402307, 0.00142227, 0.001402307, 0.001409017, 0.001389267, 0.001402307, 0.001402307, 0.001389267, 0.001402307, 0.001363603, 0.001402307, 0.001402307, 0.001402307, 0.001376367, 0.001402307, 0.001402307, 0.001389267, 0.001376367, 0.001376367, 0.001402307, 0.001402307, 0.001376367, 0.001389267, 0.001402307, 0.001376367, 0.001376367, 0.001389267, 0.001376367, 0.001389267, 0.001363603, 0.001389267, 0.001376367, 0.001402307, 0.001376367, 0.001376367, 0.001350976, 0.001376367, 0.001389267, 0.001389267, 0.001389267, 0.001402307, 0.001376367, 0.001389267, 0.001350976, 0.001389267, 0.001350976, 0.001376367, 0.001363603, 0.001376367, 0.001402307, 0.001389267, 0.001376367, 0.001389267, 0.001376367, 0.001376367, 0.001347851, 0.001376367, 0.001389267, 0.001389267, 0.001350976, 0.001376367, 0.001376367, 0.001363603, 0.001376367, 0.001376367, 0.001389267, 0.001395906, 0.001350976, 0.001350976, 0.001338482, 0.001376367, 0.001363603, 0.001338482, 0.001363603, 0.001347851, 0.001350976, 0.001338482, 0.001338482, 0.001338482, 0.001338482, 0.001338482, 0.001338482, 0.001389267, 0.001376367, 0.001350976, 0.001350976, 0.001350976, 0.001338482, 0.001338482, 0.001395906, 0.001338482, 0.001338482, 0.001350976, 0.001338482, 0.001338482, 0.001350976, 0.00133539, 0.001338482, 0.001338482, 0.001338482, 0.001338482, 0.001338482, 0.001338482, 0.001338482, 0.001338482, 0.001338482, 0.001338482, 0.001338482, 0.001338482, 0.001338482, 0.001338482, 0.001350976, 0.001338482, 0.00133539, 0.001332307, 0.00133539, 0.00133539, 0.001338482, 0.001329231, 0.001338482, 0.001338482, 0.001338482, 0.001350976, 0.001332307, 0.00133539, 0.001332307, 0.001329231, 0.001323105, 0.00133539, 0.001329231, 0.001332307, 0.001332307, 0.001329231, 0.001329231, 0.001332307, 0.001323105, 0.001323105, 0.001323105, 0.001323105, 0.001323105, 0.001323105, 0.001326164, 0.001323105, 0.001323105, 0.00131099, 0.001326164, 0.001323105, 0.001323105, 0.001323105, 0.001323105, 0.001323105, 0.001323105, 0.001323105, 0.001323105, 0.001323105, 0.001323105, 0.001323105, 0.001323105, 0.00131099, 0.001323105, 0.001323105, 0.00131099, 0.00131099, 0.001299003, 0.001323105, 0.001323105, 0.00131099, 0.001323105, 0.001323105, 0.00131099, 0.00131099, 0.00131099, 0.001323105, 0.001299003, 0.001299003, 0.001263789, 0.001299003, 0.00131099, 0.001263789, 0.001299003, 0.00131099, 0.001287141, 0.001287141, 0.001287141, 0.001275404, 0.001263789, 0.001263789, 0.001263789, 0.001263789, 0.001263789, 0.001263789, 0.001263789, 0.001263789, 0.001263789, 0.001263789, 0.001263789, 0.001263789, 0.001263789, 0.001246711, 0.001263789, 0.001263789, 0.001246711, 0.001263789, 0.001263789, 0.001263789, 0.001246711, 0.001263789, 0.001263789, 0.001263789, 0.001246711, 0.001263789, 0.001246711, 0.001213344, 0.001229898, 0.001263789, 0.001263789, 0.001263789, 0.001258146, 0.001263789, 0.001213344, 0.001197045, 0.001246711, 0.001263789, 0.001263789, 0.001263789, 0.001229898, 0.001263789, 0.001246711, 0.001229898, 0.001263789, 0.001246711, 0.001246711, 0.001246711, 0.001246711, 0.001246711, 0.001263789, 0.001213344, 0.001246711, 0.001213344, 0.001213344, 0.001229898, 0.001246711, 0.001229898, 0.001263789, 0.001246711, 0.001263789, 0.001263789, 0.001229898, 0.001263789, 0.001246711, 0.001197045, 0.001263789, 0.001246711, 0.001246711, 0.001246711, 0.001246711, 0.001246711, 0.001229898, 0.001213344, 0.001229898, 0.001263789, 0.001246711, 0.001275404, 0.001229898, 0.001197045, 0.001213344, 0.001229898, 0.001197045, 0.001229898, 0.001197045, 0.001197045, 0.001213344, 0.001180998, 0.001263789, 0.001229898, 0.001213344, 0.001229898, 0.001229898, 0.001180998, 0.001213344, 0.001197045, 0.001197045, 0.001197045, 0.001180998, 0.001229898, 0.001246711, 0.001246711, 0.001229898, 0.001213344, 0.001180998, 0.001207959, 0.001180998, 0.001180998, 0.001180998, 0.001180998, 0.001197045, 0.001229898, 0.001263789, 0.001213344, 0.001229898, 0.001213344, 0.001213344, 0.001213344, 0.001229898, 0.001213344, 0.001229898, 0.001246711, 0.001197045, 0.001213344, 0.001213344, 0.001213344, 0.001213344, 0.001180998, 0.001197045, 0.001197045, 0.001229898, 0.001229898, 0.001229898, 0.001213344, 0.001213344, 0.001213344, 0.001213344, 0.001229898, 0.001246711, 0.001263789, 0.001229898, 0.001229898, 0.001213344, 0.001263789, 0.001213344, 0.001246711, 0.001246711, 0.001246711, 0.001213344, 0.001229898, 0.001213344, 0.001213344, 0.001246711, 0.001246711, 0.001229898, 0.001263789, 0.001229898, 0.001246711, 0.001263789, 0.001229898, 0.001229898, 0.001246711, 0.001246711, 0.001229898, 0.001229898, 0.001213344, 0.001275404, 0.001263789, 0.001263789, 0.001246711, 0.001213344, 0.001229898, 0.001263789, 0.001263789, 0.001229898, 0.001229898, 0.001263789, 0.001246711, 0.001246711, 0.001213344, 0.001213344, 0.001263789, 0.001263789, 0.001263789, 0.001246711, 0.001263789, 0.001229898, 0.001263789, 0.001263789, 0.001229898, 0.001246711, 0.001246711, 0.001213344, 0.001213344, 0.001246711, 0.001246711, 0.001229898, 0.001246711, 0.001229898, 0.001213344, 0.001229898, 0.001246711, 0.001229898, 0.001246711, 0.001213344, 0.001246711, 0.001246711, 0.001263789, 0.001229898, 0.001229898, 0.001263789, 0.001263789, 0.001246711, 0.001229898, 0.001263789, 0.001263789, 0.001246711, 0.001229898, 0.001246711, 0.001213344, 0.001263789, 0.001246711, 0.001246711, 0.001263789, 0.001246711, 0.001229898, 0.001263789, 0.001246711, 0.001229898, 0.001263789, 0.001263789, 0.001229898, 0.001246711, 0.001263789, 0.001246711, 0.001263789, 0.001246711, 0.001263789, 0.001246711, 0.001246711, 0.001246711, 0.001213344, 0.001246711, 0.001229898, 0.001229898, 0.001246711, 0.001246711, 0.001258146, 0.001263789, 0.001229898, 0.001229898, 0.001229898, 0.001213344, 0.001263789, 0.001263789, 0.001263789, 0.001229898, 0.001263789, 0.001263789, 0.001263789, 0.001246711, 0.001229898, 0.001246711, 0.001246711, 0.001213344, 0.001246711, 0.001246711, 0.001229898, 0.001229898, 0.001263789, 0.001229898, 0.001246711, 0.001213344, 0.001229898, 0.001197045, 0.001229898, 0.001229898, 0.001213344, 0.001197045, 0.001180998, 0.001229898, 0.001213344, 0.001213344, 0.001197045, 0.001197045, 0.001197045, 0.001180998, 0.001197045, 0.001197045, 0.001213344, 0.001197045, 0.001197045, 0.001197045, 0.001180998, 0.001180998, 0.001197045, 0.001197045, 0.001197045, 0.001229898, 0.001197045, 0.001197045, 0.001197045, 0.001180998, 0.001197045, 0.001170509, 0.001213344, 0.001197045, 0.001229898, 0.001202525, 0.001197045, 0.001180998, 0.001170509, 0.001213344, 0.001180998, 0.001180998, 0.001180998, 0.001180998, 0.001180998, 0.001213344, 0.001229898, 0.001197045, 0.001180998, 0.001180998, 0.001180998, 0.001197045, 0.001180998, 0.001180998, 0.001180998, 0.001180998, 0.001180998, 0.001180998, 0.001180998, 0.001180998, 0.001180998, 0.001180998, 0.001213344, 0.001213344, 0.001213344, 0.001197045, 0.001213344, 0.001213344, 0.001229898, 0.001180998, 0.001180998, 0.001197045, 0.001197045, 0.001197045, 0.001180998, 0.001180998, 0.001180998, 0.001170509, 0.001246711, 0.001180998, 0.001197045, 0.001197045, 0.001180998, 0.001170509, 0.001180998, 0.001180998, 0.001180998, 0.001180998, 0.001197045, 0.001197045, 0.001246711, 0.001229898, 0.001197045, 0.001180998, 0.001180998, 0.001246711, 0.001197045, 0.001197045, 0.001229898, 0.001197045, 0.001213344, 0.001246711, 0.001263789, 0.001213344, 0.001197045, 0.001213344, 0.001229898, 0.001229898, 0.001197045, 0.001263789, 0.001197045, 0.001197045, 0.001213344, 0.001229898, 0.001246711, 0.001213344, 0.001246711, 0.001278337, 0.001246711, 0.001246711, 0.001213344, 0.001229898, 0.001246711, 0.001246711, 0.001229898, 0.001263789, 0.001246711, 0.001263789, 0.001263789, 0.001263789, 0.001229898, 0.001263789, 0.001246711, 0.001246711, 0.001246711, 0.001263789, 0.001263789, 0.001263789, 0.001263789, 0.001229898, 0.001246711, 0.001246711, 0.001246711, 0.001246711, 0.001246711, 0.001246711, 0.001263789, 0.001229898, 0.001229898, 0.001229898, 0.001246711, 0.001263789, 0.001263789, 0.001263789, 0.001246711, 0.001275404, 0.001229898, 0.001246711, 0.001246711, 0.001229898, 0.001246711, 0.001263789, 0.001263789, 0.001275404, 0.001263789, 0.001246711, 0.001263789, 0.001263789, 0.001246711, 0.001263789, 0.001246711, 0.001263789, 0.001246711, 0.001246711, 0.001263789, 0.001229898, 0.001263789, 0.001263789, 0.001263789, 0.001278337, 0.001263789, 0.001246711, 0.001263789, 0.001246711, 0.001263789, 0.001263789, 0.001263789, 0.001263789, 0.001263789, 0.001263789, 0.001263789, 0.001263789, 0.001263789, 0.001246711, 0.001263789, 0.001275404, 0.001263789, 0.001263789, 0.001263789, 0.001263789, 0.001263789, 0.001263789, 0.001263789, 0.001263789, 0.001246711, 0.001263789, 0.001263789, 0.001263789, 0.001263789, 0.001263789, 0.001246711, 0.001263789, 0.001263789, 0.001246711, 0.001263789, 0.001263789, 0.001263789, 0.001263789, 0.001246711, 0.001275404, 0.001263789, 0.001258146, 0.001263789, 0.001263789, 0.001263789, 0.001263789, 0.001263789, 0.001263789, 0.001263789, 0.001263789, 0.001263789, 0.001263789, 0.001263789, 0.001263789, 0.001263789, 0.001263789, 0.001246711, 0.001263789, 0.001263789, 0.001263789, 0.001263789, 0.001263789, 0.001263789, 0.001263789, 0.001246711, 0.001275404, 0.001263789, 0.001263789, 0.001246711, 0.001263789, 0.001263789, 0.001263789, 0.001263789, 0.001263789, 0.001263789, 0.001263789, 0.001263789, 0.001263789, 0.001263789, 0.001263789, 0.001263789, 0.001263789, 0.001263789, 0.001263789, 0.001246711, 0.001263789, 0.001246711, 0.001263789, 0.001263789, 0.001263789, 0.001263789, 0.001263789, 0.001263789, 0.001275404, 0.001263789, 0.001263789, 0.001263789, 0.001263789, 0.001246711, 0.001246711, 0.001263789, 0.001263789, 0.001263789, 0.001246711, 0.001263789, 0.001263789, 0.001263789, 0.001263789, 0.001263789, 0.001263789, 0.001263789, 0.001246711, 0.001263789, 0.001263789, 0.001263789, 0.001263789, 0.001258146, 0.001263789, 0.001263789, 0.001263789, 0.001263789, 0.001263789, 0.001263789, 0.001275404, 0.001275404, 0.001263789, 0.001263789, 0.001275404, 0.001278337, 0.001263789, 0.001263789, 0.001263789, 0.001263789, 0.001263789, 0.001263789, 0.001263789, 0.001275404, 0.001275404, 0.001275404, 0.001275404, 0.001299003, 0.001275404, 0.001263789, 0.001263789, 0.001287141, 0.001275404, 0.001263789, 0.001299003, 0.00131099, 0.001246711, 0.001275404, 0.001263789, 0.001287141, 0.001299003, 0.00131099, 0.001287141, 0.001299003, 0.001287141, 0.001287141, 0.001287141, 0.001287141, 0.001275404, 0.001287141, 0.001287141, 0.001275404, 0.001275404, 0.001287141, 0.001275404, 0.001287141, 0.001299003, 0.001299003, 0.001287141, 0.00131099, 0.001275404, 0.001287141, 0.001323105, 0.001299003, 0.001299003, 0.001275404, 0.001299003, 0.001299003, 0.001287141, 0.00131099, 0.00131099, 0.001299003, 0.001323105, 0.00131099, 0.001299003, 0.001299003, 0.001287141, 0.001299003, 0.001323105, 0.001299003, 0.001299003, 0.001299003, 0.001323105, 0.001299003, 0.001323105, 0.00131099, 0.001323105, 0.00131099, 0.00131099, 0.001323105, 0.00131099, 0.001299003, 0.00131099, 0.00131099, 0.001326164, 0.00131099, 0.00131099, 0.00131099, 0.001299003, 0.001323105, 0.001323105, 0.001323105, 0.00131099, 0.00131099, 0.001299003, 0.00131099, 0.001323105, 0.00131099, 0.001323105, 0.00131099, 0.001323105, 0.001323105, 0.001323105, 0.00131099, 0.00131099, 0.001323105, 0.00131099, 0.001314017, 0.00131099, 0.00131099, 0.001323105, 0.001323105, 0.001323105, 0.00131099, 0.001323105, 0.001323105, 0.001323105, 0.001323105, 0.001323105, 0.00131099, 0.001323105, 0.001323105, 0.00131099, 0.00131099, 0.001323105, 0.00131099, 0.00131099, 0.001323105, 0.001323105, 0.001323105, 0.001299003, 0.001323105, 0.001323105, 0.001323105, 0.001323105, 0.001323105, 0.001323105, 0.001323105, 0.001323105, 0.001323105, 0.00131099, 0.001323105, 0.001326164, 0.00131099, 0.001323105, 0.001323105, 0.00131099, 0.001323105, 0.001323105, 0.001323105, 0.001323105, 0.001323105, 0.00131099, 0.001323105, 0.001323105, 0.001323105, 0.001323105, 0.001323105, 0.001323105, 0.001323105, 0.001326164, 0.001323105, 0.001323105, 0.00131099, 0.001323105, 0.001323105, 0.001323105, 0.001323105, 0.001323105, 0.001323105, 0.001323105, 0.00131099, 0.001323105, 0.001323105, 0.001323105, 0.001323105, 0.001323105, 0.001323105, 0.001323105, 0.00131099, 0.001323105, 0.001323105, 0.001323105, 0.001323105, 0.001323105, 0.001323105, 0.001323105, 0.001323105, 0.001323105, 0.001323105, 0.001323105, 0.001323105, 0.001323105, 0.001323105, 0.00131099, 0.001323105, 0.001323105, 0.00131099, 0.001323105, 0.00131099, 0.001323105, 0.00131099, 0.001323105, 0.001323105, 0.00131099, 0.001323105, 0.001323105, 0.001323105, 0.001323105, 0.001323105, 0.001323105, 0.00131099, 0.00131099, 0.001323105, 0.001323105, 0.001323105, 0.001323105, 0.001323105, 0.001323105, 0.001323105, 0.001323105, 0.00131099, 0.001323105, 0.001323105, 0.00131099, 0.00131099, 0.001323105, 0.001323105, 0.001323105, 0.001323105, 0.001323105, 0.001323105, 0.001323105, 0.001323105, 0.001323105, 0.001323105, 0.001323105, 0.001323105, 0.001323105, 0.001323105, 0.001338525, 0.001323105, 0.001323105, 0.001323105, 0.001323105, 0.001323105, 0.001323105, 0.001323105, 0.001323105, 0.001323105, 0.001323105, 0.001323105, 0.001323105, 0.001323105, 0.001323105, 0.001323105, 0.001323105, 0.001323105, 0.001323105, 0.001323105, 0.001323105, 0.001323105, 0.001329231, 0.001323105, 0.001323105, 0.001326164, 0.001323105, 0.001323105, 0.001332307, 0.001329231, 0.001326164, 0.001323105, 0.001326164, 0.001332307, 0.001323105, 0.001323105, 0.001329231, 0.001326164, 0.001332307, 0.001329231, 0.001326164, 0.001323105, 0.001326164, 0.001323105, 0.001323105, 0.001326164, 0.001326164, 0.001323105, 0.001323105, 0.001323105, 0.001326164, 0.001323105, 0.001323105, 0.001326164, 0.001332307, 0.001326164, 0.001329231, 0.00133539, 0.00133539, 0.001338482, 0.001332307, 0.001329231, 0.00133539, 0.001332307, 0.001344734, 0.001332307, 0.001323105, 0.001332307, 0.00133539, 0.00133539, 0.00133539, 0.00133539, 0.001338482, 0.001332307, 0.00133539, 0.001338482, 0.00133539, 0.001338482, 0.001338482, 0.00133539, 0.001338482, 0.001338482, 0.001338482, 0.001332307, 0.001332307, 0.001338482, 0.00133539, 0.001338482, 0.001338482, 0.001338482, 0.00133539, 0.00133539, 0.00133539, 0.00133539, 0.00133539, 0.001338482, 0.001338482, 0.001338482, 0.00133539, 0.001338482, 0.001338482, 0.001338482, 0.001338482, 0.001338482, 0.001338482, 0.001338482, 0.001338482, 0.001320096, 0.001338482, 0.001338482, 0.001338482, 0.001338482, 0.00133539, 0.00133539, 0.001338482, 0.00133539, 0.00133539, 0.001338482, 0.001338482, 0.001338482, 0.001338482, 0.00133539, 0.001338482, 0.001338482, 0.00133539, 0.001338482, 0.001338482, 0.001338482, 0.001338482, 0.001338482, 0.001338482, 0.001338482, 0.00133539, 0.001338482, 0.001338482, 0.001338482, 0.00133539, 0.001338482, 0.001338482, 0.001338482, 0.001350976, 0.001338482, 0.001338482, 0.001338482, 0.00133539, 0.001338482, 0.001350976, 0.001338482, 0.001338482, 0.00133539, 0.001338482, 0.001338482, 0.001338482, 0.001338482, 0.001338482, 0.001338482, 0.001338482, 0.00133539, 0.001338482, 0.001338482, 0.001338482, 0.00133539, 0.001338482, 0.001338482, 0.001338482, 0.001338482, 0.001338482, 0.00133539, 0.001338482, 0.001350976, 0.001338482, 0.001338482, 0.001338482, 0.001376367, 0.001338482, 0.001338482, 0.001338482, 0.001338482, 0.001338482, 0.001338482, 0.001338482, 0.001338482, 0.001338482, 0.001350976, 0.001338482, 0.001338482, 0.001338482, 0.001350976, 0.001338482, 0.00133539, 0.001350976, 0.001338482, 0.001376367, 0.001338482, 0.001363603, 0.001363603, 0.001376367, 0.001338482, 0.001338482, 0.001338482, 0.001338482, 0.001338482, 0.001338482, 0.001338482, 0.001350976, 0.001338482, 0.001350976, 0.001363603, 0.001350976, 0.001376367, 0.001376367, 0.001338482, 0.001376367, 0.001389267, 0.001350976, 0.001363603, 0.001338482, 0.001376367, 0.001350976, 0.001389267, 0.001350976, 0.001363603, 0.001363603, 0.001363603, 0.001338482, 0.001363603, 0.001376367, 0.001363603, 0.001376367, 0.001376367, 0.001376367, 0.001363603, 0.001363603, 0.001338482, 0.001350976, 0.001350976, 0.001376367, 0.001376367, 0.001389267, 0.001350976, 0.001402307, 0.001363603, 0.001363603, 0.001389267, 0.001402307, 0.001402307, 0.001376367, 0.001363603, 0.001363603, 0.001338482, 0.001376367, 0.001389267, 0.001363603, 0.001376367, 0.001350976, 0.001389267, 0.001338482, 0.001376367, 0.001389267, 0.001389267, 0.001350976, 0.001363603, 0.001389267, 0.001363603, 0.001376367, 0.001389267, 0.001402307, 0.001389267, 0.001402307, 0.001389267, 0.001389267, 0.001402307, 0.001402307, 0.001402307, 0.001402307, 0.001402307, 0.001389267, 0.00142227, 0.001376367, 0.001402307, 0.001402307, 0.001402307, 0.001402307, 0.001402307, 0.001389267, 0.001389267, 0.001402307, 0.001389267, 0.001389267, 0.001389267, 0.001402307, 0.001402307, 0.001402307, 0.001402307, 0.001402307, 0.001402307, 0.001402307, 0.001402307, 0.001402307, 0.001402307, 0.001389267, 0.001389267, 0.001402307, 0.001402307, 0.001402307, 0.001402307, 0.00142227, 0.001402307, 0.001389267, 0.001376367, 0.001402307, 0.001402307, 0.001402307, 0.001402307, 0.001402307, 0.001402307, 0.001389267, 0.001402307, 0.001389267, 0.001402307, 0.001402307, 0.001402307, 0.001402307, 0.001402307, 0.001402307, 0.001402307, 0.001402307, 0.001402307, 0.001389267, 0.001402307, 0.001402307, 0.001389267, 0.001402307, 0.001402307, 0.001402307, 0.001376367, 0.001402307, 0.001402307, 0.001402307, 0.001402307, 0.001389267, 0.001402307, 0.001402307, 0.001402307, 0.001402307, 0.001402307, 0.001402307, 0.001402307, 0.001402307, 0.001402307, 0.001402307, 0.001402307, 0.001402307, 0.001402307, 0.001402307, 0.001402307, 0.001402307, 0.001402307, 0.001389267, 0.00142227, 0.001402307, 0.001402307, 0.001402307, 0.001402307, 0.001402307, 0.00142227, 0.001389267, 0.001402307, 0.001402307, 0.001402307, 0.001402307, 0.001463183, 0.001402307, 0.001402307, 0.001402307, 0.001402307, 0.001402307, 0.001402307, 0.001409017, 0.001402307, 0.001402307, 0.001402307, 0.001402307, 0.001402307, 0.001402307, 0.001402307, 0.00142227, 0.001463183, 0.001402307, 0.001402307, 0.001402307, 0.001402307, 0.001402307, 0.00142227, 0.00144256, 0.00144256, 0.001402307, 0.001402307, 0.001402307, 0.00142227, 0.00142227, 0.001463183, 0.00144256, 0.001463183, 0.001463183, 0.00142227, 0.001463183, 0.001484146, 0.001484146, 0.001484146, 0.00144256, 0.001463183, 0.001484146, 0.001484146, 0.001463183, 0.001505453, 0.001484146, 0.001484146, 0.001484146, 0.001505453, 0.001505453, 0.001463183, 0.00144256, 0.00144256, 0.001463183, 0.001463183, 0.001463183, 0.00144256, 0.001463183, 0.001463183, 0.001463183, 0.001484146, 0.001463183, 0.00144256, 0.001484146, 0.001484146, 0.001463183, 0.001463183, 0.001484146, 0.00144256, 0.001463183, 0.001484146, 0.001484146, 0.001484146, 0.001484146, 0.001484146, 0.001519955, 0.001505453, 0.001505453, 0.001463183, 0.001505453, 0.001484146, 0.001484146, 0.001505453, 0.001505453, 0.001484146, 0.001505453, 0.001505453, 0.001463183, 0.001463183, 0.001463183, 0.001484146, 0.001505453, 0.001505453, 0.001505453, 0.001505453, 0.001505453, 0.001505453, 0.001505453, 0.001505453, 0.001484146, 0.001505453, 0.001484146, 0.001505453, 0.001484146, 0.00144256, 0.001519955, 0.001463183, 0.001484146, 0.001505453, 0.001505453, 0.001505453, 0.001505453, 0.001505453, 0.001463183, 0.001463183, 0.001505453, 0.001505453, 0.00144256, 0.001484146, 0.001484146, 0.001505453, 0.001463183, 0.001505453, 0.001484146, 0.001484146, 0.001484146, 0.001505453, 0.001463183, 0.001505453, 0.001463183, 0.001505453, 0.001505453, 0.001505453, 0.001484146, 0.001505453, 0.001484146, 0.001505453, 0.001505453, 0.001505453, 0.001484146, 0.001505453, 0.001484146, 0.001505453, 0.001484146, 0.001505453, 0.001505453, 0.001505453, 0.001505453, 0.001505453, 0.001505453, 0.001505453, 0.001505453, 0.001505453, 0.001505453, 0.001519955, 0.001505453, 0.001484146, 0.001505453, 0.001484146, 0.001505453, 0.001505453, 0.001505453, 0.001505453, 0.001519955, 0.001505453, 0.001505453, 0.001505453, 0.001505453, 0.001530991, 0.001505453, 0.001505453, 0.001519955, 0.001505453, 0.001505453, 0.001505453, 0.001505453, 0.001484146, 0.001505453, 0.001505453, 0.001484146, 0.001505453, 0.001505453, 0.001505453, 0.001505453, 0.001505453, 0.001505453, 0.001505453, 0.001505453, 0.001505453, 0.001505453, 0.001505453, 0.001505453, 0.001505453, 0.001519955, 0.001505453, 0.001505453, 0.001505453, 0.001505453, 0.001505453, 0.001505453, 0.001505453, 0.001505453, 0.00147023, 0.001484146, 0.001505453, 0.001505453, 0.001463183, 0.001505453, 0.001505453, 0.001505453, 0.001505453, 0.001505453, 0.001534617, 0.001505453, 0.001505453, 0.001505453, 0.001505453, 0.001505453, 0.001505453, 0.001505453, 0.001505453, 0.001505453, 0.001505453, 0.001505453, 0.001505453, 0.001505453, 0.001505453, 0.001505453, 0.001519955, 0.001505453, 0.001484146, 0.001505453, 0.001534617, 0.001505453, 0.001519955, 0.001534617, 0.001505453, 0.001519955, 0.001505453, 0.001505453, 0.001505453, 0.001505453, 0.001505453, 0.001505453, 0.001505453, 0.001519955, 0.001505453, 0.001519955, 0.001484146, 0.001505453, 0.001505453, 0.001534617, 0.001564431, 0.001534617, 0.001519955, 0.001534617, 0.001549442, 0.001519955, 0.001534617, 0.001534617, 0.001505453, 0.001519955, 0.001505453, 0.001549442, 0.001549442, 0.001534617, 0.001505453, 0.001549442, 0.001549442, 0.001564431, 0.001564431, 0.001534617, 0.001519955, 0.001484146, 0.001534617, 0.001534617, 0.001534617, 0.001519955, 0.001534617, 0.001564431, 0.001534617, 0.001519955, 0.001549442, 0.001564431, 0.001564431, 0.001564431, 0.001579587, 0.001591122, 0.001549442, 0.001579587, 0.001564431, 0.001579587, 0.001564431, 0.001564431, 0.001579587, 0.001579587, 0.001564431, 0.001564431, 0.001579587, 0.001579587, 0.001579587, 0.001564431, 0.001549442, 0.001549442, 0.001564431, 0.001579587, 0.001534617, 0.001564431, 0.001564431, 0.001564431, 0.001591122, 0.001579587, 0.001579587, 0.001564431, 0.001564431, 0.001519955, 0.001564431, 0.001579587, 0.001549442, 0.001564431, 0.001564431, 0.001564431, 0.001579587, 0.001579587, 0.001579587, 0.001579587, 0.001579587, 0.001579587, 0.001579587, 0.001564431, 0.001579587, 0.001579587, 0.001579587, 0.001579587, 0.001579587, 0.001579587, 0.001579587, 0.001579587, 0.001579587, 0.001579587, 0.001579587, 0.001579587, 0.001579587, 0.001579587, 0.001579587, 0.001579587, 0.001579587, 0.001591122, 0.001579587, 0.001579587, 0.001579587, 0.001564431, 0.001579587, 0.001579587, 0.001579587, 0.001579587, 0.001579587, 0.001579587, 0.001579587, 0.001579587, 0.001579587, 0.001579587, 0.001579587, 0.001579587, 0.001579587, 0.001591122, 0.001579587, 0.001579587, 0.001606729, 0.001579587, 0.001579587, 0.001579587, 0.001579587, 0.001579587, 0.001579587, 0.001579587, 0.001579587, 0.001579587, 0.001591122, 0.001579587, 0.001591122, 0.001579587, 0.001579587, 0.001579587, 0.001579587, 0.001579587, 0.001579587, 0.001579587, 0.001579587, 0.001579587, 0.001591122, 0.001579587, 0.001602753, 0.001602753, 0.001591122, 0.001579587, 0.001579587, 0.001579587, 0.001579587, 0.001579587, 0.001579587, 0.001579587, 0.001579587, 0.001579587, 0.001591122, 0.001579587, 0.001591122, 0.001579587, 0.001579587, 0.001591122, 0.001579587, 0.001579587, 0.001579587, 0.001579587, 0.001579587, 0.001579587, 0.001579587, 0.001579587, 0.001575839, 0.001579587, 0.001587342, 0.001591122, 0.001579587, 0.001579587, 0.001579587, 0.001591122, 0.001579587, 0.001591122, 0.001579587, 0.001579587, 0.001602753, 0.001614482, 0.001614482, 0.001579587, 0.001602753, 0.001579587, 0.001579587, 0.001591122, 0.001602753, 0.001579587, 0.001591122, 0.001591122, 0.001602753, 0.001591122, 0.001579587, 0.001602753, 0.001591122, 0.001614482, 0.001602753, 0.001614482, 0.001602753, 0.001564431, 0.001591122, 0.001579587, 0.001579587, 0.001626309, 0.001638236, 0.001614482, 0.001602753, 0.001591122, 0.001638236, 0.001591122, 0.001591122, 0.001591122, 0.001618491, 0.001614482, 0.001591122, 0.001602753, 0.001626309, 0.001591122, 0.001591122, 0.001614482, 0.001591122, 0.001626309, 0.001602753, 0.001614482, 0.001614482, 0.001602753, 0.001614482, 0.001614482, 0.001614482, 0.001638236, 0.001602753, 0.001614482, 0.001626309, 0.001614482, 0.001614482, 0.001602753, 0.001591122, 0.001626309, 0.001602753, 0.001638236, 0.001614482, 0.001602753, 0.001591122, 0.001626309, 0.001638236, 0.001626309, 0.001626309, 0.001614482, 0.001614482, 0.001602753, 0.001602753, 0.001626309, 0.001614482, 0.001638236, 0.001638236, 0.001614482, 0.001626309, 0.001614482, 0.001638236, 0.001626309, 0.001614482, 0.001614482, 0.001614482, 0.001602753, 0.001614482, 0.001626309, 0.001638236, 0.001638236, 0.001626309, 0.001602753, 0.001602753, 0.001614482, 0.001626309, 0.001626309, 0.001626309, 0.001614482, 0.001626309, 0.001626309, 0.001614482, 0.001626309, 0.001614482, 0.001626309, 0.001626309, 0.001591122, 0.001614482, 0.001602753, 0.001626309, 0.001638236, 0.001626309, 0.001614482, 0.001638236, 0.001638236, 0.001626309, 0.001626309, 0.001638236, 0.001626309, 0.001638236, 0.001626309, 0.001626309, 0.001626309, 0.001614482, 0.001638236, 0.001602753, 0.001638236, 0.001638236, 0.001638236, 0.001626309, 0.001638236, 0.001602753, 0.001614482, 0.001626309, 0.001638236, 0.001638236, 0.001638236, 0.001638236, 0.001638236, 0.001626309, 0.001626309, 0.001638236, 0.001638236, 0.001638236, 0.001638236, 0.001626309, 0.001638236, 0.001626309, 0.001638236, 0.001614482, 0.001638236, 0.001626309, 0.001626309, 0.001638236, 0.001626309, 0.001654375, 0.001638236, 0.001638236, 0.001638236, 0.001626309, 0.001638236, 0.001638236, 0.001638236, 0.001638236, 0.001638236, 0.001638236, 0.001638236, 0.001638236, 0.001638236, 0.001638236, 0.001638236, 0.001626309, 0.001638236, 0.001638236, 0.001654375, 0.001654375, 0.001654375, 0.001670697, 0.001638236, 0.001638236, 0.001638236, 0.001654375, 0.001654375, 0.001670697, 0.001670697, 0.001670697, 0.001674867, 0.001670697, 0.001638236, 0.001654375, 0.001638236, 0.001670697, 0.001654375, 0.001638236, 0.001654375, 0.001670697]\n"
     ]
    }
   ],
   "source": [
    "outlier_list = []\n",
    "for x in data['co']:\n",
    "        if((x>Up_lim) or (x<Low_lim)):\n",
    "            outlier_list.append(x)\n",
    "print('Outliers = \\n', outlier_list)"
   ]
  },
  {
   "cell_type": "code",
   "execution_count": 11,
   "id": "4dd716b0",
   "metadata": {},
   "outputs": [
    {
     "data": {
      "text/plain": [
       "(10480, 1)"
      ]
     },
     "execution_count": 11,
     "metadata": {},
     "output_type": "execute_result"
    }
   ],
   "source": [
    "out=pd.DataFrame(outlier_list)\n",
    "out.shape"
   ]
  },
  {
   "cell_type": "code",
   "execution_count": 12,
   "id": "ae4b1241",
   "metadata": {},
   "outputs": [],
   "source": [
    "#finding index of outlier\n",
    "index=data['co'][(data['co']>Up_lim)|(data['co']<Low_lim)].index\n",
    "\n",
    "#dropping outlier\n",
    "data.drop(index,inplace=True)"
   ]
  },
  {
   "cell_type": "code",
   "execution_count": 13,
   "id": "df46af9e",
   "metadata": {},
   "outputs": [
    {
     "data": {
      "text/plain": [
       "Text(0.5, 1.0, 'CO')"
      ]
     },
     "execution_count": 13,
     "metadata": {},
     "output_type": "execute_result"
    },
    {
     "data": {
      "image/png": "[encoded data removed]",
      "text/plain": [
       "<Figure size 432x288 with 1 Axes>"
      ]
     },
     "metadata": {
      "needs_background": "light"
     },
     "output_type": "display_data"
    }
   ],
   "source": [
    "#boxplot of co\n",
    "plt.boxplot(data['co'])\n",
    "plt.title('CO')"
   ]
  },
  {
   "cell_type": "markdown",
   "id": "4d719a9c",
   "metadata": {},
   "source": [
    "outliers are removed from \"co\" column"
   ]
  },
  {
   "cell_type": "code",
   "execution_count": 14,
   "id": "e839637f",
   "metadata": {},
   "outputs": [
    {
     "data": {
      "text/plain": [
       "Text(0.5, 1.0, 'Humidity')"
      ]
     },
     "execution_count": 14,
     "metadata": {},
     "output_type": "execute_result"
    },
    {
     "data": {
      "image/png": "[encoded data removed]",
      "text/plain": [
       "<Figure size 432x288 with 1 Axes>"
      ]
     },
     "metadata": {
      "needs_background": "light"
     },
     "output_type": "display_data"
    }
   ],
   "source": [
    "#boxplot of Humidity\n",
    "plt.boxplot(data['humidity'])\n",
    "plt.title('Humidity')\n"
   ]
  },
  {
   "cell_type": "markdown",
   "id": "b96427ea",
   "metadata": {},
   "source": [
    "Outliers present in this column"
   ]
  },
  {
   "cell_type": "code",
   "execution_count": 15,
   "id": "1047957c",
   "metadata": {},
   "outputs": [
    {
     "name": "stdout",
     "output_type": "stream",
     "text": [
      "Q1 : 51.0\n",
      "Q2 : 54.40000153\n",
      "Q3 : 74.09999847\n",
      "Inter Quartile Range :  23.099998470000003\n",
      "Lower Limit :  16.350002294999996\n",
      "Upper Limit :  108.749996175\n"
     ]
    }
   ],
   "source": [
    "# calculating 1st, 2nd and 3rd quartiles\n",
    "Q1=np.percentile(data['humidity'], 25, interpolation='midpoint')\n",
    "Q2=np.percentile(data['humidity'], 50, interpolation='midpoint')\n",
    "Q3=np.percentile(data['humidity'], 75, interpolation='midpoint')\n",
    "print (\"Q1 :\", Q1)\n",
    "print (\"Q2 :\", Q2)\n",
    "print (\"Q3 :\", Q3)\n",
    "\n",
    "# calculating Lower and Upper limit\n",
    "IQR= Q3-Q1\n",
    "Low_lim= Q1-(1.5*IQR)\n",
    "Up_lim= Q3+(1.5*IQR)\n",
    "print(\"Inter Quartile Range : \",IQR)\n",
    "print(\"Lower Limit : \",Low_lim)\n",
    "print(\"Upper Limit : \",Up_lim)"
   ]
  },
  {
   "cell_type": "code",
   "execution_count": 16,
   "id": "18ceb4fb",
   "metadata": {},
   "outputs": [
    {
     "data": {
      "text/plain": [
       "(44, 1)"
      ]
     },
     "execution_count": 16,
     "metadata": {},
     "output_type": "execute_result"
    }
   ],
   "source": [
    "outlier_list1 = []\n",
    "for x in data['humidity']:\n",
    "        if((x>Up_lim) or (x<Low_lim)):\n",
    "            outlier_list1.append(x)\n",
    "            \n",
    "out=pd.DataFrame(outlier_list1)\n",
    "out.shape"
   ]
  },
  {
   "cell_type": "code",
   "execution_count": 17,
   "id": "2452bf50",
   "metadata": {},
   "outputs": [],
   "source": [
    "#finding index of outlier\n",
    "index1=data['humidity'][(data['humidity']>Up_lim)|(data['humidity']<Low_lim)].index\n",
    "\n",
    "#dropping outlier\n",
    "data.drop(index1,inplace=True)"
   ]
  },
  {
   "cell_type": "code",
   "execution_count": 18,
   "id": "641f7608",
   "metadata": {},
   "outputs": [
    {
     "data": {
      "text/plain": [
       "Text(0.5, 1.0, 'Humidity')"
      ]
     },
     "execution_count": 18,
     "metadata": {},
     "output_type": "execute_result"
    },
    {
     "data": {
      "image/png": "[encoded data removed]",
      "text/plain": [
       "<Figure size 432x288 with 1 Axes>"
      ]
     },
     "metadata": {
      "needs_background": "light"
     },
     "output_type": "display_data"
    }
   ],
   "source": [
    "#boxplot of Humidity\n",
    "plt.boxplot(data['humidity'])\n",
    "plt.title('Humidity')"
   ]
  },
  {
   "cell_type": "markdown",
   "id": "f0c90e7d",
   "metadata": {},
   "source": [
    "Now all outliers are removed"
   ]
  },
  {
   "cell_type": "code",
   "execution_count": 19,
   "id": "db30681b",
   "metadata": {},
   "outputs": [
    {
     "data": {
      "text/plain": [
       "Text(0.5, 1.0, 'LPG')"
      ]
     },
     "execution_count": 19,
     "metadata": {},
     "output_type": "execute_result"
    },
    {
     "data": {
      "image/png": "[encoded data removed]",
      "text/plain": [
       "<Figure size 432x288 with 1 Axes>"
      ]
     },
     "metadata": {
      "needs_background": "light"
     },
     "output_type": "display_data"
    }
   ],
   "source": [
    "#boxplot of lpg\n",
    "plt.boxplot(data['lpg'])\n",
    "plt.title('LPG')"
   ]
  },
  {
   "cell_type": "code",
   "execution_count": 20,
   "id": "30fd2134",
   "metadata": {},
   "outputs": [
    {
     "name": "stdout",
     "output_type": "stream",
     "text": [
      "Q1 : 0.006469784\n",
      "Q2 : 0.007496462\n",
      "Q3 : 0.008132639\n",
      "Inter Quartile Range :  0.0016628550000000004\n",
      "Lower Limit :  0.003975501499999999\n",
      "Upper Limit :  0.0106269215\n"
     ]
    }
   ],
   "source": [
    "# calculating 1st, 2nd and 3rd quartiles\n",
    "Q1=np.percentile(data['lpg'], 25, interpolation='midpoint')\n",
    "Q2=np.percentile(data['lpg'], 50, interpolation='midpoint')\n",
    "Q3=np.percentile(data['lpg'], 75, interpolation='midpoint')\n",
    "print (\"Q1 :\", Q1)\n",
    "print (\"Q2 :\", Q2)\n",
    "print (\"Q3 :\", Q3)\n",
    "\n",
    "# calculating Lower and Upper limit\n",
    "IQR= Q3-Q1\n",
    "Low_lim= Q1-(1.5*IQR)\n",
    "Up_lim= Q3+(1.5*IQR)\n",
    "print(\"Inter Quartile Range : \",IQR)\n",
    "print(\"Lower Limit : \",Low_lim)\n",
    "print(\"Upper Limit : \",Up_lim)"
   ]
  },
  {
   "cell_type": "code",
   "execution_count": 21,
   "id": "8ea759be",
   "metadata": {},
   "outputs": [
    {
     "data": {
      "text/plain": [
       "(3967, 1)"
      ]
     },
     "execution_count": 21,
     "metadata": {},
     "output_type": "execute_result"
    }
   ],
   "source": [
    "outlier_list2 = []\n",
    "for x in data['lpg']:\n",
    "        if((x>Up_lim) or (x<Low_lim)):\n",
    "            outlier_list2.append(x)\n",
    "            \n",
    "out=pd.DataFrame(outlier_list2)\n",
    "out.shape"
   ]
  },
  {
   "cell_type": "code",
   "execution_count": 22,
   "id": "05556e04",
   "metadata": {},
   "outputs": [],
   "source": [
    "#finding index of outlier\n",
    "index2=data['lpg'][(data['lpg']>Up_lim)|(data['lpg']<Low_lim)].index\n",
    "\n",
    "#dropping outlier\n",
    "data.drop(index2,inplace=True)"
   ]
  },
  {
   "cell_type": "code",
   "execution_count": 23,
   "id": "abe6be6f",
   "metadata": {},
   "outputs": [
    {
     "data": {
      "text/plain": [
       "Text(0.5, 1.0, 'LPG')"
      ]
     },
     "execution_count": 23,
     "metadata": {},
     "output_type": "execute_result"
    },
    {
     "data": {
      "image/png": "[encoded data removed]",
      "text/plain": [
       "<Figure size 432x288 with 1 Axes>"
      ]
     },
     "metadata": {
      "needs_background": "light"
     },
     "output_type": "display_data"
    }
   ],
   "source": [
    "#boxplot of lpg\n",
    "plt.boxplot(data['lpg'])\n",
    "plt.title('LPG')"
   ]
  },
  {
   "cell_type": "code",
   "execution_count": 24,
   "id": "68f5f520",
   "metadata": {},
   "outputs": [
    {
     "data": {
      "text/plain": [
       "Text(0.5, 1.0, 'smoke')"
      ]
     },
     "execution_count": 24,
     "metadata": {},
     "output_type": "execute_result"
    },
    {
     "data": {
      "image/png": "[encoded data removed]",
      "text/plain": [
       "<Figure size 432x288 with 1 Axes>"
      ]
     },
     "metadata": {
      "needs_background": "light"
     },
     "output_type": "display_data"
    }
   ],
   "source": [
    "#boxplot of smoke\n",
    "plt.boxplot(data['smoke'])\n",
    "plt.title('smoke')"
   ]
  },
  {
   "cell_type": "markdown",
   "id": "401a2205",
   "metadata": {},
   "source": [
    "No outliers present in this column"
   ]
  },
  {
   "cell_type": "code",
   "execution_count": 25,
   "id": "aea1d9ee",
   "metadata": {},
   "outputs": [
    {
     "data": {
      "text/plain": [
       "Text(0.5, 1.0, 'Temperature')"
      ]
     },
     "execution_count": 25,
     "metadata": {},
     "output_type": "execute_result"
    },
    {
     "data": {
      "image/png": "[encoded data removed]",
      "text/plain": [
       "<Figure size 432x288 with 1 Axes>"
      ]
     },
     "metadata": {
      "needs_background": "light"
     },
     "output_type": "display_data"
    }
   ],
   "source": [
    "#boxplot of temp\n",
    "plt.boxplot(data['temp'])\n",
    "plt.title('Temperature')"
   ]
  },
  {
   "cell_type": "code",
   "execution_count": 26,
   "id": "0bd83f8a",
   "metadata": {},
   "outputs": [
    {
     "name": "stdout",
     "output_type": "stream",
     "text": [
      "Q1 : 20.10000038\n",
      "Q2 : 22.3\n",
      "Q3 : 23.60000038\n",
      "Inter Quartile Range :  3.5\n",
      "Lower Limit :  14.85000038\n",
      "Upper Limit :  28.85000038\n"
     ]
    }
   ],
   "source": [
    "# calculating 1st, 2nd and 3rd quartiles\n",
    "Q1=np.percentile(data['temp'], 25, interpolation='midpoint')\n",
    "Q2=np.percentile(data['temp'], 50, interpolation='midpoint')\n",
    "Q3=np.percentile(data['temp'], 75, interpolation='midpoint')\n",
    "print (\"Q1 :\", Q1)\n",
    "print (\"Q2 :\", Q2)\n",
    "print (\"Q3 :\", Q3)\n",
    "\n",
    "# calculating Lower and Upper limit\n",
    "IQR= Q3-Q1\n",
    "Low_lim= Q1-(1.5*IQR)\n",
    "Up_lim= Q3+(1.5*IQR)\n",
    "print(\"Inter Quartile Range : \",IQR)\n",
    "print(\"Lower Limit : \",Low_lim)\n",
    "print(\"Upper Limit : \",Up_lim)\n"
   ]
  },
  {
   "cell_type": "code",
   "execution_count": 27,
   "id": "6f1e4d40",
   "metadata": {},
   "outputs": [
    {
     "data": {
      "text/plain": [
       "(11045, 1)"
      ]
     },
     "execution_count": 27,
     "metadata": {},
     "output_type": "execute_result"
    }
   ],
   "source": [
    "outlier_list3 = []\n",
    "for x in data['temp']:\n",
    "        if((x>Up_lim) or (x<Low_lim)):\n",
    "            outlier_list3.append(x)\n",
    "            \n",
    "out=pd.DataFrame(outlier_list3)\n",
    "out.shape"
   ]
  },
  {
   "cell_type": "code",
   "execution_count": 28,
   "id": "b20c8b77",
   "metadata": {},
   "outputs": [],
   "source": [
    "#finding index of outlier\n",
    "index3=data['temp'][(data['temp']>Up_lim)|(data['temp']<Low_lim)].index\n",
    "\n",
    "#dropping outlier\n",
    "data.drop(index3,inplace=True)"
   ]
  },
  {
   "cell_type": "code",
   "execution_count": 29,
   "id": "5c071795",
   "metadata": {},
   "outputs": [
    {
     "data": {
      "text/plain": [
       "Text(0.5, 1.0, 'Temperature')"
      ]
     },
     "execution_count": 29,
     "metadata": {},
     "output_type": "execute_result"
    },
    {
     "data": {
      "image/png": "[encoded data removed]",
      "text/plain": [
       "<Figure size 432x288 with 1 Axes>"
      ]
     },
     "metadata": {
      "needs_background": "light"
     },
     "output_type": "display_data"
    }
   ],
   "source": [
    "#boxplot of temp\n",
    "plt.boxplot(data['temp'])\n",
    "plt.title('Temperature')"
   ]
  },
  {
   "cell_type": "markdown",
   "id": "9c64a6f5",
   "metadata": {},
   "source": [
    "All outliers are handled"
   ]
  },
  {
   "cell_type": "markdown",
   "id": "0e61f50f",
   "metadata": {},
   "source": [
    "# 3. Encoding"
   ]
  },
  {
   "cell_type": "code",
   "execution_count": 30,
   "id": "fade7b9f",
   "metadata": {},
   "outputs": [
    {
     "data": {
      "text/plain": [
       "b8:27:eb:bf:9d:51    186731\n",
       "00:0f:00:70:91:0a     97900\n",
       "1c:bf:ce:15:ec:4d     95017\n",
       "Name: device, dtype: int64"
      ]
     },
     "execution_count": 30,
     "metadata": {},
     "output_type": "execute_result"
    }
   ],
   "source": [
    "data['device'].value_counts()"
   ]
  },
  {
   "cell_type": "code",
   "execution_count": 31,
   "id": "8222b70f",
   "metadata": {},
   "outputs": [
    {
     "data": {
      "text/html": [
       "<div>\n",
       "<style scoped>\n",
       "    .dataframe tbody tr th:only-of-type {\n",
       "        vertical-align: middle;\n",
       "    }\n",
       "\n",
       "    .dataframe tbody tr th {\n",
       "        vertical-align: top;\n",
       "    }\n",
       "\n",
       "    .dataframe thead th {\n",
       "        text-align: right;\n",
       "    }\n",
       "</style>\n",
       "<table border=\"1\" class=\"dataframe\">\n",
       "  <thead>\n",
       "    <tr style=\"text-align: right;\">\n",
       "      <th></th>\n",
       "      <th>ts</th>\n",
       "      <th>device</th>\n",
       "      <th>co</th>\n",
       "      <th>humidity</th>\n",
       "      <th>light</th>\n",
       "      <th>lpg</th>\n",
       "      <th>motion</th>\n",
       "      <th>smoke</th>\n",
       "      <th>temp</th>\n",
       "      <th>Data Stream ID</th>\n",
       "      <th>Resource ID</th>\n",
       "      <th>Measurement ID</th>\n",
       "      <th>Record ID</th>\n",
       "      <th>condition</th>\n",
       "    </tr>\n",
       "  </thead>\n",
       "  <tbody>\n",
       "    <tr>\n",
       "      <th>0</th>\n",
       "      <td>1.594512e+09</td>\n",
       "      <td>b8:27:eb:bf:9d:51</td>\n",
       "      <td>0.004956</td>\n",
       "      <td>51.000000</td>\n",
       "      <td>False</td>\n",
       "      <td>0.007651</td>\n",
       "      <td>False</td>\n",
       "      <td>0.020411</td>\n",
       "      <td>22.700000</td>\n",
       "      <td>33313</td>\n",
       "      <td>65523</td>\n",
       "      <td>2.519093e+18</td>\n",
       "      <td>333132519093122000000000.00</td>\n",
       "      <td>2</td>\n",
       "    </tr>\n",
       "    <tr>\n",
       "      <th>1</th>\n",
       "      <td>1.594512e+09</td>\n",
       "      <td>00:0f:00:70:91:0a</td>\n",
       "      <td>0.002840</td>\n",
       "      <td>76.000000</td>\n",
       "      <td>False</td>\n",
       "      <td>0.005114</td>\n",
       "      <td>False</td>\n",
       "      <td>0.013275</td>\n",
       "      <td>19.700001</td>\n",
       "      <td>33313</td>\n",
       "      <td>65523</td>\n",
       "      <td>2.519093e+18</td>\n",
       "      <td>333132519093122000000000.00</td>\n",
       "      <td>0</td>\n",
       "    </tr>\n",
       "    <tr>\n",
       "      <th>2</th>\n",
       "      <td>1.594512e+09</td>\n",
       "      <td>b8:27:eb:bf:9d:51</td>\n",
       "      <td>0.004976</td>\n",
       "      <td>50.900000</td>\n",
       "      <td>False</td>\n",
       "      <td>0.007673</td>\n",
       "      <td>False</td>\n",
       "      <td>0.020475</td>\n",
       "      <td>22.600000</td>\n",
       "      <td>33313</td>\n",
       "      <td>65523</td>\n",
       "      <td>2.519093e+18</td>\n",
       "      <td>333132519093123000000000.00</td>\n",
       "      <td>2</td>\n",
       "    </tr>\n",
       "    <tr>\n",
       "      <th>3</th>\n",
       "      <td>1.594512e+09</td>\n",
       "      <td>1c:bf:ce:15:ec:4d</td>\n",
       "      <td>0.004403</td>\n",
       "      <td>76.800003</td>\n",
       "      <td>True</td>\n",
       "      <td>0.007023</td>\n",
       "      <td>False</td>\n",
       "      <td>0.018628</td>\n",
       "      <td>27.000000</td>\n",
       "      <td>33313</td>\n",
       "      <td>65523</td>\n",
       "      <td>2.519093e+18</td>\n",
       "      <td>333132519093123000000000.00</td>\n",
       "      <td>1</td>\n",
       "    </tr>\n",
       "    <tr>\n",
       "      <th>4</th>\n",
       "      <td>1.594512e+09</td>\n",
       "      <td>b8:27:eb:bf:9d:51</td>\n",
       "      <td>0.004967</td>\n",
       "      <td>50.900000</td>\n",
       "      <td>False</td>\n",
       "      <td>0.007664</td>\n",
       "      <td>False</td>\n",
       "      <td>0.020448</td>\n",
       "      <td>22.600000</td>\n",
       "      <td>33313</td>\n",
       "      <td>65523</td>\n",
       "      <td>2.519093e+18</td>\n",
       "      <td>333132519093124000000000.00</td>\n",
       "      <td>2</td>\n",
       "    </tr>\n",
       "  </tbody>\n",
       "</table>\n",
       "</div>"
      ],
      "text/plain": [
       "             ts             device        co   humidity  light       lpg  \\\n",
       "0  1.594512e+09  b8:27:eb:bf:9d:51  0.004956  51.000000  False  0.007651   \n",
       "1  1.594512e+09  00:0f:00:70:91:0a  0.002840  76.000000  False  0.005114   \n",
       "2  1.594512e+09  b8:27:eb:bf:9d:51  0.004976  50.900000  False  0.007673   \n",
       "3  1.594512e+09  1c:bf:ce:15:ec:4d  0.004403  76.800003   True  0.007023   \n",
       "4  1.594512e+09  b8:27:eb:bf:9d:51  0.004967  50.900000  False  0.007664   \n",
       "\n",
       "   motion     smoke       temp  Data Stream ID  Resource ID  Measurement ID  \\\n",
       "0   False  0.020411  22.700000           33313        65523    2.519093e+18   \n",
       "1   False  0.013275  19.700001           33313        65523    2.519093e+18   \n",
       "2   False  0.020475  22.600000           33313        65523    2.519093e+18   \n",
       "3   False  0.018628  27.000000           33313        65523    2.519093e+18   \n",
       "4   False  0.020448  22.600000           33313        65523    2.519093e+18   \n",
       "\n",
       "                     Record ID  condition  \n",
       "0  333132519093122000000000.00          2  \n",
       "1  333132519093122000000000.00          0  \n",
       "2  333132519093123000000000.00          2  \n",
       "3  333132519093123000000000.00          1  \n",
       "4  333132519093124000000000.00          2  "
      ]
     },
     "execution_count": 31,
     "metadata": {},
     "output_type": "execute_result"
    }
   ],
   "source": [
    "from sklearn.preprocessing import LabelEncoder\n",
    "\n",
    "# label encoding device column\n",
    "encLab = LabelEncoder()\n",
    "deviceEnc = pd.DataFrame(encLab.fit_transform(data['device']), columns=['condition'])\n",
    "deviceEnc.index = data.index\n",
    "\n",
    "dataEnc = pd.concat([data, deviceEnc], axis=1)\n",
    "dataEnc.head()"
   ]
  },
  {
   "cell_type": "code",
   "execution_count": 32,
   "id": "17802986",
   "metadata": {},
   "outputs": [
    {
     "data": {
      "text/html": [
       "<div>\n",
       "<style scoped>\n",
       "    .dataframe tbody tr th:only-of-type {\n",
       "        vertical-align: middle;\n",
       "    }\n",
       "\n",
       "    .dataframe tbody tr th {\n",
       "        vertical-align: top;\n",
       "    }\n",
       "\n",
       "    .dataframe thead th {\n",
       "        text-align: right;\n",
       "    }\n",
       "</style>\n",
       "<table border=\"1\" class=\"dataframe\">\n",
       "  <thead>\n",
       "    <tr style=\"text-align: right;\">\n",
       "      <th></th>\n",
       "      <th>ts</th>\n",
       "      <th>device</th>\n",
       "      <th>co</th>\n",
       "      <th>humidity</th>\n",
       "      <th>light</th>\n",
       "      <th>lpg</th>\n",
       "      <th>motion</th>\n",
       "      <th>smoke</th>\n",
       "      <th>temp</th>\n",
       "      <th>Data Stream ID</th>\n",
       "      <th>Resource ID</th>\n",
       "      <th>Measurement ID</th>\n",
       "      <th>Record ID</th>\n",
       "      <th>condition</th>\n",
       "      <th>lights</th>\n",
       "    </tr>\n",
       "  </thead>\n",
       "  <tbody>\n",
       "    <tr>\n",
       "      <th>0</th>\n",
       "      <td>1.594512e+09</td>\n",
       "      <td>b8:27:eb:bf:9d:51</td>\n",
       "      <td>0.004956</td>\n",
       "      <td>51.000000</td>\n",
       "      <td>False</td>\n",
       "      <td>0.007651</td>\n",
       "      <td>False</td>\n",
       "      <td>0.020411</td>\n",
       "      <td>22.700000</td>\n",
       "      <td>33313</td>\n",
       "      <td>65523</td>\n",
       "      <td>2.519093e+18</td>\n",
       "      <td>333132519093122000000000.00</td>\n",
       "      <td>2</td>\n",
       "      <td>0</td>\n",
       "    </tr>\n",
       "    <tr>\n",
       "      <th>1</th>\n",
       "      <td>1.594512e+09</td>\n",
       "      <td>00:0f:00:70:91:0a</td>\n",
       "      <td>0.002840</td>\n",
       "      <td>76.000000</td>\n",
       "      <td>False</td>\n",
       "      <td>0.005114</td>\n",
       "      <td>False</td>\n",
       "      <td>0.013275</td>\n",
       "      <td>19.700001</td>\n",
       "      <td>33313</td>\n",
       "      <td>65523</td>\n",
       "      <td>2.519093e+18</td>\n",
       "      <td>333132519093122000000000.00</td>\n",
       "      <td>0</td>\n",
       "      <td>0</td>\n",
       "    </tr>\n",
       "    <tr>\n",
       "      <th>2</th>\n",
       "      <td>1.594512e+09</td>\n",
       "      <td>b8:27:eb:bf:9d:51</td>\n",
       "      <td>0.004976</td>\n",
       "      <td>50.900000</td>\n",
       "      <td>False</td>\n",
       "      <td>0.007673</td>\n",
       "      <td>False</td>\n",
       "      <td>0.020475</td>\n",
       "      <td>22.600000</td>\n",
       "      <td>33313</td>\n",
       "      <td>65523</td>\n",
       "      <td>2.519093e+18</td>\n",
       "      <td>333132519093123000000000.00</td>\n",
       "      <td>2</td>\n",
       "      <td>0</td>\n",
       "    </tr>\n",
       "    <tr>\n",
       "      <th>3</th>\n",
       "      <td>1.594512e+09</td>\n",
       "      <td>1c:bf:ce:15:ec:4d</td>\n",
       "      <td>0.004403</td>\n",
       "      <td>76.800003</td>\n",
       "      <td>True</td>\n",
       "      <td>0.007023</td>\n",
       "      <td>False</td>\n",
       "      <td>0.018628</td>\n",
       "      <td>27.000000</td>\n",
       "      <td>33313</td>\n",
       "      <td>65523</td>\n",
       "      <td>2.519093e+18</td>\n",
       "      <td>333132519093123000000000.00</td>\n",
       "      <td>1</td>\n",
       "      <td>1</td>\n",
       "    </tr>\n",
       "    <tr>\n",
       "      <th>4</th>\n",
       "      <td>1.594512e+09</td>\n",
       "      <td>b8:27:eb:bf:9d:51</td>\n",
       "      <td>0.004967</td>\n",
       "      <td>50.900000</td>\n",
       "      <td>False</td>\n",
       "      <td>0.007664</td>\n",
       "      <td>False</td>\n",
       "      <td>0.020448</td>\n",
       "      <td>22.600000</td>\n",
       "      <td>33313</td>\n",
       "      <td>65523</td>\n",
       "      <td>2.519093e+18</td>\n",
       "      <td>333132519093124000000000.00</td>\n",
       "      <td>2</td>\n",
       "      <td>0</td>\n",
       "    </tr>\n",
       "  </tbody>\n",
       "</table>\n",
       "</div>"
      ],
      "text/plain": [
       "             ts             device        co   humidity  light       lpg  \\\n",
       "0  1.594512e+09  b8:27:eb:bf:9d:51  0.004956  51.000000  False  0.007651   \n",
       "1  1.594512e+09  00:0f:00:70:91:0a  0.002840  76.000000  False  0.005114   \n",
       "2  1.594512e+09  b8:27:eb:bf:9d:51  0.004976  50.900000  False  0.007673   \n",
       "3  1.594512e+09  1c:bf:ce:15:ec:4d  0.004403  76.800003   True  0.007023   \n",
       "4  1.594512e+09  b8:27:eb:bf:9d:51  0.004967  50.900000  False  0.007664   \n",
       "\n",
       "   motion     smoke       temp  Data Stream ID  Resource ID  Measurement ID  \\\n",
       "0   False  0.020411  22.700000           33313        65523    2.519093e+18   \n",
       "1   False  0.013275  19.700001           33313        65523    2.519093e+18   \n",
       "2   False  0.020475  22.600000           33313        65523    2.519093e+18   \n",
       "3   False  0.018628  27.000000           33313        65523    2.519093e+18   \n",
       "4   False  0.020448  22.600000           33313        65523    2.519093e+18   \n",
       "\n",
       "                     Record ID  condition  lights  \n",
       "0  333132519093122000000000.00          2       0  \n",
       "1  333132519093122000000000.00          0       0  \n",
       "2  333132519093123000000000.00          2       0  \n",
       "3  333132519093123000000000.00          1       1  \n",
       "4  333132519093124000000000.00          2       0  "
      ]
     },
     "execution_count": 32,
     "metadata": {},
     "output_type": "execute_result"
    }
   ],
   "source": [
    "# Label Encoding Light column\n",
    "encLab2 = LabelEncoder()\n",
    "lightEnc = pd.DataFrame(encLab2.fit_transform(dataEnc['light']), columns=['lights'])\n",
    "lightEnc.index = dataEnc.index\n",
    "\n",
    "dataEnc2 = pd.concat([dataEnc, lightEnc], axis=1)\n",
    "dataEnc2.head()"
   ]
  },
  {
   "cell_type": "markdown",
   "id": "2d5a6d81",
   "metadata": {},
   "source": [
    "# 4. Feature reduction"
   ]
  },
  {
   "cell_type": "code",
   "execution_count": 33,
   "id": "3b9fb998",
   "metadata": {},
   "outputs": [
    {
     "data": {
      "text/html": [
       "<div>\n",
       "<style scoped>\n",
       "    .dataframe tbody tr th:only-of-type {\n",
       "        vertical-align: middle;\n",
       "    }\n",
       "\n",
       "    .dataframe tbody tr th {\n",
       "        vertical-align: top;\n",
       "    }\n",
       "\n",
       "    .dataframe thead th {\n",
       "        text-align: right;\n",
       "    }\n",
       "</style>\n",
       "<table border=\"1\" class=\"dataframe\">\n",
       "  <thead>\n",
       "    <tr style=\"text-align: right;\">\n",
       "      <th></th>\n",
       "      <th>co</th>\n",
       "      <th>humidity</th>\n",
       "      <th>lpg</th>\n",
       "      <th>smoke</th>\n",
       "      <th>temp</th>\n",
       "      <th>condition</th>\n",
       "      <th>lights</th>\n",
       "    </tr>\n",
       "  </thead>\n",
       "  <tbody>\n",
       "    <tr>\n",
       "      <th>0</th>\n",
       "      <td>0.004956</td>\n",
       "      <td>51.000000</td>\n",
       "      <td>0.007651</td>\n",
       "      <td>0.020411</td>\n",
       "      <td>22.700000</td>\n",
       "      <td>2</td>\n",
       "      <td>0</td>\n",
       "    </tr>\n",
       "    <tr>\n",
       "      <th>1</th>\n",
       "      <td>0.002840</td>\n",
       "      <td>76.000000</td>\n",
       "      <td>0.005114</td>\n",
       "      <td>0.013275</td>\n",
       "      <td>19.700001</td>\n",
       "      <td>0</td>\n",
       "      <td>0</td>\n",
       "    </tr>\n",
       "    <tr>\n",
       "      <th>2</th>\n",
       "      <td>0.004976</td>\n",
       "      <td>50.900000</td>\n",
       "      <td>0.007673</td>\n",
       "      <td>0.020475</td>\n",
       "      <td>22.600000</td>\n",
       "      <td>2</td>\n",
       "      <td>0</td>\n",
       "    </tr>\n",
       "    <tr>\n",
       "      <th>3</th>\n",
       "      <td>0.004403</td>\n",
       "      <td>76.800003</td>\n",
       "      <td>0.007023</td>\n",
       "      <td>0.018628</td>\n",
       "      <td>27.000000</td>\n",
       "      <td>1</td>\n",
       "      <td>1</td>\n",
       "    </tr>\n",
       "    <tr>\n",
       "      <th>4</th>\n",
       "      <td>0.004967</td>\n",
       "      <td>50.900000</td>\n",
       "      <td>0.007664</td>\n",
       "      <td>0.020448</td>\n",
       "      <td>22.600000</td>\n",
       "      <td>2</td>\n",
       "      <td>0</td>\n",
       "    </tr>\n",
       "  </tbody>\n",
       "</table>\n",
       "</div>"
      ],
      "text/plain": [
       "         co   humidity       lpg     smoke       temp  condition  lights\n",
       "0  0.004956  51.000000  0.007651  0.020411  22.700000          2       0\n",
       "1  0.002840  76.000000  0.005114  0.013275  19.700001          0       0\n",
       "2  0.004976  50.900000  0.007673  0.020475  22.600000          2       0\n",
       "3  0.004403  76.800003  0.007023  0.018628  27.000000          1       1\n",
       "4  0.004967  50.900000  0.007664  0.020448  22.600000          2       0"
      ]
     },
     "execution_count": 33,
     "metadata": {},
     "output_type": "execute_result"
    }
   ],
   "source": [
    "# removing columns\n",
    "dataProcessed = dataEnc2.drop(['device', 'light', 'ts','motion', 'Data Stream ID', 'Resource ID', 'Measurement ID', 'Record ID' ], axis=1)\n",
    "dataProcessed.head()"
   ]
  },
  {
   "cell_type": "markdown",
   "id": "2e0773fc",
   "metadata": {},
   "source": [
    "# 5. Normalization"
   ]
  },
  {
   "cell_type": "code",
   "execution_count": 34,
   "id": "529fc5ef",
   "metadata": {},
   "outputs": [],
   "source": [
    "#import libraries\n",
    "from sklearn import preprocessing\n",
    "from sklearn.model_selection import train_test_split\n",
    "from sklearn import linear_model\n",
    "from sklearn.metrics import mean_squared_error\n",
    "from sklearn.metrics import r2_score"
   ]
  },
  {
   "cell_type": "code",
   "execution_count": 35,
   "id": "1b835434",
   "metadata": {},
   "outputs": [],
   "source": [
    "df=dataProcessed"
   ]
  },
  {
   "cell_type": "code",
   "execution_count": 36,
   "id": "36a5fad8",
   "metadata": {},
   "outputs": [
    {
     "data": {
      "text/html": [
       "<div>\n",
       "<style scoped>\n",
       "    .dataframe tbody tr th:only-of-type {\n",
       "        vertical-align: middle;\n",
       "    }\n",
       "\n",
       "    .dataframe tbody tr th {\n",
       "        vertical-align: top;\n",
       "    }\n",
       "\n",
       "    .dataframe thead th {\n",
       "        text-align: right;\n",
       "    }\n",
       "</style>\n",
       "<table border=\"1\" class=\"dataframe\">\n",
       "  <thead>\n",
       "    <tr style=\"text-align: right;\">\n",
       "      <th></th>\n",
       "      <th>co</th>\n",
       "      <th>humidity</th>\n",
       "      <th>lpg</th>\n",
       "      <th>smoke</th>\n",
       "      <th>temp</th>\n",
       "      <th>condition</th>\n",
       "      <th>lights</th>\n",
       "    </tr>\n",
       "  </thead>\n",
       "  <tbody>\n",
       "    <tr>\n",
       "      <th>count</th>\n",
       "      <td>379648.000000</td>\n",
       "      <td>379648.000000</td>\n",
       "      <td>379648.000000</td>\n",
       "      <td>379648.000000</td>\n",
       "      <td>379648.000000</td>\n",
       "      <td>379648.000000</td>\n",
       "      <td>379648.000000</td>\n",
       "    </tr>\n",
       "    <tr>\n",
       "      <th>mean</th>\n",
       "      <td>0.004693</td>\n",
       "      <td>60.093119</td>\n",
       "      <td>0.007314</td>\n",
       "      <td>0.019473</td>\n",
       "      <td>22.371141</td>\n",
       "      <td>1.233983</td>\n",
       "      <td>0.267419</td>\n",
       "    </tr>\n",
       "    <tr>\n",
       "      <th>std</th>\n",
       "      <td>0.001073</td>\n",
       "      <td>11.292180</td>\n",
       "      <td>0.001238</td>\n",
       "      <td>0.003507</td>\n",
       "      <td>2.404998</td>\n",
       "      <td>0.833653</td>\n",
       "      <td>0.442613</td>\n",
       "    </tr>\n",
       "    <tr>\n",
       "      <th>min</th>\n",
       "      <td>0.002008</td>\n",
       "      <td>16.600000</td>\n",
       "      <td>0.003979</td>\n",
       "      <td>0.010153</td>\n",
       "      <td>15.600000</td>\n",
       "      <td>0.000000</td>\n",
       "      <td>0.000000</td>\n",
       "    </tr>\n",
       "    <tr>\n",
       "      <th>25%</th>\n",
       "      <td>0.003958</td>\n",
       "      <td>50.900000</td>\n",
       "      <td>0.006502</td>\n",
       "      <td>0.017155</td>\n",
       "      <td>20.000000</td>\n",
       "      <td>0.000000</td>\n",
       "      <td>0.000000</td>\n",
       "    </tr>\n",
       "    <tr>\n",
       "      <th>50%</th>\n",
       "      <td>0.004858</td>\n",
       "      <td>54.100000</td>\n",
       "      <td>0.007541</td>\n",
       "      <td>0.020099</td>\n",
       "      <td>22.300000</td>\n",
       "      <td>1.000000</td>\n",
       "      <td>0.000000</td>\n",
       "    </tr>\n",
       "    <tr>\n",
       "      <th>75%</th>\n",
       "      <td>0.005455</td>\n",
       "      <td>74.099998</td>\n",
       "      <td>0.008201</td>\n",
       "      <td>0.021983</td>\n",
       "      <td>23.300000</td>\n",
       "      <td>2.000000</td>\n",
       "      <td>1.000000</td>\n",
       "    </tr>\n",
       "    <tr>\n",
       "      <th>max</th>\n",
       "      <td>0.007642</td>\n",
       "      <td>92.000000</td>\n",
       "      <td>0.010466</td>\n",
       "      <td>0.028524</td>\n",
       "      <td>28.799999</td>\n",
       "      <td>2.000000</td>\n",
       "      <td>1.000000</td>\n",
       "    </tr>\n",
       "  </tbody>\n",
       "</table>\n",
       "</div>"
      ],
      "text/plain": [
       "                  co       humidity            lpg          smoke  \\\n",
       "count  379648.000000  379648.000000  379648.000000  379648.000000   \n",
       "mean        0.004693      60.093119       0.007314       0.019473   \n",
       "std         0.001073      11.292180       0.001238       0.003507   \n",
       "min         0.002008      16.600000       0.003979       0.010153   \n",
       "25%         0.003958      50.900000       0.006502       0.017155   \n",
       "50%         0.004858      54.100000       0.007541       0.020099   \n",
       "75%         0.005455      74.099998       0.008201       0.021983   \n",
       "max         0.007642      92.000000       0.010466       0.028524   \n",
       "\n",
       "                temp      condition         lights  \n",
       "count  379648.000000  379648.000000  379648.000000  \n",
       "mean       22.371141       1.233983       0.267419  \n",
       "std         2.404998       0.833653       0.442613  \n",
       "min        15.600000       0.000000       0.000000  \n",
       "25%        20.000000       0.000000       0.000000  \n",
       "50%        22.300000       1.000000       0.000000  \n",
       "75%        23.300000       2.000000       1.000000  \n",
       "max        28.799999       2.000000       1.000000  "
      ]
     },
     "execution_count": 36,
     "metadata": {},
     "output_type": "execute_result"
    }
   ],
   "source": [
    "df.describe()"
   ]
  },
  {
   "cell_type": "code",
   "execution_count": 37,
   "id": "23757046",
   "metadata": {},
   "outputs": [
    {
     "data": {
      "text/html": [
       "<div>\n",
       "<style scoped>\n",
       "    .dataframe tbody tr th:only-of-type {\n",
       "        vertical-align: middle;\n",
       "    }\n",
       "\n",
       "    .dataframe tbody tr th {\n",
       "        vertical-align: top;\n",
       "    }\n",
       "\n",
       "    .dataframe thead th {\n",
       "        text-align: right;\n",
       "    }\n",
       "</style>\n",
       "<table border=\"1\" class=\"dataframe\">\n",
       "  <thead>\n",
       "    <tr style=\"text-align: right;\">\n",
       "      <th></th>\n",
       "      <th>co</th>\n",
       "      <th>humidity</th>\n",
       "      <th>lpg</th>\n",
       "      <th>smoke</th>\n",
       "      <th>temp</th>\n",
       "      <th>condition</th>\n",
       "      <th>lights</th>\n",
       "    </tr>\n",
       "  </thead>\n",
       "  <tbody>\n",
       "    <tr>\n",
       "      <th>count</th>\n",
       "      <td>379648.000000</td>\n",
       "      <td>379648.000000</td>\n",
       "      <td>379648.000000</td>\n",
       "      <td>379648.000000</td>\n",
       "      <td>379648.000000</td>\n",
       "      <td>379648.000000</td>\n",
       "      <td>379648.000000</td>\n",
       "    </tr>\n",
       "    <tr>\n",
       "      <th>mean</th>\n",
       "      <td>0.004693</td>\n",
       "      <td>60.093119</td>\n",
       "      <td>0.007314</td>\n",
       "      <td>0.019473</td>\n",
       "      <td>0.512965</td>\n",
       "      <td>1.233983</td>\n",
       "      <td>0.267419</td>\n",
       "    </tr>\n",
       "    <tr>\n",
       "      <th>std</th>\n",
       "      <td>0.001073</td>\n",
       "      <td>11.292180</td>\n",
       "      <td>0.001238</td>\n",
       "      <td>0.003507</td>\n",
       "      <td>0.182197</td>\n",
       "      <td>0.833653</td>\n",
       "      <td>0.442613</td>\n",
       "    </tr>\n",
       "    <tr>\n",
       "      <th>min</th>\n",
       "      <td>0.002008</td>\n",
       "      <td>16.600000</td>\n",
       "      <td>0.003979</td>\n",
       "      <td>0.010153</td>\n",
       "      <td>0.000000</td>\n",
       "      <td>0.000000</td>\n",
       "      <td>0.000000</td>\n",
       "    </tr>\n",
       "    <tr>\n",
       "      <th>25%</th>\n",
       "      <td>0.003958</td>\n",
       "      <td>50.900000</td>\n",
       "      <td>0.006502</td>\n",
       "      <td>0.017155</td>\n",
       "      <td>0.333333</td>\n",
       "      <td>0.000000</td>\n",
       "      <td>0.000000</td>\n",
       "    </tr>\n",
       "    <tr>\n",
       "      <th>50%</th>\n",
       "      <td>0.004858</td>\n",
       "      <td>54.100000</td>\n",
       "      <td>0.007541</td>\n",
       "      <td>0.020099</td>\n",
       "      <td>0.507576</td>\n",
       "      <td>1.000000</td>\n",
       "      <td>0.000000</td>\n",
       "    </tr>\n",
       "    <tr>\n",
       "      <th>75%</th>\n",
       "      <td>0.005455</td>\n",
       "      <td>74.099998</td>\n",
       "      <td>0.008201</td>\n",
       "      <td>0.021983</td>\n",
       "      <td>0.583333</td>\n",
       "      <td>2.000000</td>\n",
       "      <td>1.000000</td>\n",
       "    </tr>\n",
       "    <tr>\n",
       "      <th>max</th>\n",
       "      <td>0.007642</td>\n",
       "      <td>92.000000</td>\n",
       "      <td>0.010466</td>\n",
       "      <td>0.028524</td>\n",
       "      <td>1.000000</td>\n",
       "      <td>2.000000</td>\n",
       "      <td>1.000000</td>\n",
       "    </tr>\n",
       "  </tbody>\n",
       "</table>\n",
       "</div>"
      ],
      "text/plain": [
       "                  co       humidity            lpg          smoke  \\\n",
       "count  379648.000000  379648.000000  379648.000000  379648.000000   \n",
       "mean        0.004693      60.093119       0.007314       0.019473   \n",
       "std         0.001073      11.292180       0.001238       0.003507   \n",
       "min         0.002008      16.600000       0.003979       0.010153   \n",
       "25%         0.003958      50.900000       0.006502       0.017155   \n",
       "50%         0.004858      54.100000       0.007541       0.020099   \n",
       "75%         0.005455      74.099998       0.008201       0.021983   \n",
       "max         0.007642      92.000000       0.010466       0.028524   \n",
       "\n",
       "                temp      condition         lights  \n",
       "count  379648.000000  379648.000000  379648.000000  \n",
       "mean        0.512965       1.233983       0.267419  \n",
       "std         0.182197       0.833653       0.442613  \n",
       "min         0.000000       0.000000       0.000000  \n",
       "25%         0.333333       0.000000       0.000000  \n",
       "50%         0.507576       1.000000       0.000000  \n",
       "75%         0.583333       2.000000       1.000000  \n",
       "max         1.000000       2.000000       1.000000  "
      ]
     },
     "execution_count": 37,
     "metadata": {},
     "output_type": "execute_result"
    }
   ],
   "source": [
    "min_max= preprocessing.MinMaxScaler(feature_range=(0,1))\n",
    "df['temp']=min_max.fit_transform(df[['temp']])\n",
    "df.describe()"
   ]
  },
  {
   "cell_type": "code",
   "execution_count": 38,
   "id": "bd62186f",
   "metadata": {},
   "outputs": [
    {
     "data": {
      "text/html": [
       "<div>\n",
       "<style scoped>\n",
       "    .dataframe tbody tr th:only-of-type {\n",
       "        vertical-align: middle;\n",
       "    }\n",
       "\n",
       "    .dataframe tbody tr th {\n",
       "        vertical-align: top;\n",
       "    }\n",
       "\n",
       "    .dataframe thead th {\n",
       "        text-align: right;\n",
       "    }\n",
       "</style>\n",
       "<table border=\"1\" class=\"dataframe\">\n",
       "  <thead>\n",
       "    <tr style=\"text-align: right;\">\n",
       "      <th></th>\n",
       "      <th>co</th>\n",
       "      <th>humidity</th>\n",
       "      <th>lpg</th>\n",
       "      <th>smoke</th>\n",
       "      <th>temp</th>\n",
       "      <th>condition</th>\n",
       "      <th>lights</th>\n",
       "    </tr>\n",
       "  </thead>\n",
       "  <tbody>\n",
       "    <tr>\n",
       "      <th>count</th>\n",
       "      <td>379648.000000</td>\n",
       "      <td>379648.000000</td>\n",
       "      <td>379648.000000</td>\n",
       "      <td>379648.000000</td>\n",
       "      <td>379648.000000</td>\n",
       "      <td>379648.000000</td>\n",
       "      <td>379648.000000</td>\n",
       "    </tr>\n",
       "    <tr>\n",
       "      <th>mean</th>\n",
       "      <td>0.004693</td>\n",
       "      <td>0.576832</td>\n",
       "      <td>0.007314</td>\n",
       "      <td>0.019473</td>\n",
       "      <td>0.512965</td>\n",
       "      <td>1.233983</td>\n",
       "      <td>0.267419</td>\n",
       "    </tr>\n",
       "    <tr>\n",
       "      <th>std</th>\n",
       "      <td>0.001073</td>\n",
       "      <td>0.149764</td>\n",
       "      <td>0.001238</td>\n",
       "      <td>0.003507</td>\n",
       "      <td>0.182197</td>\n",
       "      <td>0.833653</td>\n",
       "      <td>0.442613</td>\n",
       "    </tr>\n",
       "    <tr>\n",
       "      <th>min</th>\n",
       "      <td>0.002008</td>\n",
       "      <td>0.000000</td>\n",
       "      <td>0.003979</td>\n",
       "      <td>0.010153</td>\n",
       "      <td>0.000000</td>\n",
       "      <td>0.000000</td>\n",
       "      <td>0.000000</td>\n",
       "    </tr>\n",
       "    <tr>\n",
       "      <th>25%</th>\n",
       "      <td>0.003958</td>\n",
       "      <td>0.454907</td>\n",
       "      <td>0.006502</td>\n",
       "      <td>0.017155</td>\n",
       "      <td>0.333333</td>\n",
       "      <td>0.000000</td>\n",
       "      <td>0.000000</td>\n",
       "    </tr>\n",
       "    <tr>\n",
       "      <th>50%</th>\n",
       "      <td>0.004858</td>\n",
       "      <td>0.497347</td>\n",
       "      <td>0.007541</td>\n",
       "      <td>0.020099</td>\n",
       "      <td>0.507576</td>\n",
       "      <td>1.000000</td>\n",
       "      <td>0.000000</td>\n",
       "    </tr>\n",
       "    <tr>\n",
       "      <th>75%</th>\n",
       "      <td>0.005455</td>\n",
       "      <td>0.762599</td>\n",
       "      <td>0.008201</td>\n",
       "      <td>0.021983</td>\n",
       "      <td>0.583333</td>\n",
       "      <td>2.000000</td>\n",
       "      <td>1.000000</td>\n",
       "    </tr>\n",
       "    <tr>\n",
       "      <th>max</th>\n",
       "      <td>0.007642</td>\n",
       "      <td>1.000000</td>\n",
       "      <td>0.010466</td>\n",
       "      <td>0.028524</td>\n",
       "      <td>1.000000</td>\n",
       "      <td>2.000000</td>\n",
       "      <td>1.000000</td>\n",
       "    </tr>\n",
       "  </tbody>\n",
       "</table>\n",
       "</div>"
      ],
      "text/plain": [
       "                  co       humidity            lpg          smoke  \\\n",
       "count  379648.000000  379648.000000  379648.000000  379648.000000   \n",
       "mean        0.004693       0.576832       0.007314       0.019473   \n",
       "std         0.001073       0.149764       0.001238       0.003507   \n",
       "min         0.002008       0.000000       0.003979       0.010153   \n",
       "25%         0.003958       0.454907       0.006502       0.017155   \n",
       "50%         0.004858       0.497347       0.007541       0.020099   \n",
       "75%         0.005455       0.762599       0.008201       0.021983   \n",
       "max         0.007642       1.000000       0.010466       0.028524   \n",
       "\n",
       "                temp      condition         lights  \n",
       "count  379648.000000  379648.000000  379648.000000  \n",
       "mean        0.512965       1.233983       0.267419  \n",
       "std         0.182197       0.833653       0.442613  \n",
       "min         0.000000       0.000000       0.000000  \n",
       "25%         0.333333       0.000000       0.000000  \n",
       "50%         0.507576       1.000000       0.000000  \n",
       "75%         0.583333       2.000000       1.000000  \n",
       "max         1.000000       2.000000       1.000000  "
      ]
     },
     "execution_count": 38,
     "metadata": {},
     "output_type": "execute_result"
    }
   ],
   "source": [
    "df['humidity']=min_max.fit_transform(df[['humidity']])\n",
    "df.describe()"
   ]
  },
  {
   "cell_type": "code",
   "execution_count": 39,
   "id": "09c6d3b5",
   "metadata": {},
   "outputs": [
    {
     "data": {
      "text/html": [
       "<div>\n",
       "<style scoped>\n",
       "    .dataframe tbody tr th:only-of-type {\n",
       "        vertical-align: middle;\n",
       "    }\n",
       "\n",
       "    .dataframe tbody tr th {\n",
       "        vertical-align: top;\n",
       "    }\n",
       "\n",
       "    .dataframe thead th {\n",
       "        text-align: right;\n",
       "    }\n",
       "</style>\n",
       "<table border=\"1\" class=\"dataframe\">\n",
       "  <thead>\n",
       "    <tr style=\"text-align: right;\">\n",
       "      <th></th>\n",
       "      <th>co</th>\n",
       "      <th>humidity</th>\n",
       "      <th>lpg</th>\n",
       "      <th>smoke</th>\n",
       "      <th>temp</th>\n",
       "      <th>condition</th>\n",
       "      <th>lights</th>\n",
       "    </tr>\n",
       "  </thead>\n",
       "  <tbody>\n",
       "    <tr>\n",
       "      <th>count</th>\n",
       "      <td>379648.000000</td>\n",
       "      <td>379648.000000</td>\n",
       "      <td>379648.000000</td>\n",
       "      <td>379648.000000</td>\n",
       "      <td>379648.000000</td>\n",
       "      <td>379648.000000</td>\n",
       "      <td>379648.000000</td>\n",
       "    </tr>\n",
       "    <tr>\n",
       "      <th>mean</th>\n",
       "      <td>0.004693</td>\n",
       "      <td>0.576832</td>\n",
       "      <td>0.007314</td>\n",
       "      <td>0.507305</td>\n",
       "      <td>0.512965</td>\n",
       "      <td>1.233983</td>\n",
       "      <td>0.267419</td>\n",
       "    </tr>\n",
       "    <tr>\n",
       "      <th>std</th>\n",
       "      <td>0.001073</td>\n",
       "      <td>0.149764</td>\n",
       "      <td>0.001238</td>\n",
       "      <td>0.190894</td>\n",
       "      <td>0.182197</td>\n",
       "      <td>0.833653</td>\n",
       "      <td>0.442613</td>\n",
       "    </tr>\n",
       "    <tr>\n",
       "      <th>min</th>\n",
       "      <td>0.002008</td>\n",
       "      <td>0.000000</td>\n",
       "      <td>0.003979</td>\n",
       "      <td>0.000000</td>\n",
       "      <td>0.000000</td>\n",
       "      <td>0.000000</td>\n",
       "      <td>0.000000</td>\n",
       "    </tr>\n",
       "    <tr>\n",
       "      <th>25%</th>\n",
       "      <td>0.003958</td>\n",
       "      <td>0.454907</td>\n",
       "      <td>0.006502</td>\n",
       "      <td>0.381140</td>\n",
       "      <td>0.333333</td>\n",
       "      <td>0.000000</td>\n",
       "      <td>0.000000</td>\n",
       "    </tr>\n",
       "    <tr>\n",
       "      <th>50%</th>\n",
       "      <td>0.004858</td>\n",
       "      <td>0.497347</td>\n",
       "      <td>0.007541</td>\n",
       "      <td>0.541375</td>\n",
       "      <td>0.507576</td>\n",
       "      <td>1.000000</td>\n",
       "      <td>0.000000</td>\n",
       "    </tr>\n",
       "    <tr>\n",
       "      <th>75%</th>\n",
       "      <td>0.005455</td>\n",
       "      <td>0.762599</td>\n",
       "      <td>0.008201</td>\n",
       "      <td>0.643928</td>\n",
       "      <td>0.583333</td>\n",
       "      <td>2.000000</td>\n",
       "      <td>1.000000</td>\n",
       "    </tr>\n",
       "    <tr>\n",
       "      <th>max</th>\n",
       "      <td>0.007642</td>\n",
       "      <td>1.000000</td>\n",
       "      <td>0.010466</td>\n",
       "      <td>1.000000</td>\n",
       "      <td>1.000000</td>\n",
       "      <td>2.000000</td>\n",
       "      <td>1.000000</td>\n",
       "    </tr>\n",
       "  </tbody>\n",
       "</table>\n",
       "</div>"
      ],
      "text/plain": [
       "                  co       humidity            lpg          smoke  \\\n",
       "count  379648.000000  379648.000000  379648.000000  379648.000000   \n",
       "mean        0.004693       0.576832       0.007314       0.507305   \n",
       "std         0.001073       0.149764       0.001238       0.190894   \n",
       "min         0.002008       0.000000       0.003979       0.000000   \n",
       "25%         0.003958       0.454907       0.006502       0.381140   \n",
       "50%         0.004858       0.497347       0.007541       0.541375   \n",
       "75%         0.005455       0.762599       0.008201       0.643928   \n",
       "max         0.007642       1.000000       0.010466       1.000000   \n",
       "\n",
       "                temp      condition         lights  \n",
       "count  379648.000000  379648.000000  379648.000000  \n",
       "mean        0.512965       1.233983       0.267419  \n",
       "std         0.182197       0.833653       0.442613  \n",
       "min         0.000000       0.000000       0.000000  \n",
       "25%         0.333333       0.000000       0.000000  \n",
       "50%         0.507576       1.000000       0.000000  \n",
       "75%         0.583333       2.000000       1.000000  \n",
       "max         1.000000       2.000000       1.000000  "
      ]
     },
     "execution_count": 39,
     "metadata": {},
     "output_type": "execute_result"
    }
   ],
   "source": [
    "df['smoke']=min_max.fit_transform(df[['smoke']])\n",
    "df.describe()"
   ]
  },
  {
   "cell_type": "code",
   "execution_count": 40,
   "id": "4da34591",
   "metadata": {},
   "outputs": [
    {
     "data": {
      "text/html": [
       "<div>\n",
       "<style scoped>\n",
       "    .dataframe tbody tr th:only-of-type {\n",
       "        vertical-align: middle;\n",
       "    }\n",
       "\n",
       "    .dataframe tbody tr th {\n",
       "        vertical-align: top;\n",
       "    }\n",
       "\n",
       "    .dataframe thead th {\n",
       "        text-align: right;\n",
       "    }\n",
       "</style>\n",
       "<table border=\"1\" class=\"dataframe\">\n",
       "  <thead>\n",
       "    <tr style=\"text-align: right;\">\n",
       "      <th></th>\n",
       "      <th>co</th>\n",
       "      <th>humidity</th>\n",
       "      <th>lpg</th>\n",
       "      <th>smoke</th>\n",
       "      <th>temp</th>\n",
       "      <th>condition</th>\n",
       "      <th>lights</th>\n",
       "    </tr>\n",
       "  </thead>\n",
       "  <tbody>\n",
       "    <tr>\n",
       "      <th>count</th>\n",
       "      <td>379648.000000</td>\n",
       "      <td>379648.000000</td>\n",
       "      <td>379648.000000</td>\n",
       "      <td>379648.000000</td>\n",
       "      <td>379648.000000</td>\n",
       "      <td>379648.000000</td>\n",
       "      <td>379648.000000</td>\n",
       "    </tr>\n",
       "    <tr>\n",
       "      <th>mean</th>\n",
       "      <td>0.004693</td>\n",
       "      <td>0.576832</td>\n",
       "      <td>0.514048</td>\n",
       "      <td>0.507305</td>\n",
       "      <td>0.512965</td>\n",
       "      <td>1.233983</td>\n",
       "      <td>0.267419</td>\n",
       "    </tr>\n",
       "    <tr>\n",
       "      <th>std</th>\n",
       "      <td>0.001073</td>\n",
       "      <td>0.149764</td>\n",
       "      <td>0.190897</td>\n",
       "      <td>0.190894</td>\n",
       "      <td>0.182197</td>\n",
       "      <td>0.833653</td>\n",
       "      <td>0.442613</td>\n",
       "    </tr>\n",
       "    <tr>\n",
       "      <th>min</th>\n",
       "      <td>0.002008</td>\n",
       "      <td>0.000000</td>\n",
       "      <td>0.000000</td>\n",
       "      <td>0.000000</td>\n",
       "      <td>0.000000</td>\n",
       "      <td>0.000000</td>\n",
       "      <td>0.000000</td>\n",
       "    </tr>\n",
       "    <tr>\n",
       "      <th>25%</th>\n",
       "      <td>0.003958</td>\n",
       "      <td>0.454907</td>\n",
       "      <td>0.388925</td>\n",
       "      <td>0.381140</td>\n",
       "      <td>0.333333</td>\n",
       "      <td>0.000000</td>\n",
       "      <td>0.000000</td>\n",
       "    </tr>\n",
       "    <tr>\n",
       "      <th>50%</th>\n",
       "      <td>0.004858</td>\n",
       "      <td>0.497347</td>\n",
       "      <td>0.549114</td>\n",
       "      <td>0.541375</td>\n",
       "      <td>0.507576</td>\n",
       "      <td>1.000000</td>\n",
       "      <td>0.000000</td>\n",
       "    </tr>\n",
       "    <tr>\n",
       "      <th>75%</th>\n",
       "      <td>0.005455</td>\n",
       "      <td>0.762599</td>\n",
       "      <td>0.650838</td>\n",
       "      <td>0.643928</td>\n",
       "      <td>0.583333</td>\n",
       "      <td>2.000000</td>\n",
       "      <td>1.000000</td>\n",
       "    </tr>\n",
       "    <tr>\n",
       "      <th>max</th>\n",
       "      <td>0.007642</td>\n",
       "      <td>1.000000</td>\n",
       "      <td>1.000000</td>\n",
       "      <td>1.000000</td>\n",
       "      <td>1.000000</td>\n",
       "      <td>2.000000</td>\n",
       "      <td>1.000000</td>\n",
       "    </tr>\n",
       "  </tbody>\n",
       "</table>\n",
       "</div>"
      ],
      "text/plain": [
       "                  co       humidity            lpg          smoke  \\\n",
       "count  379648.000000  379648.000000  379648.000000  379648.000000   \n",
       "mean        0.004693       0.576832       0.514048       0.507305   \n",
       "std         0.001073       0.149764       0.190897       0.190894   \n",
       "min         0.002008       0.000000       0.000000       0.000000   \n",
       "25%         0.003958       0.454907       0.388925       0.381140   \n",
       "50%         0.004858       0.497347       0.549114       0.541375   \n",
       "75%         0.005455       0.762599       0.650838       0.643928   \n",
       "max         0.007642       1.000000       1.000000       1.000000   \n",
       "\n",
       "                temp      condition         lights  \n",
       "count  379648.000000  379648.000000  379648.000000  \n",
       "mean        0.512965       1.233983       0.267419  \n",
       "std         0.182197       0.833653       0.442613  \n",
       "min         0.000000       0.000000       0.000000  \n",
       "25%         0.333333       0.000000       0.000000  \n",
       "50%         0.507576       1.000000       0.000000  \n",
       "75%         0.583333       2.000000       1.000000  \n",
       "max         1.000000       2.000000       1.000000  "
      ]
     },
     "execution_count": 40,
     "metadata": {},
     "output_type": "execute_result"
    }
   ],
   "source": [
    "df['lpg']=min_max.fit_transform(df[['lpg']])\n",
    "df.describe()"
   ]
  },
  {
   "cell_type": "markdown",
   "id": "b567f2e8",
   "metadata": {},
   "source": [
    "# Exploratory Data Analysis"
   ]
  },
  {
   "cell_type": "code",
   "execution_count": 41,
   "id": "45999a1c",
   "metadata": {},
   "outputs": [
    {
     "data": {
      "text/plain": [
       "<AxesSubplot:xlabel='condition', ylabel='count'>"
      ]
     },
     "execution_count": 41,
     "metadata": {},
     "output_type": "execute_result"
    },
    {
     "data": {
      "image/png": "[encoded data removed]",
      "text/plain": [
       "<Figure size 432x288 with 1 Axes>"
      ]
     },
     "metadata": {},
     "output_type": "display_data"
    }
   ],
   "source": [
    "sns.set_style('darkgrid')\n",
    "sns.countplot('condition', hue='lights',palette=\"rocket\", edgecolor=\n",
    "              sns.color_palette(\"dark\", 3),linewidth=2, data=df)"
   ]
  },
  {
   "cell_type": "code",
   "execution_count": 61,
   "id": "a29c7660",
   "metadata": {},
   "outputs": [
    {
     "data": {
      "text/plain": [
       "<AxesSubplot:xlabel='co', ylabel='humidity'>"
      ]
     },
     "execution_count": 61,
     "metadata": {},
     "output_type": "execute_result"
    },
    {
     "data": {
      "image/png": "[encoded data removed]",
      "text/plain": [
       "<Figure size 1440x1080 with 1 Axes>"
      ]
     },
     "metadata": {},
     "output_type": "display_data"
    }
   ],
   "source": [
    "plt.figure(figsize=(20,15))\n",
    "sns.barplot( 'co','humidity', data= df)"
   ]
  },
  {
   "cell_type": "code",
   "execution_count": 42,
   "id": "a674d7b2",
   "metadata": {},
   "outputs": [
    {
     "data": {
      "image/png": "[encoded data removed]",
      "text/plain": [
       "<Figure size 432x288 with 1 Axes>"
      ]
     },
     "metadata": {},
     "output_type": "display_data"
    }
   ],
   "source": [
    "fig = plt.figure()\n",
    "ax = fig.gca(projection='3d')\n",
    "ax.plot_trisurf(df['temp'], df['co'], df['smoke'], cmap = plt.cm.twilight_shifted)\n",
    "plt.title('Relation between Carbon di oxide levels, Smoke and Temperature.')\n",
    "plt.xlabel('co')\n",
    "plt.ylabel('smoke')\n",
    "plt.show()"
   ]
  },
  {
   "cell_type": "markdown",
   "id": "79de9d74",
   "metadata": {},
   "source": [
    "# 1. Univariate Analysis"
   ]
  },
  {
   "cell_type": "code",
   "execution_count": 43,
   "id": "b2900a82",
   "metadata": {},
   "outputs": [
    {
     "data": {
      "image/png": "[encoded data removed]",
      "text/plain": [
       "<Figure size 576x432 with 1 Axes>"
      ]
     },
     "metadata": {},
     "output_type": "display_data"
    },
    {
     "data": {
      "image/png": "[encoded data removed]",
      "text/plain": [
       "<Figure size 576x432 with 1 Axes>"
      ]
     },
     "metadata": {},
     "output_type": "display_data"
    },
    {
     "data": {
      "image/png": "[encoded data removed]",
      "text/plain": [
       "<Figure size 576x432 with 1 Axes>"
      ]
     },
     "metadata": {},
     "output_type": "display_data"
    },
    {
     "data": {
      "image/png": "[encoded data removed]",
      "text/plain": [
       "<Figure size 576x432 with 1 Axes>"
      ]
     },
     "metadata": {},
     "output_type": "display_data"
    },
    {
     "data": {
      "image/png": "[encoded data removed]",
      "text/plain": [
       "<Figure size 576x432 with 1 Axes>"
      ]
     },
     "metadata": {},
     "output_type": "display_data"
    }
   ],
   "source": [
    "for i in df.columns:\n",
    "    if df[i].nunique() > 5:\n",
    "        plt.figure(figsize=(8, 6))\n",
    "        sns.kdeplot(x=i, data=df)\n",
    "        plt.show()"
   ]
  },
  {
   "cell_type": "code",
   "execution_count": 44,
   "id": "c8357f12",
   "metadata": {},
   "outputs": [],
   "source": [
    "def barplot(columnname):\n",
    "    val = df[columnname]\n",
    "    valCount = val.value_counts()\n",
    "    \n",
    "    plt.figure(figsize=(10, 6))\n",
    "    sns.barplot(valCount.index, valCount)\n",
    "    plt.title(columnname)\n",
    "    plt.ylabel('Frequency')\n",
    "    plt.show()"
   ]
  },
  {
   "cell_type": "code",
   "execution_count": 45,
   "id": "2f7befee",
   "metadata": {},
   "outputs": [
    {
     "data": {
      "image/png": "[encoded data removed]",
      "text/plain": [
       "<Figure size 720x432 with 1 Axes>"
      ]
     },
     "metadata": {},
     "output_type": "display_data"
    },
    {
     "data": {
      "image/png": "[encoded data removed]",
      "text/plain": [
       "<Figure size 720x432 with 1 Axes>"
      ]
     },
     "metadata": {},
     "output_type": "display_data"
    }
   ],
   "source": [
    "for i in df.columns:\n",
    "    if df[i].nunique() <= 5:\n",
    "        barplot(i)"
   ]
  },
  {
   "cell_type": "markdown",
   "id": "1c78be28",
   "metadata": {},
   "source": [
    "# 2.Bivariate analysis"
   ]
  },
  {
   "cell_type": "code",
   "execution_count": 46,
   "id": "6b12037d",
   "metadata": {},
   "outputs": [
    {
     "data": {
      "image/png": "[encoded data removed]",
      "text/plain": [
       "<Figure size 576x432 with 1 Axes>"
      ]
     },
     "metadata": {},
     "output_type": "display_data"
    },
    {
     "data": {
      "image/png": "[encoded data removed]",
      "text/plain": [
       "<Figure size 576x432 with 1 Axes>"
      ]
     },
     "metadata": {},
     "output_type": "display_data"
    },
    {
     "data": {
      "image/png": "[encoded data removed]",
      "text/plain": [
       "<Figure size 576x432 with 1 Axes>"
      ]
     },
     "metadata": {},
     "output_type": "display_data"
    },
    {
     "data": {
      "image/png": "[encoded data removed]",
      "text/plain": [
       "<Figure size 576x432 with 1 Axes>"
      ]
     },
     "metadata": {},
     "output_type": "display_data"
    },
    {
     "data": {
      "image/png": "[encoded data removed]",
      "text/plain": [
       "<Figure size 576x432 with 1 Axes>"
      ]
     },
     "metadata": {},
     "output_type": "display_data"
    }
   ],
   "source": [
    "for k in df.columns:\n",
    "    if df[k].nunique() > 5:\n",
    "        plt.figure(figsize=(8, 6))\n",
    "        sns.boxplot(x=df['condition'], y=df[k])\n",
    "        plt.show()"
   ]
  },
  {
   "cell_type": "code",
   "execution_count": 47,
   "id": "25451b8a",
   "metadata": {},
   "outputs": [
    {
     "data": {
      "text/plain": [
       "<AxesSubplot:>"
      ]
     },
     "execution_count": 47,
     "metadata": {},
     "output_type": "execute_result"
    },
    {
     "data": {
      "image/png": "[encoded data removed]",
      "text/plain": [
       "<Figure size 720x576 with 2 Axes>"
      ]
     },
     "metadata": {},
     "output_type": "display_data"
    }
   ],
   "source": [
    "dataCorr = df.drop(['lights', 'condition'], axis=1)\n",
    "corr = dataCorr.corr()\n",
    "plt.figure(figsize=(10, 8))\n",
    "sns.heatmap(corr, annot=True, linewidths=.5)"
   ]
  },
  {
   "cell_type": "markdown",
   "id": "1a58dc0c",
   "metadata": {},
   "source": [
    "# Modelling"
   ]
  },
  {
   "cell_type": "code",
   "execution_count": 48,
   "id": "b0fec2a6",
   "metadata": {},
   "outputs": [],
   "source": [
    "y = df['condition']\n",
    "X = df[['temp', 'humidity', 'lights']]"
   ]
  },
  {
   "cell_type": "code",
   "execution_count": 49,
   "id": "8e41131a",
   "metadata": {},
   "outputs": [],
   "source": [
    "from sklearn.model_selection import train_test_split\n",
    "\n",
    "x_train, x_test, y_train, y_test= train_test_split(X, y, test_size=0.2, random_state=0)"
   ]
  },
  {
   "cell_type": "code",
   "execution_count": 50,
   "id": "ee12b317",
   "metadata": {},
   "outputs": [
    {
     "name": "stdout",
     "output_type": "stream",
     "text": [
      "MSE is :  0.11680821933351156\n",
      "R Squared Value is :  0.8320395397295819\n"
     ]
    }
   ],
   "source": [
    "#Linear regression\n",
    "lr= linear_model.LinearRegression()\n",
    "model=lr.fit(x_train, y_train)\n",
    "predictions= model.predict(x_test)\n",
    "print(\"MSE is : \", mean_squared_error(y_test, predictions))\n",
    "print('R Squared Value is : ', r2_score(y_test,predictions))"
   ]
  },
  {
   "cell_type": "code",
   "execution_count": 51,
   "id": "cf33c547",
   "metadata": {},
   "outputs": [
    {
     "name": "stdout",
     "output_type": "stream",
     "text": [
      "accuracy_score 0.9997365994995391\n",
      "precision_score 0.9997366446804331\n",
      "f1_score 0.9997365876720637\n",
      "comfusion matrix:  [[19637     0    12]\n",
      " [    6 19048     2]\n",
      " [    0     0 37225]]\n"
     ]
    }
   ],
   "source": [
    "# Logistic regression\n",
    "from sklearn.linear_model import LogisticRegression\n",
    "logic_model=LogisticRegression()\n",
    "logic_model.fit(x_train,y_train)\n",
    "y_pred = logic_model.predict(x_test)\n",
    "\n",
    "from sklearn.metrics import confusion_matrix,accuracy_score,precision_score,f1_score,recall_score\n",
    "print('accuracy_score',accuracy_score(y_test,y_pred))\n",
    "print('precision_score',precision_score(y_test,y_pred,average=\"weighted\"))\n",
    "print('f1_score',f1_score(y_test,y_pred,average=\"weighted\"))\n",
    "print('comfusion matrix: ',confusion_matrix(y_test,y_pred))"
   ]
  },
  {
   "cell_type": "code",
   "execution_count": 52,
   "id": "6eca3539",
   "metadata": {},
   "outputs": [
    {
     "name": "stdout",
     "output_type": "stream",
     "text": [
      "accuracy_score 0.9999736599499539\n",
      "precision_score 0.9999736626307386\n",
      "f1_score 0.9999736599290259\n",
      "comfusion matrix:  [[19649     0     0]\n",
      " [    2 19054     0]\n",
      " [    0     0 37225]]\n"
     ]
    }
   ],
   "source": [
    "# decision Tree classifier\n",
    "from sklearn.tree import DecisionTreeClassifier\n",
    "dtc= DecisionTreeClassifier()\n",
    "dtc.fit(x_train,y_train)\n",
    "y_pred = dtc.predict(x_test)\n",
    "\n",
    "print('accuracy_score',accuracy_score(y_test,y_pred))\n",
    "print('precision_score',precision_score(y_test,y_pred,average=\"weighted\"))\n",
    "print('f1_score',f1_score(y_test,y_pred,average=\"weighted\"))\n",
    "print('comfusion matrix: ',confusion_matrix(y_test,y_pred))"
   ]
  },
  {
   "cell_type": "code",
   "execution_count": 53,
   "id": "a510848b",
   "metadata": {},
   "outputs": [
    {
     "name": "stdout",
     "output_type": "stream",
     "text": [
      "accuracy_score 0.9999078098248386\n",
      "precision_score 0.9999078343007765\n",
      "f1_score 0.9999078074769424\n",
      "comfusion matrix:  [[19649     0     0]\n",
      " [    6 19049     1]\n",
      " [    0     0 37225]]\n"
     ]
    }
   ],
   "source": [
    "#Support Vector Machine\n",
    "from sklearn import svm\n",
    "svmc= svm.SVC()\n",
    "svmc.fit(x_train,y_train) \n",
    "y_pred = svmc.predict(x_test)\n",
    "\n",
    "print('accuracy_score',accuracy_score(y_test,y_pred))\n",
    "print('precision_score',precision_score(y_test,y_pred,average=\"weighted\"))\n",
    "print('f1_score',f1_score(y_test,y_pred,average=\"weighted\"))\n",
    "print('comfusion matrix: ',confusion_matrix(y_test,y_pred))"
   ]
  },
  {
   "cell_type": "code",
   "execution_count": 54,
   "id": "6801a563",
   "metadata": {},
   "outputs": [
    {
     "name": "stdout",
     "output_type": "stream",
     "text": [
      "accuracy_score 0.9999736599499539\n",
      "precision_score 0.9999736599499539\n",
      "f1_score 0.9999736599499539\n",
      "comfusion matrix:  [[19648     1     0]\n",
      " [    1 19055     0]\n",
      " [    0     0 37225]]\n"
     ]
    }
   ],
   "source": [
    "#KNN\n",
    "from sklearn.neighbors import KNeighborsClassifier\n",
    "knnc = KNeighborsClassifier(n_neighbors=3)\n",
    "knnc.fit(x_train,y_train)\n",
    "y_pred = knnc.predict(x_test)\n",
    "\n",
    "print('accuracy_score',accuracy_score(y_test,y_pred))\n",
    "print('precision_score',precision_score(y_test,y_pred,average=\"weighted\"))\n",
    "print('f1_score',f1_score(y_test,y_pred,average=\"weighted\"))\n",
    "print('comfusion matrix: ',confusion_matrix(y_test,y_pred))"
   ]
  },
  {
   "cell_type": "code",
   "execution_count": 55,
   "id": "32b3badd",
   "metadata": {},
   "outputs": [
    {
     "name": "stdout",
     "output_type": "stream",
     "text": [
      "accuracy_score 0.9999736599499539\n",
      "precision_score 0.9999736626307386\n",
      "f1_score 0.9999736599290259\n",
      "comfusion matrix:  [[19649     0     0]\n",
      " [    2 19054     0]\n",
      " [    0     0 37225]]\n"
     ]
    }
   ],
   "source": [
    "from sklearn.ensemble import RandomForestClassifier\n",
    "rf=RandomForestClassifier()\n",
    "rf.fit(x_train,y_train)\n",
    "y_pred=rf.predict(x_test)\n",
    "\n",
    "\n",
    "print('accuracy_score',accuracy_score(y_test,y_pred))\n",
    "print('precision_score',precision_score(y_test,y_pred,average=\"weighted\"))\n",
    "print('f1_score',f1_score(y_test,y_pred,average=\"weighted\"))\n",
    "print('comfusion matrix: ',confusion_matrix(y_test,y_pred))"
   ]
  },
  {
   "cell_type": "markdown",
   "id": "1e0ddc81",
   "metadata": {},
   "source": [
    "Accuracy score and precisions scores are approximately equal for all modelling"
   ]
  },
  {
   "cell_type": "markdown",
   "id": "4e9077df",
   "metadata": {},
   "source": [
    "# Model Fine Tuning"
   ]
  },
  {
   "cell_type": "markdown",
   "id": "68b45271",
   "metadata": {},
   "source": [
    "# SVM"
   ]
  },
  {
   "cell_type": "code",
   "execution_count": 56,
   "id": "0e799aa4",
   "metadata": {},
   "outputs": [],
   "source": [
    "# Polynomial SVM\n",
    "svm_poly = svm.SVC(kernel ='poly', degree=3, gamma ='auto')\n",
    "svm_poly.fit(x_train, y_train)\n",
    "y_pred = svm_poly.predict(x_test)"
   ]
  },
  {
   "cell_type": "code",
   "execution_count": 57,
   "id": "5f7b6fc2",
   "metadata": {},
   "outputs": [
    {
     "name": "stdout",
     "output_type": "stream",
     "text": [
      "              precision    recall  f1-score   support\n",
      "\n",
      "           0       1.00      1.00      1.00     19649\n",
      "           1       1.00      1.00      1.00     19056\n",
      "           2       1.00      1.00      1.00     37225\n",
      "\n",
      "    accuracy                           1.00     75930\n",
      "   macro avg       1.00      1.00      1.00     75930\n",
      "weighted avg       1.00      1.00      1.00     75930\n",
      "\n"
     ]
    }
   ],
   "source": [
    "from sklearn import metrics\n",
    "# For testing the goodness of fit of model\n",
    "# generate evaluation metrics\n",
    "print(metrics.classification_report(y_test, y_pred))"
   ]
  },
  {
   "cell_type": "code",
   "execution_count": 58,
   "id": "375ad95c",
   "metadata": {},
   "outputs": [
    {
     "name": "stdout",
     "output_type": "stream",
     "text": [
      "The accuracy score using polynomial svm is  0.9999078098248386\n"
     ]
    }
   ],
   "source": [
    "svm_poly = svm.SVC(kernel ='rbf', decision_function_shape ='ovo', random_state=10, degree=5)\n",
    "svm_poly.fit(x_train, y_train)\n",
    "y_pred = svm_poly.predict(x_test)\n",
    "print(\"The accuracy score using polynomial svm is \", accuracy_score(y_test,y_pred))"
   ]
  },
  {
   "cell_type": "code",
   "execution_count": 59,
   "id": "c648891b",
   "metadata": {},
   "outputs": [
    {
     "name": "stdout",
     "output_type": "stream",
     "text": [
      "The accuracy score using radial svm is  0.9999078098248386\n"
     ]
    }
   ],
   "source": [
    "# Radial SVM\n",
    "svm_radial = svm.SVC(kernel ='rbf')\n",
    "svm_radial.fit(x_train, y_train)\n",
    "y_pred = svm_radial.predict(x_test)\n",
    "print(\"The accuracy score using radial svm is \", accuracy_score(y_test,y_pred))"
   ]
  },
  {
   "cell_type": "markdown",
   "id": "f037634c",
   "metadata": {},
   "source": [
    "# Random Forest"
   ]
  },
  {
   "cell_type": "code",
   "execution_count": 60,
   "id": "54dd3c58",
   "metadata": {},
   "outputs": [
    {
     "name": "stdout",
     "output_type": "stream",
     "text": [
      "The accuracy score using modified  random forest classifier is  0.9999736599499539\n"
     ]
    }
   ],
   "source": [
    "rft = RandomForestClassifier(n_estimators = 100, max_depth=15, random_state=0, criterion = \"entropy\")\n",
    "rft.fit(x_train, y_train)\n",
    "y_pred = rft.predict(x_test)\n",
    "print(\"The accuracy score using modified  random forest classifier is \", accuracy_score(y_test,y_pred))"
   ]
  }
 ],
 "metadata": {
  "kernelspec": {
   "display_name": "Python 3",
   "language": "python",
   "name": "python3"
  },
  "language_info": {
   "codemirror_mode": {
    "name": "ipython",
    "version": 3
   },
   "file_extension": ".py",
   "mimetype": "text/x-python",
   "name": "python",
   "nbconvert_exporter": "python",
   "pygments_lexer": "ipython3",
   "version": "3.8.8"
  }
 },
 "nbformat": 4,
 "nbformat_minor": 5
}
